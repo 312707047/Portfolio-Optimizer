{
 "cells": [
  {
   "cell_type": "markdown",
   "metadata": {
    "colab_type": "text",
    "id": "view-in-github"
   },
   "source": [
    "<a href=\"https://colab.research.google.com/github/novis10813/Portfolio-Optimizer/blob/main/Autoencoder_.ipynb\" target=\"_parent\"><img src=\"https://colab.research.google.com/assets/colab-badge.svg\" alt=\"Open In Colab\"/></a>"
   ]
  },
  {
   "cell_type": "markdown",
   "metadata": {
    "id": "fEAv3N-SZ7Sk"
   },
   "source": [
    "跑完這邊直接拿\n",
    "1. encoded_train\n",
    "2. encoded_test\n",
    "\n",
    "內部皆儲存3維Tensor\n",
    "\n"
   ]
  },
  {
   "cell_type": "code",
   "execution_count": 186,
   "metadata": {
    "id": "MgDuqy1VnKVE"
   },
   "outputs": [],
   "source": [
    "import numpy as np\n",
    "import pandas as pd\n",
    "from matplotlib import pyplot as plt\n",
    "from tqdm import tqdm\n",
    "from sklearn.preprocessing import MinMaxScaler\n",
    "import torch\n",
    "import torch.nn as nn\n",
    "from torch.autograd import Variable\n",
    "from torch.utils.data import Dataset,DataLoader\n",
    "\n",
    "\n",
    "window_length = 60\n",
    "test_samples = int(814*0.2)\n",
    "asset_list = ['SPY', 'IVV', 'VTI', 'VOO', 'QQQ', 'BTC', 'ETH', 'USDC-USD']"
   ]
  },
  {
   "cell_type": "code",
   "execution_count": 265,
   "metadata": {
    "id": "DzzbG1GMnNjA"
   },
   "outputs": [],
   "source": [
    "\"\"\"\n",
    "Read data and make percentage change\n",
    "\"\"\"\n",
    "prices_data = pd.read_csv('/content/close_price.csv')\n",
    "\n",
    "df = prices_data.copy().drop(['Unnamed: 0'], axis = 1)\n",
    "df = df.set_index(['date'])\n",
    "\n",
    "df_pct_change = df.pct_change(1).astype(float)\n",
    "df_pct_change = df_pct_change.tail(len(df_pct_change) - 1)"
   ]
  },
  {
   "cell_type": "code",
   "execution_count": 266,
   "metadata": {
    "colab": {
     "base_uri": "https://localhost:8080/"
    },
    "id": "wls4mo0RnmbZ",
    "outputId": "dbe30d65-3855-498f-d0c9-adb80d038065"
   },
   "outputs": [
    {
     "name": "stdout",
     "output_type": "stream",
     "text": [
      "[[[-7.32224686e-03 -2.86865137e-03 -1.45929995e-03 ... -1.28535587e-03\n",
      "    4.63974283e-03 -1.76267532e-03]]\n",
      "\n",
      " [[-8.32064871e-03 -3.71427019e-03 -3.16635845e-02 ... -3.22948283e-02\n",
      "    2.74112928e-03 -3.18480297e-02]]\n",
      "\n",
      " [[-1.54364903e-01 -5.73007617e-02 -2.20260693e-02 ... -2.10484289e-02\n",
      "    1.58572615e-04 -2.13231468e-02]]\n",
      "\n",
      " ...\n",
      "\n",
      " [[ 1.34364761e-01 -2.62310340e-02 -9.90238397e-03 ... -9.79302189e-03\n",
      "   -5.99576554e-05 -1.17486735e-02]]\n",
      "\n",
      " [[ 5.68263440e-02  1.52165293e-02 -8.92464389e-03 ... -8.77081527e-03\n",
      "    1.49962730e-04 -8.04871112e-03]]\n",
      "\n",
      " [[-8.21909191e-02 -1.25303577e-01 -2.12452587e-02 ... -2.13464309e-02\n",
      "   -6.99641681e-05 -2.25238274e-02]]]\n"
     ]
    }
   ],
   "source": [
    "\"\"\"\n",
    "Transfer data into tensor\n",
    "\"\"\"\n",
    "df_test = df_pct_change.reset_index(drop = True)[-test_samples:]\n",
    "df_train = df_pct_change.reset_index(drop = True)[:-test_samples]\n",
    "\n",
    "\n",
    "L = len(df_train)\n",
    "l = len(df_test)\n",
    "\n",
    "\n",
    "df_train = df_train.T\n",
    "df_train = df_train.reset_index(drop = True)\n",
    "df_train = np.array(df_train.T).reshape(L,1,8)\n",
    "print(df_train)\n",
    "\n",
    "\n",
    "\n"
   ]
  },
  {
   "cell_type": "code",
   "execution_count": 267,
   "metadata": {
    "colab": {
     "base_uri": "https://localhost:8080/"
    },
    "id": "Ti79vUca5_oy",
    "outputId": "32b59a1d-e3cb-4c7b-9d7a-0bb431f6e716"
   },
   "outputs": [
    {
     "name": "stdout",
     "output_type": "stream",
     "text": [
      "[[[-2.97846231e-02  2.43575779e-03  1.20124964e-02 ...  1.18852975e-02\n",
      "   -2.73022385e-04  1.10204216e-02]]\n",
      "\n",
      " [[ 9.70952806e-02  3.04342925e-03  1.53552118e-02 ...  1.53515982e-02\n",
      "    1.38009044e-04  1.70818976e-02]]\n",
      "\n",
      " [[-1.94817211e-01 -1.26403193e-01 -2.54438611e-03 ... -2.40240808e-03\n",
      "    1.38049607e-04 -2.13409372e-03]]\n",
      "\n",
      " ...\n",
      "\n",
      " [[-4.28757522e-02 -2.26471078e-02  1.27920187e-03 ...  1.20866901e-03\n",
      "   -1.37684183e-03  5.77382259e-04]]\n",
      "\n",
      " [[ 2.19370229e-02  1.41081048e-02 -2.76452628e-03 ... -2.82454193e-03\n",
      "    8.83397969e-04 -1.60754795e-03]]\n",
      "\n",
      " [[-8.57796764e-03 -1.95155506e-02 -2.52017279e-03 ... -2.74112284e-03\n",
      "   -3.06857765e-04 -3.17906973e-03]]]\n"
     ]
    }
   ],
   "source": [
    "df_test = df_test.T\n",
    "df_test = df_test.reset_index(drop = True)\n",
    "df_test = np.array(df_test.T).reshape(l,1,8)\n",
    "print(df_test)"
   ]
  },
  {
   "cell_type": "code",
   "execution_count": 268,
   "metadata": {
    "colab": {
     "base_uri": "https://localhost:8080/"
    },
    "id": "vNNqyaH-oKpy",
    "outputId": "36a102b7-546d-43bc-ed6b-1013732f4992"
   },
   "outputs": [
    {
     "name": "stdout",
     "output_type": "stream",
     "text": [
      "torch.Size([60, 1, 8])\n",
      "torch.Size([60, 1, 8])\n",
      "torch.Size([60, 1, 8])\n",
      "torch.Size([60, 1, 8])\n",
      "torch.Size([60, 1, 8])\n",
      "torch.Size([60, 1, 8])\n",
      "torch.Size([60, 1, 8])\n",
      "torch.Size([60, 1, 8])\n",
      "torch.Size([60, 1, 8])\n",
      "torch.Size([60, 1, 8])\n",
      "torch.Size([52, 1, 8])\n"
     ]
    }
   ],
   "source": [
    "dataloader_train = DataLoader(df_train, batch_size=window_length, num_workers=0)\n",
    "dataloader_test = DataLoader(df_test, batch_size = window_length, num_workers = 0)\n",
    "\n",
    "for data in dataloader_train:\n",
    "  \n",
    "  print(data.size())"
   ]
  },
  {
   "cell_type": "code",
   "execution_count": 269,
   "metadata": {
    "colab": {
     "base_uri": "https://localhost:8080/"
    },
    "id": "2qm4LYlW6NvI",
    "outputId": "16f313da-5f62-42e2-8f21-f2220b3bfa0d"
   },
   "outputs": [
    {
     "name": "stdout",
     "output_type": "stream",
     "text": [
      "torch.Size([60, 1, 8])\n",
      "torch.Size([60, 1, 8])\n",
      "torch.Size([42, 1, 8])\n"
     ]
    }
   ],
   "source": [
    "for data in dataloader_test:\n",
    "  print(data.size())"
   ]
  },
  {
   "cell_type": "code",
   "execution_count": 270,
   "metadata": {
    "colab": {
     "base_uri": "https://localhost:8080/"
    },
    "id": "BMvrVD46ncqR",
    "outputId": "8c67d8a1-7335-4694-98b0-f65e54266d59"
   },
   "outputs": [
    {
     "name": "stdout",
     "output_type": "stream",
     "text": [
      "----------------------------------------------------------------\n",
      "        Layer (type)               Output Shape         Param #\n",
      "================================================================\n",
      "            Conv1d-1                [-1, 16, 1]             400\n",
      "              ReLU-2                [-1, 16, 1]               0\n",
      "         MaxPool1d-3                [-1, 16, 1]               0\n",
      "            Conv1d-4                 [-1, 8, 1]             392\n",
      "              ReLU-5                 [-1, 8, 1]               0\n",
      "         MaxPool1d-6                 [-1, 8, 1]               0\n",
      "   ConvTranspose1d-7                 [-1, 8, 1]             200\n",
      "              ReLU-8                 [-1, 8, 1]               0\n",
      "          Upsample-9                 [-1, 8, 1]               0\n",
      "  ConvTranspose1d-10                [-1, 16, 1]             144\n",
      "             ReLU-11                [-1, 16, 1]               0\n",
      "         Upsample-12                [-1, 16, 1]               0\n",
      "  ConvTranspose1d-13                 [-1, 8, 1]             392\n",
      "          Sigmoid-14                 [-1, 8, 1]               0\n",
      "================================================================\n",
      "Total params: 1,528\n",
      "Trainable params: 1,528\n",
      "Non-trainable params: 0\n",
      "----------------------------------------------------------------\n",
      "Input size (MB): 0.00\n",
      "Forward/backward pass size (MB): 0.00\n",
      "Params size (MB): 0.01\n",
      "Estimated Total Size (MB): 0.01\n",
      "----------------------------------------------------------------\n"
     ]
    }
   ],
   "source": [
    "\"\"\"\n",
    "Convolutional Autoencoder\n",
    "\"\"\"\n",
    "from torch.nn.modules.activation import Sigmoid\n",
    "from torchsummary import summary\n",
    "\n",
    "\n",
    "class autoencoder(nn.Module):\n",
    "    def __init__(self):\n",
    "        super(autoencoder, self).__init__()\n",
    "        self.encoder = nn.Sequential(\n",
    "            nn.Conv1d(in_channels=8, out_channels=16,kernel_size=3,padding=1),  # b, 16, 10, 10\n",
    "            nn.ReLU(True),\n",
    "            nn.MaxPool1d(1, padding=0),  # b, 16, 5, 5\n",
    "            nn.Conv1d(in_channels = 16, out_channels = 8, kernel_size = 3, padding=1),  # b, 8, 3, 3\n",
    "            nn.ReLU(True),\n",
    "            nn.MaxPool1d(1, padding = 0)  # b, 8, 2, 2\n",
    "        )\n",
    "\n",
    "        self.decoder = nn.Sequential(\n",
    "            nn.ConvTranspose1d(in_channels=8, out_channels = 8, kernel_size = 3, padding=1),  # b, 16, 5, 5\n",
    "            nn.ReLU(True),\n",
    "            nn.Upsample(1),\n",
    "            nn.ConvTranspose1d(in_channels =8, out_channels = 16, kernel_size = 1),  # b, 1, 28, 28\n",
    "            nn.ReLU(True),\n",
    "            nn.Upsample(1),\n",
    "            nn.ConvTranspose1d(in_channels =16, out_channels = 8, kernel_size = 3,padding=1),\n",
    "            nn.Sigmoid()\n",
    "        )\n",
    "    def forward(self, x):\n",
    "        x = self.encoder(x)\n",
    "        x = self.decoder(x)\n",
    "        return x\n",
    "model = autoencoder()\n",
    "summary(model, (8,1))"
   ]
  },
  {
   "cell_type": "code",
   "execution_count": 271,
   "metadata": {
    "id": "IxI7Tr1OngF9"
   },
   "outputs": [],
   "source": [
    "\"\"\"\n",
    "parameters\n",
    "\"\"\"\n",
    "num_epochs = 50\n",
    "learning_rate = 1e-3\n",
    "criterion = nn.BCELoss()\n",
    "\n",
    "# specify loss function\n",
    "optimizer = torch.optim.Adam(model.parameters(), lr=0.001,weight_decay=1e-5)"
   ]
  },
  {
   "cell_type": "code",
   "execution_count": 272,
   "metadata": {
    "colab": {
     "base_uri": "https://localhost:8080/"
    },
    "id": "L-YLJpfVniuz",
    "outputId": "056acca3-4cea-439b-c2c6-31d5bfe81b71"
   },
   "outputs": [
    {
     "name": "stdout",
     "output_type": "stream",
     "text": [
      "Epoch: 0 \tTraining Loss: 0.672909\n",
      "Epoch: 1 \tTraining Loss: 0.721510\n",
      "Epoch: 2 \tTraining Loss: 0.713453\n",
      "Epoch: 3 \tTraining Loss: 0.700019\n",
      "Epoch: 4 \tTraining Loss: 0.685553\n",
      "Epoch: 5 \tTraining Loss: 0.670112\n",
      "Epoch: 6 \tTraining Loss: 0.653376\n",
      "Epoch: 7 \tTraining Loss: 0.635144\n",
      "Epoch: 8 \tTraining Loss: 0.615311\n",
      "Epoch: 9 \tTraining Loss: 0.593794\n",
      "Epoch: 10 \tTraining Loss: 0.570489\n",
      "Epoch: 11 \tTraining Loss: 0.545094\n",
      "Epoch: 12 \tTraining Loss: 0.517181\n",
      "Epoch: 13 \tTraining Loss: 0.486127\n",
      "Epoch: 14 \tTraining Loss: 0.451196\n",
      "Epoch: 15 \tTraining Loss: 0.411725\n",
      "Epoch: 16 \tTraining Loss: 0.367416\n",
      "Epoch: 17 \tTraining Loss: 0.318525\n",
      "Epoch: 18 \tTraining Loss: 0.266073\n",
      "Epoch: 19 \tTraining Loss: 0.212898\n",
      "Epoch: 20 \tTraining Loss: 0.163165\n",
      "Epoch: 21 \tTraining Loss: 0.120766\n",
      "Epoch: 22 \tTraining Loss: 0.087811\n",
      "Epoch: 23 \tTraining Loss: 0.064136\n",
      "Epoch: 24 \tTraining Loss: 0.048031\n",
      "Epoch: 25 \tTraining Loss: 0.037353\n",
      "Epoch: 26 \tTraining Loss: 0.030269\n",
      "Epoch: 27 \tTraining Loss: 0.025472\n",
      "Epoch: 28 \tTraining Loss: 0.022116\n",
      "Epoch: 29 \tTraining Loss: 0.019679\n",
      "Epoch: 30 \tTraining Loss: 0.017841\n",
      "Epoch: 31 \tTraining Loss: 0.016401\n",
      "Epoch: 32 \tTraining Loss: 0.015233\n",
      "Epoch: 33 \tTraining Loss: 0.014257\n",
      "Epoch: 34 \tTraining Loss: 0.013416\n",
      "Epoch: 35 \tTraining Loss: 0.012676\n",
      "Epoch: 36 \tTraining Loss: 0.012009\n",
      "Epoch: 37 \tTraining Loss: 0.011393\n",
      "Epoch: 38 \tTraining Loss: 0.010791\n",
      "Epoch: 39 \tTraining Loss: 0.010180\n",
      "Epoch: 40 \tTraining Loss: 0.009568\n",
      "Epoch: 41 \tTraining Loss: 0.008963\n",
      "Epoch: 42 \tTraining Loss: 0.008370\n",
      "Epoch: 43 \tTraining Loss: 0.007787\n",
      "Epoch: 44 \tTraining Loss: 0.007209\n",
      "Epoch: 45 \tTraining Loss: 0.006635\n",
      "Epoch: 46 \tTraining Loss: 0.006058\n",
      "Epoch: 47 \tTraining Loss: 0.005474\n",
      "Epoch: 48 \tTraining Loss: 0.004876\n",
      "Epoch: 49 \tTraining Loss: 0.004256\n"
     ]
    }
   ],
   "source": [
    "\"\"\"\n",
    "Model training\n",
    "\"\"\"\n",
    "\n",
    "train_loss = 0\n",
    "for epoch in range(num_epochs):\n",
    "  \n",
    "    for data in dataloader_train:       \n",
    "       # ===================forward=====================\n",
    "      \n",
    "        data = torch.transpose(data,1,2)\n",
    "        data = data.to(torch.float32)\n",
    "        optimizer.zero_grad()\n",
    "        outputs = model(data)\n",
    "        # perform a single optimization step (parameter update)\n",
    "        loss = criterion(outputs, data)\n",
    "        # backward pass: compute gradient of the loss with respect to model parameters\n",
    "        loss.backward()\n",
    "        # perform a single optimization step (parameter update)\n",
    "        optimizer.step()\n",
    "        # update running training loss\n",
    "        train_loss += loss.item()\n",
    "       \n",
    "    # ===================log========================\n",
    "    train_loss = train_loss/len(dataloader_train)\n",
    "    print('Epoch: {} \\tTraining Loss: {:.6f}'.format(\n",
    "          epoch, \n",
    "          train_loss\n",
    "          ))\n",
    "    "
   ]
  },
  {
   "cell_type": "code",
   "execution_count": 273,
   "metadata": {
    "colab": {
     "base_uri": "https://localhost:8080/"
    },
    "id": "jUzXlU4o2-30",
    "outputId": "45763e55-f0fe-4d9d-d3e8-8e98d29f3650"
   },
   "outputs": [
    {
     "name": "stdout",
     "output_type": "stream",
     "text": [
      "[[[-7.3222467e-03 -2.8686514e-03 -1.4592999e-03 ... -1.2853559e-03\n",
      "    4.6397429e-03 -1.7626754e-03]]\n",
      "\n",
      " [[-8.3206492e-03 -3.7142702e-03 -3.1663585e-02 ... -3.2294828e-02\n",
      "    2.7411294e-03 -3.1848028e-02]]\n",
      "\n",
      " [[-1.5436490e-01 -5.7300761e-02 -2.2026069e-02 ... -2.1048428e-02\n",
      "    1.5857261e-04 -2.1323146e-02]]\n",
      "\n",
      " ...\n",
      "\n",
      " [[ 1.3436475e-01 -2.6231034e-02 -9.9023841e-03 ... -9.7930217e-03\n",
      "   -5.9957656e-05 -1.1748673e-02]]\n",
      "\n",
      " [[ 5.6826346e-02  1.5216529e-02 -8.9246435e-03 ... -8.7708151e-03\n",
      "    1.4996273e-04 -8.0487113e-03]]\n",
      "\n",
      " [[-8.2190916e-02 -1.2530358e-01 -2.1245258e-02 ... -2.1346431e-02\n",
      "   -6.9964168e-05 -2.2523828e-02]]]\n"
     ]
    }
   ],
   "source": [
    "\"\"\"\n",
    "Get encoded Training Data\n",
    "\"\"\"\n",
    "\n",
    "\n",
    "def getEncodedData(data):\n",
    "  data = torch.tensor(data)\n",
    "  data = torch.transpose(data,1,2)\n",
    "  data = data.to(torch.float32)\n",
    "  encoded_data = model.encoder(data)\n",
    "  encoded_data = torch.transpose(data,1,2)\n",
    "  encoded_data = encoded_data.detach().numpy() \n",
    "  \n",
    "  return encoded_data\n",
    "\n",
    "\n",
    "\n",
    "\n",
    "encoded_train = getEncodedData(df_train)\n",
    "print(encoded_train)"
   ]
  },
  {
   "cell_type": "code",
   "execution_count": 274,
   "metadata": {
    "colab": {
     "base_uri": "https://localhost:8080/",
     "height": 408
    },
    "id": "Ea6sGK784AvR",
    "outputId": "e1e49a28-5577-4537-c8b6-77e522ba41d5"
   },
   "outputs": [
    {
     "data": {
      "text/plain": [
       "[<matplotlib.lines.Line2D at 0x7f836ef78850>,\n",
       " <matplotlib.lines.Line2D at 0x7f836ef78210>,\n",
       " <matplotlib.lines.Line2D at 0x7f836ef78c90>,\n",
       " <matplotlib.lines.Line2D at 0x7f836ef780d0>,\n",
       " <matplotlib.lines.Line2D at 0x7f836ef78650>,\n",
       " <matplotlib.lines.Line2D at 0x7f836ef787d0>,\n",
       " <matplotlib.lines.Line2D at 0x7f8370808cd0>,\n",
       " <matplotlib.lines.Line2D at 0x7f836ef09110>]"
      ]
     },
     "execution_count": 274,
     "metadata": {},
     "output_type": "execute_result"
    },
    {
     "data": {
      "image/png": "[encoded data removed]",
      "text/plain": [
       "<Figure size 432x288 with 1 Axes>"
      ]
     },
     "metadata": {
      "needs_background": "light"
     },
     "output_type": "display_data"
    }
   ],
   "source": [
    "plt.plot(encoded_train[:,0])"
   ]
  },
  {
   "cell_type": "code",
   "execution_count": 275,
   "metadata": {
    "colab": {
     "base_uri": "https://localhost:8080/"
    },
    "id": "5noswn318Wjh",
    "outputId": "a0d50014-f9f1-41ea-ced3-0aa7786bb4ef"
   },
   "outputs": [
    {
     "name": "stdout",
     "output_type": "stream",
     "text": [
      "(652, 1, 8)\n"
     ]
    }
   ],
   "source": [
    "print(encoded_train.shape)"
   ]
  },
  {
   "cell_type": "code",
   "execution_count": 276,
   "metadata": {
    "colab": {
     "base_uri": "https://localhost:8080/"
    },
    "id": "IpPnhYClUmBv",
    "outputId": "564c3715-51e2-47d4-ac4c-7fb276b17b43"
   },
   "outputs": [
    {
     "name": "stdout",
     "output_type": "stream",
     "text": [
      "[[[-2.97846235e-02  2.43575778e-03  1.20124966e-02 ...  1.18852975e-02\n",
      "   -2.73022393e-04  1.10204220e-02]]\n",
      "\n",
      " [[ 9.70952809e-02  3.04342923e-03  1.53552117e-02 ...  1.53515982e-02\n",
      "    1.38009040e-04  1.70818977e-02]]\n",
      "\n",
      " [[-1.94817215e-01 -1.26403198e-01 -2.54438608e-03 ... -2.40240805e-03\n",
      "    1.38049611e-04 -2.13409378e-03]]\n",
      "\n",
      " ...\n",
      "\n",
      " [[-4.28757519e-02 -2.26471070e-02  1.27920182e-03 ...  1.20866904e-03\n",
      "   -1.37684180e-03  5.77382278e-04]]\n",
      "\n",
      " [[ 2.19370220e-02  1.41081046e-02 -2.76452629e-03 ... -2.82454188e-03\n",
      "    8.83397995e-04 -1.60754798e-03]]\n",
      "\n",
      " [[-8.57796799e-03 -1.95155498e-02 -2.52017286e-03 ... -2.74112285e-03\n",
      "   -3.06857779e-04 -3.17906984e-03]]]\n"
     ]
    }
   ],
   "source": [
    "\"\"\"\n",
    "Get the Encoded Testing data\n",
    "\"\"\"\n",
    "\n",
    "encoded_test = getEncodedData(df_test)\n",
    "print(encoded_test)"
   ]
  },
  {
   "cell_type": "code",
   "execution_count": 277,
   "metadata": {
    "colab": {
     "base_uri": "https://localhost:8080/",
     "height": 408
    },
    "id": "5ha4m3Wjkktt",
    "outputId": "42a8c78f-7446-4233-b5e6-fafc0f4d6466"
   },
   "outputs": [
    {
     "data": {
      "text/plain": [
       "[<matplotlib.lines.Line2D at 0x7f836e79c5d0>,\n",
       " <matplotlib.lines.Line2D at 0x7f836e7972d0>,\n",
       " <matplotlib.lines.Line2D at 0x7f836e7977d0>,\n",
       " <matplotlib.lines.Line2D at 0x7f836e797850>,\n",
       " <matplotlib.lines.Line2D at 0x7f836e7979d0>,\n",
       " <matplotlib.lines.Line2D at 0x7f836e797110>,\n",
       " <matplotlib.lines.Line2D at 0x7f836e797ad0>,\n",
       " <matplotlib.lines.Line2D at 0x7f836e7af4d0>]"
      ]
     },
     "execution_count": 277,
     "metadata": {},
     "output_type": "execute_result"
    },
    {
     "data": {
      "image/png": "[encoded data removed]",
      "text/plain": [
       "<Figure size 432x288 with 1 Axes>"
      ]
     },
     "metadata": {
      "needs_background": "light"
     },
     "output_type": "display_data"
    }
   ],
   "source": [
    "plt.plot(encoded_test[:,0])"
   ]
  },
  {
   "cell_type": "code",
   "execution_count": 278,
   "metadata": {
    "colab": {
     "base_uri": "https://localhost:8080/"
    },
    "id": "q09clMmo7ttA",
    "outputId": "6f7867f5-443b-444e-e3e8-3a05e2d403d7"
   },
   "outputs": [
    {
     "name": "stdout",
     "output_type": "stream",
     "text": [
      "(162, 1, 8)\n"
     ]
    }
   ],
   "source": [
    "print(encoded_test.shape)"
   ]
  },
  {
   "cell_type": "code",
   "execution_count": null,
   "metadata": {
    "id": "-EyCUA_0A_WP"
   },
   "outputs": [],
   "source": []
  }
 ],
 "metadata": {
  "colab": {
   "authorship_tag": "ABX9TyO+y4gcbfihHpGuRbBu+jXv",
   "collapsed_sections": [],
   "include_colab_link": true,
   "name": "Autoencoder_.ipynb",
   "provenance": []
  },
  "kernelspec": {
   "display_name": "Python 3 (ipykernel)",
   "language": "python",
   "name": "python3"
  },
  "language_info": {
   "codemirror_mode": {
    "name": "ipython",
    "version": 3
   },
   "file_extension": ".py",
   "mimetype": "text/x-python",
   "name": "python",
   "nbconvert_exporter": "python",
   "pygments_lexer": "ipython3",
   "version": "3.7.6"
  }
 },
 "nbformat": 4,
 "nbformat_minor": 1
}

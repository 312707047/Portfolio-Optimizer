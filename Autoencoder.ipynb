{
  "nbformat": 4,
  "nbformat_minor": 0,
  "metadata": {
    "colab": {
      "name": "Autoencoder.ipynb",
      "provenance": [],
      "collapsed_sections": [],
      "authorship_tag": "ABX9TyNxHiyBXifxPsoztQJRcYVo",
      "include_colab_link": true
    },
    "kernelspec": {
      "name": "python3",
      "display_name": "Python 3"
    },
    "language_info": {
      "name": "python"
    }
  },
  "cells": [
    {
      "cell_type": "markdown",
      "metadata": {
        "id": "view-in-github",
        "colab_type": "text"
      },
      "source": [
        "<a href=\"https://colab.research.google.com/github/novis10813/Portfolio-Optimizer/blob/main/Autoencoder.ipynb\" target=\"_parent\"><img src=\"https://colab.research.google.com/assets/colab-badge.svg\" alt=\"Open In Colab\"/></a>"
      ]
    },
    {
      "cell_type": "markdown",
      "source": [
        "跑完這邊直接拿\n",
        "1. encoded_train{}\n",
        "2. encoded_test{}\n",
        "\n",
        "兩個都是dict 型態，內部皆儲存3維Tensor\n",
        "可用encoded_train['Asset name'] 和 \n",
        "encoded_test['Asset name']直接訪問\n"
      ],
      "metadata": {
        "id": "fEAv3N-SZ7Sk"
      }
    },
    {
      "cell_type": "code",
      "execution_count": 233,
      "metadata": {
        "id": "MgDuqy1VnKVE"
      },
      "outputs": [],
      "source": [
        "import numpy as np\n",
        "import pandas as pd\n",
        "from matplotlib import pyplot as plt\n",
        "from tqdm import tqdm\n",
        "from sklearn.preprocessing import MinMaxScaler\n",
        "import torch\n",
        "import torch.nn as nn\n",
        "from torch.autograd import Variable\n",
        "from torch.utils.data import Dataset,DataLoader\n",
        "\n",
        "\n",
        "window_length = 60\n",
        "test_samples = int(814*0.2)\n",
        "asset_list = ['SPY', 'IVV', 'VTI', 'VOO', 'QQQ', 'BTC', 'ETH', 'USDC-USD']"
      ]
    },
    {
      "cell_type": "code",
      "source": [
        "\"\"\"\n",
        "Read data and make percentage change\n",
        "\"\"\"\n",
        "prices_data = pd.read_csv('/content/close_price.csv')\n",
        "\n",
        "df = prices_data.copy().drop(['Unnamed: 0'], axis = 1)\n",
        "df = df.set_index(['date'])\n",
        "\n",
        "df_pct_change = df.pct_change(1).astype(float)\n",
        "df_pct_change = df_pct_change.tail(len(df_pct_change) - 1)"
      ],
      "metadata": {
        "id": "DzzbG1GMnNjA"
      },
      "execution_count": 234,
      "outputs": []
    },
    {
      "cell_type": "code",
      "source": [
        "\"\"\"\n",
        "Get the total array of data\n",
        "\"\"\"\n",
        "\n",
        "\n",
        "\n",
        "scaler = MinMaxScaler()\n",
        "total_data_list = {}\n",
        "for asset in asset_list:\n",
        "        \n",
        "    total= np.array([scaler.fit_transform(df_pct_change[asset].values[i-window_length:i].reshape(-1, 1)) for i in tqdm(range(window_length,len(df_pct_change)))])\n",
        "    new_name = '{}'.format(asset)\n",
        "    total_data_list[new_name] = total"
      ],
      "metadata": {
        "colab": {
          "base_uri": "https://localhost:8080/"
        },
        "id": "AotMOR8KnQg0",
        "outputId": "8287637d-9409-4fd5-f321-7b177fc429b7"
      },
      "execution_count": 235,
      "outputs": [
        {
          "output_type": "stream",
          "name": "stderr",
          "text": [
            "100%|██████████| 754/754 [00:00<00:00, 3264.89it/s]\n",
            "100%|██████████| 754/754 [00:00<00:00, 2611.84it/s]\n",
            "100%|██████████| 754/754 [00:00<00:00, 2138.47it/s]\n",
            "100%|██████████| 754/754 [00:00<00:00, 2451.58it/s]\n",
            "100%|██████████| 754/754 [00:00<00:00, 2905.24it/s]\n",
            "100%|██████████| 754/754 [00:00<00:00, 3204.75it/s]\n",
            "100%|██████████| 754/754 [00:00<00:00, 3277.08it/s]\n",
            "100%|██████████| 754/754 [00:00<00:00, 3114.24it/s]\n"
          ]
        }
      ]
    },
    {
      "cell_type": "code",
      "source": [
        "\"\"\"\n",
        "Train Test Split\n",
        "\"\"\"\n",
        "\n",
        "\n",
        "close_train = {}\n",
        "close_test = {}\n",
        "\n",
        "\n",
        "for keys in tqdm(list(total_data_list.keys())):\n",
        "        x_test = total_data_list[keys][-test_samples:]\n",
        "        x_train = total_data_list[keys][:-test_samples]\n",
        "        x_train = x_train.astype('float32')\n",
        "        x_test = x_test.astype('float32')\n",
        "\n",
        "        new_name_train = '{}'.format(keys)        \n",
        "        new_name_test = '{}'.format(keys)\n",
        "        close_train[new_name_train] = x_train\n",
        "        close_test[new_name_test] = x_test   "
      ],
      "metadata": {
        "colab": {
          "base_uri": "https://localhost:8080/"
        },
        "id": "lYIMGVN7nRvO",
        "outputId": "2b7487b5-297f-4365-e3b5-e463813a0b4c"
      },
      "execution_count": 280,
      "outputs": [
        {
          "output_type": "stream",
          "name": "stderr",
          "text": [
            "100%|██████████| 8/8 [00:00<00:00, 3607.23it/s]\n"
          ]
        }
      ]
    },
    {
      "cell_type": "code",
      "source": [
        "\"\"\"\n",
        "Transfer data into tensor\n",
        "\"\"\"\n",
        "\n",
        "\n",
        "\n",
        "dataloader_train = {}\n",
        "dataloader_test = {}\n",
        "\n",
        "for keys in tqdm(list(close_train.keys())):\n",
        "        train = DataLoader(close_train[keys], batch_size=window_length, num_workers=0)\n",
        "        dataloader_train_new_name = '{}'.format(keys)\n",
        "        dataloader_train[dataloader_train_new_name] = train\n",
        "\n",
        "for keys in tqdm(list(close_test.keys())):\n",
        "        test = DataLoader(close_test[keys], batch_size=window_length, num_workers=0)\n",
        "        dataloader_test_new_name = '{}'.format(keys)\n",
        "        dataloader_test[dataloader_test_new_name] = test\n",
        "\n",
        "\n",
        "#dataloader = DataLoader(close_train['SPY'], batch_size=window_length, num_workers=0)\n",
        "#for data in dataloader:\n",
        "  #print(data.size())\n"
      ],
      "metadata": {
        "colab": {
          "base_uri": "https://localhost:8080/"
        },
        "id": "wls4mo0RnmbZ",
        "outputId": "938c3a6c-0408-4ffa-eb9f-77a59f4ac517"
      },
      "execution_count": 282,
      "outputs": [
        {
          "output_type": "stream",
          "name": "stderr",
          "text": [
            "100%|██████████| 8/8 [00:00<00:00, 10747.74it/s]\n",
            "100%|██████████| 8/8 [00:00<00:00, 7273.89it/s]\n"
          ]
        }
      ]
    },
    {
      "cell_type": "code",
      "source": [
        "\"\"\"\n",
        "Convolutional Autoencoder\n",
        "\"\"\"\n",
        "from torch.nn.modules.activation import Sigmoid\n",
        "from torchsummary import summary\n",
        "\n",
        "\n",
        "class autoencoder(nn.Module):\n",
        "    def __init__(self):\n",
        "        super(autoencoder, self).__init__()\n",
        "        self.encoder = nn.Sequential(\n",
        "            nn.Conv1d(in_channels=1, out_channels=16,kernel_size=3,padding=1),  # b, 16, 10, 10\n",
        "            nn.ReLU(True),\n",
        "            nn.MaxPool1d(2, padding=0),  # b, 16, 5, 5\n",
        "            nn.Conv1d(in_channels = 16, out_channels = 1, kernel_size = 3, padding=1),  # b, 8, 3, 3\n",
        "            nn.ReLU(True),\n",
        "            nn.MaxPool1d(2, padding = 0)  # b, 8, 2, 2\n",
        "        )\n",
        "\n",
        "        self.decoder = nn.Sequential(\n",
        "            nn.ConvTranspose1d(in_channels=1, out_channels = 1, kernel_size = 3, padding=1),  # b, 16, 5, 5\n",
        "            nn.ReLU(True),\n",
        "            nn.Upsample(30),\n",
        "            nn.ConvTranspose1d(in_channels =1, out_channels = 16, kernel_size = 1),  # b, 1, 28, 28\n",
        "            nn.ReLU(True),\n",
        "            nn.Upsample(60),\n",
        "            nn.ConvTranspose1d(in_channels =16, out_channels = 1, kernel_size = 3,padding=1),\n",
        "            nn.Sigmoid()\n",
        "        )\n",
        "    def forward(self, x):\n",
        "        x = self.encoder(x)\n",
        "        x = self.decoder(x)\n",
        "        return x\n",
        "model = autoencoder()\n",
        "summary(model, (1,60))"
      ],
      "metadata": {
        "colab": {
          "base_uri": "https://localhost:8080/"
        },
        "id": "BMvrVD46ncqR",
        "outputId": "64ed5fe9-1ca4-4569-dbab-2a748eb95429"
      },
      "execution_count": 364,
      "outputs": [
        {
          "output_type": "stream",
          "name": "stdout",
          "text": [
            "----------------------------------------------------------------\n",
            "        Layer (type)               Output Shape         Param #\n",
            "================================================================\n",
            "            Conv1d-1               [-1, 16, 60]              64\n",
            "              ReLU-2               [-1, 16, 60]               0\n",
            "         MaxPool1d-3               [-1, 16, 30]               0\n",
            "            Conv1d-4                [-1, 1, 30]              49\n",
            "              ReLU-5                [-1, 1, 30]               0\n",
            "         MaxPool1d-6                [-1, 1, 15]               0\n",
            "   ConvTranspose1d-7                [-1, 1, 15]               4\n",
            "              ReLU-8                [-1, 1, 15]               0\n",
            "          Upsample-9                [-1, 1, 30]               0\n",
            "  ConvTranspose1d-10               [-1, 16, 30]              32\n",
            "             ReLU-11               [-1, 16, 30]               0\n",
            "         Upsample-12               [-1, 16, 60]               0\n",
            "  ConvTranspose1d-13                [-1, 1, 60]              49\n",
            "          Sigmoid-14                [-1, 1, 60]               0\n",
            "================================================================\n",
            "Total params: 198\n",
            "Trainable params: 198\n",
            "Non-trainable params: 0\n",
            "----------------------------------------------------------------\n",
            "Input size (MB): 0.00\n",
            "Forward/backward pass size (MB): 0.03\n",
            "Params size (MB): 0.00\n",
            "Estimated Total Size (MB): 0.04\n",
            "----------------------------------------------------------------\n"
          ]
        }
      ]
    },
    {
      "cell_type": "code",
      "source": [
        "\"\"\"\n",
        "parameters\n",
        "\"\"\"\n",
        "num_epochs = 100\n",
        "learning_rate = 1e-3\n",
        "criterion = nn.BCELoss()\n",
        "\n",
        "# specify loss function\n",
        "optimizer = torch.optim.Adam(model.parameters(), lr=0.001,weight_decay=1e-5)"
      ],
      "metadata": {
        "id": "IxI7Tr1OngF9"
      },
      "execution_count": 365,
      "outputs": []
    },
    {
      "cell_type": "code",
      "source": [
        "\"\"\"\n",
        "Model training\n",
        "\"\"\"\n",
        "\n",
        "train_loss = 0\n",
        "for epoch in range(num_epochs):\n",
        "  for keys in tqdm(list(close_train.keys())):\n",
        "    for data in dataloader_train[keys]:       \n",
        "       # ===================forward=====================\n",
        "        \n",
        "        data = torch.transpose(data,1,2)\n",
        "        optimizer.zero_grad()\n",
        "        outputs = model(data)\n",
        "        # perform a single optimization step (parameter update)\n",
        "        loss = criterion(outputs, data)\n",
        "        # backward pass: compute gradient of the loss with respect to model parameters\n",
        "        loss.backward()\n",
        "        # perform a single optimization step (parameter update)\n",
        "        optimizer.step()\n",
        "        # update running training loss\n",
        "        train_loss += loss.item()\n",
        "       \n",
        "    # ===================log========================\n",
        "    train_loss = train_loss/len(dataloader_train['SPY'])\n",
        "    print('Epoch: {} \\tTraining Loss: {:.6f}'.format(\n",
        "          epoch, \n",
        "          train_loss\n",
        "          ))\n",
        "    "
      ],
      "metadata": {
        "colab": {
          "base_uri": "https://localhost:8080/"
        },
        "id": "L-YLJpfVniuz",
        "outputId": "b6916685-91aa-4cc4-9863-5366a87343e0"
      },
      "execution_count": 366,
      "outputs": [
        {
          "output_type": "stream",
          "name": "stderr",
          "text": [
            " 50%|█████     | 4/8 [00:00<00:00, 16.25it/s]"
          ]
        },
        {
          "output_type": "stream",
          "name": "stdout",
          "text": [
            "Epoch: 0 \tTraining Loss: 0.688332\n",
            "Epoch: 0 \tTraining Loss: 0.753734\n",
            "Epoch: 0 \tTraining Loss: 0.758082\n",
            "Epoch: 0 \tTraining Loss: 0.758201\n"
          ]
        },
        {
          "output_type": "stream",
          "name": "stderr",
          "text": [
            "\r 75%|███████▌  | 6/8 [00:00<00:00, 15.75it/s]"
          ]
        },
        {
          "output_type": "stream",
          "name": "stdout",
          "text": [
            "Epoch: 0 \tTraining Loss: 0.764608\n",
            "Epoch: 0 \tTraining Loss: 0.786706\n",
            "Epoch: 0 \tTraining Loss: 0.781893\n"
          ]
        },
        {
          "output_type": "stream",
          "name": "stderr",
          "text": [
            "100%|██████████| 8/8 [00:00<00:00, 14.59it/s]\n"
          ]
        },
        {
          "output_type": "stream",
          "name": "stdout",
          "text": [
            "Epoch: 0 \tTraining Loss: 0.775049\n"
          ]
        },
        {
          "output_type": "stream",
          "name": "stderr",
          "text": [
            " 25%|██▌       | 2/8 [00:00<00:00,  6.15it/s]"
          ]
        },
        {
          "output_type": "stream",
          "name": "stdout",
          "text": [
            "Epoch: 1 \tTraining Loss: 0.767372\n",
            "Epoch: 1 \tTraining Loss: 0.764817\n"
          ]
        },
        {
          "output_type": "stream",
          "name": "stderr",
          "text": [
            " 75%|███████▌  | 6/8 [00:00<00:00, 12.46it/s]"
          ]
        },
        {
          "output_type": "stream",
          "name": "stdout",
          "text": [
            "Epoch: 1 \tTraining Loss: 0.761567\n",
            "Epoch: 1 \tTraining Loss: 0.759665\n",
            "Epoch: 1 \tTraining Loss: 0.764094\n",
            "Epoch: 1 \tTraining Loss: 0.783068\n"
          ]
        },
        {
          "output_type": "stream",
          "name": "stderr",
          "text": [
            "100%|██████████| 8/8 [00:00<00:00, 11.53it/s]\n"
          ]
        },
        {
          "output_type": "stream",
          "name": "stdout",
          "text": [
            "Epoch: 1 \tTraining Loss: 0.779703\n",
            "Epoch: 1 \tTraining Loss: 0.774310\n"
          ]
        },
        {
          "output_type": "stream",
          "name": "stderr",
          "text": [
            "\r  0%|          | 0/8 [00:00<?, ?it/s]"
          ]
        },
        {
          "output_type": "stream",
          "name": "stdout",
          "text": [
            "Epoch: 2 \tTraining Loss: 0.767043\n"
          ]
        },
        {
          "output_type": "stream",
          "name": "stderr",
          "text": [
            " 50%|█████     | 4/8 [00:00<00:00, 15.42it/s]"
          ]
        },
        {
          "output_type": "stream",
          "name": "stdout",
          "text": [
            "Epoch: 2 \tTraining Loss: 0.764463\n",
            "Epoch: 2 \tTraining Loss: 0.761215\n",
            "Epoch: 2 \tTraining Loss: 0.759400\n",
            "Epoch: 2 \tTraining Loss: 0.763897\n"
          ]
        },
        {
          "output_type": "stream",
          "name": "stderr",
          "text": [
            "100%|██████████| 8/8 [00:00<00:00, 14.77it/s]"
          ]
        },
        {
          "output_type": "stream",
          "name": "stdout",
          "text": [
            "Epoch: 2 \tTraining Loss: 0.781694\n",
            "Epoch: 2 \tTraining Loss: 0.778226\n",
            "Epoch: 2 \tTraining Loss: 0.773484\n"
          ]
        },
        {
          "output_type": "stream",
          "name": "stderr",
          "text": [
            "100%|██████████| 8/8 [00:00<00:00, 14.75it/s]\n",
            " 50%|█████     | 4/8 [00:00<00:00, 15.90it/s]"
          ]
        },
        {
          "output_type": "stream",
          "name": "stdout",
          "text": [
            "Epoch: 3 \tTraining Loss: 0.767282\n",
            "Epoch: 3 \tTraining Loss: 0.764489\n",
            "Epoch: 3 \tTraining Loss: 0.760974\n",
            "Epoch: 3 \tTraining Loss: 0.759172\n"
          ]
        },
        {
          "output_type": "stream",
          "name": "stderr",
          "text": [
            "100%|██████████| 8/8 [00:00<00:00, 15.89it/s]\n"
          ]
        },
        {
          "output_type": "stream",
          "name": "stdout",
          "text": [
            "Epoch: 3 \tTraining Loss: 0.763817\n",
            "Epoch: 3 \tTraining Loss: 0.781153\n",
            "Epoch: 3 \tTraining Loss: 0.776764\n",
            "Epoch: 3 \tTraining Loss: 0.772437\n"
          ]
        },
        {
          "output_type": "stream",
          "name": "stderr",
          "text": [
            " 50%|█████     | 4/8 [00:00<00:00, 16.44it/s]"
          ]
        },
        {
          "output_type": "stream",
          "name": "stdout",
          "text": [
            "Epoch: 4 \tTraining Loss: 0.767924\n",
            "Epoch: 4 \tTraining Loss: 0.764617\n",
            "Epoch: 4 \tTraining Loss: 0.760612\n",
            "Epoch: 4 \tTraining Loss: 0.759020\n"
          ]
        },
        {
          "output_type": "stream",
          "name": "stderr",
          "text": [
            "100%|██████████| 8/8 [00:00<00:00, 16.12it/s]\n"
          ]
        },
        {
          "output_type": "stream",
          "name": "stdout",
          "text": [
            "Epoch: 4 \tTraining Loss: 0.763554\n",
            "Epoch: 4 \tTraining Loss: 0.779173\n",
            "Epoch: 4 \tTraining Loss: 0.775094\n",
            "Epoch: 4 \tTraining Loss: 0.771570\n"
          ]
        },
        {
          "output_type": "stream",
          "name": "stderr",
          "text": [
            " 50%|█████     | 4/8 [00:00<00:00, 17.08it/s]"
          ]
        },
        {
          "output_type": "stream",
          "name": "stdout",
          "text": [
            "Epoch: 5 \tTraining Loss: 0.768421\n",
            "Epoch: 5 \tTraining Loss: 0.764111\n",
            "Epoch: 5 \tTraining Loss: 0.759469\n",
            "Epoch: 5 \tTraining Loss: 0.758231\n"
          ]
        },
        {
          "output_type": "stream",
          "name": "stderr",
          "text": [
            "100%|██████████| 8/8 [00:00<00:00, 16.67it/s]\n"
          ]
        },
        {
          "output_type": "stream",
          "name": "stdout",
          "text": [
            "Epoch: 5 \tTraining Loss: 0.763188\n",
            "Epoch: 5 \tTraining Loss: 0.777931\n",
            "Epoch: 5 \tTraining Loss: 0.773276\n",
            "Epoch: 5 \tTraining Loss: 0.770595\n"
          ]
        },
        {
          "output_type": "stream",
          "name": "stderr",
          "text": [
            " 50%|█████     | 4/8 [00:00<00:00, 16.80it/s]"
          ]
        },
        {
          "output_type": "stream",
          "name": "stdout",
          "text": [
            "Epoch: 6 \tTraining Loss: 0.768419\n",
            "Epoch: 6 \tTraining Loss: 0.762988\n",
            "Epoch: 6 \tTraining Loss: 0.758187\n",
            "Epoch: 6 \tTraining Loss: 0.757369\n"
          ]
        },
        {
          "output_type": "stream",
          "name": "stderr",
          "text": [
            "100%|██████████| 8/8 [00:00<00:00, 16.38it/s]\n"
          ]
        },
        {
          "output_type": "stream",
          "name": "stdout",
          "text": [
            "Epoch: 6 \tTraining Loss: 0.762582\n",
            "Epoch: 6 \tTraining Loss: 0.775323\n",
            "Epoch: 6 \tTraining Loss: 0.770211\n",
            "Epoch: 6 \tTraining Loss: 0.769181\n"
          ]
        },
        {
          "output_type": "stream",
          "name": "stderr",
          "text": [
            " 50%|█████     | 4/8 [00:00<00:00, 16.50it/s]"
          ]
        },
        {
          "output_type": "stream",
          "name": "stdout",
          "text": [
            "Epoch: 7 \tTraining Loss: 0.767835\n",
            "Epoch: 7 \tTraining Loss: 0.760325\n",
            "Epoch: 7 \tTraining Loss: 0.756574\n",
            "Epoch: 7 \tTraining Loss: 0.756299\n"
          ]
        },
        {
          "output_type": "stream",
          "name": "stderr",
          "text": [
            "100%|██████████| 8/8 [00:00<00:00, 16.42it/s]\n"
          ]
        },
        {
          "output_type": "stream",
          "name": "stdout",
          "text": [
            "Epoch: 7 \tTraining Loss: 0.761590\n",
            "Epoch: 7 \tTraining Loss: 0.770836\n",
            "Epoch: 7 \tTraining Loss: 0.765968\n",
            "Epoch: 7 \tTraining Loss: 0.767538\n"
          ]
        },
        {
          "output_type": "stream",
          "name": "stderr",
          "text": [
            " 50%|█████     | 4/8 [00:00<00:00, 17.06it/s]"
          ]
        },
        {
          "output_type": "stream",
          "name": "stdout",
          "text": [
            "Epoch: 8 \tTraining Loss: 0.764726\n",
            "Epoch: 8 \tTraining Loss: 0.756650\n",
            "Epoch: 8 \tTraining Loss: 0.754878\n",
            "Epoch: 8 \tTraining Loss: 0.754519\n"
          ]
        },
        {
          "output_type": "stream",
          "name": "stderr",
          "text": [
            "100%|██████████| 8/8 [00:00<00:00, 16.33it/s]\n"
          ]
        },
        {
          "output_type": "stream",
          "name": "stdout",
          "text": [
            "Epoch: 8 \tTraining Loss: 0.759312\n",
            "Epoch: 8 \tTraining Loss: 0.764348\n",
            "Epoch: 8 \tTraining Loss: 0.760697\n",
            "Epoch: 8 \tTraining Loss: 0.765610\n"
          ]
        },
        {
          "output_type": "stream",
          "name": "stderr",
          "text": [
            " 50%|█████     | 4/8 [00:00<00:00, 16.90it/s]"
          ]
        },
        {
          "output_type": "stream",
          "name": "stdout",
          "text": [
            "Epoch: 9 \tTraining Loss: 0.758441\n",
            "Epoch: 9 \tTraining Loss: 0.753396\n",
            "Epoch: 9 \tTraining Loss: 0.752712\n",
            "Epoch: 9 \tTraining Loss: 0.751769\n"
          ]
        },
        {
          "output_type": "stream",
          "name": "stderr",
          "text": [
            "100%|██████████| 8/8 [00:00<00:00, 16.55it/s]\n"
          ]
        },
        {
          "output_type": "stream",
          "name": "stdout",
          "text": [
            "Epoch: 9 \tTraining Loss: 0.756244\n",
            "Epoch: 9 \tTraining Loss: 0.757003\n",
            "Epoch: 9 \tTraining Loss: 0.754081\n",
            "Epoch: 9 \tTraining Loss: 0.763294\n"
          ]
        },
        {
          "output_type": "stream",
          "name": "stderr",
          "text": [
            " 50%|█████     | 4/8 [00:00<00:00, 16.31it/s]"
          ]
        },
        {
          "output_type": "stream",
          "name": "stdout",
          "text": [
            "Epoch: 10 \tTraining Loss: 0.752865\n",
            "Epoch: 10 \tTraining Loss: 0.749830\n",
            "Epoch: 10 \tTraining Loss: 0.748788\n",
            "Epoch: 10 \tTraining Loss: 0.747889\n"
          ]
        },
        {
          "output_type": "stream",
          "name": "stderr",
          "text": [
            "100%|██████████| 8/8 [00:00<00:00, 16.14it/s]\n"
          ]
        },
        {
          "output_type": "stream",
          "name": "stdout",
          "text": [
            "Epoch: 10 \tTraining Loss: 0.752975\n",
            "Epoch: 10 \tTraining Loss: 0.750253\n",
            "Epoch: 10 \tTraining Loss: 0.747528\n",
            "Epoch: 10 \tTraining Loss: 0.761191\n"
          ]
        },
        {
          "output_type": "stream",
          "name": "stderr",
          "text": [
            " 50%|█████     | 4/8 [00:00<00:00, 17.04it/s]"
          ]
        },
        {
          "output_type": "stream",
          "name": "stdout",
          "text": [
            "Epoch: 11 \tTraining Loss: 0.748473\n",
            "Epoch: 11 \tTraining Loss: 0.746397\n",
            "Epoch: 11 \tTraining Loss: 0.745343\n",
            "Epoch: 11 \tTraining Loss: 0.744858\n"
          ]
        },
        {
          "output_type": "stream",
          "name": "stderr",
          "text": [
            "100%|██████████| 8/8 [00:00<00:00, 16.62it/s]\n"
          ]
        },
        {
          "output_type": "stream",
          "name": "stdout",
          "text": [
            "Epoch: 11 \tTraining Loss: 0.750442\n",
            "Epoch: 11 \tTraining Loss: 0.744770\n",
            "Epoch: 11 \tTraining Loss: 0.741971\n",
            "Epoch: 11 \tTraining Loss: 0.759785\n"
          ]
        },
        {
          "output_type": "stream",
          "name": "stderr",
          "text": [
            " 50%|█████     | 4/8 [00:00<00:00, 16.62it/s]"
          ]
        },
        {
          "output_type": "stream",
          "name": "stdout",
          "text": [
            "Epoch: 12 \tTraining Loss: 0.745560\n",
            "Epoch: 12 \tTraining Loss: 0.743828\n",
            "Epoch: 12 \tTraining Loss: 0.742935\n",
            "Epoch: 12 \tTraining Loss: 0.742704\n"
          ]
        },
        {
          "output_type": "stream",
          "name": "stderr",
          "text": [
            "100%|██████████| 8/8 [00:00<00:00, 16.35it/s]\n"
          ]
        },
        {
          "output_type": "stream",
          "name": "stdout",
          "text": [
            "Epoch: 12 \tTraining Loss: 0.748782\n",
            "Epoch: 12 \tTraining Loss: 0.741130\n",
            "Epoch: 12 \tTraining Loss: 0.738443\n",
            "Epoch: 12 \tTraining Loss: 0.759147\n"
          ]
        },
        {
          "output_type": "stream",
          "name": "stderr",
          "text": [
            " 50%|█████     | 4/8 [00:00<00:00, 16.10it/s]"
          ]
        },
        {
          "output_type": "stream",
          "name": "stdout",
          "text": [
            "Epoch: 13 \tTraining Loss: 0.743955\n",
            "Epoch: 13 \tTraining Loss: 0.742222\n",
            "Epoch: 13 \tTraining Loss: 0.741363\n",
            "Epoch: 13 \tTraining Loss: 0.741277\n"
          ]
        },
        {
          "output_type": "stream",
          "name": "stderr",
          "text": [
            "100%|██████████| 8/8 [00:00<00:00, 16.23it/s]\n"
          ]
        },
        {
          "output_type": "stream",
          "name": "stdout",
          "text": [
            "Epoch: 13 \tTraining Loss: 0.747748\n",
            "Epoch: 13 \tTraining Loss: 0.738982\n",
            "Epoch: 13 \tTraining Loss: 0.736698\n",
            "Epoch: 13 \tTraining Loss: 0.758915\n"
          ]
        },
        {
          "output_type": "stream",
          "name": "stderr",
          "text": [
            " 50%|█████     | 4/8 [00:00<00:00, 17.40it/s]"
          ]
        },
        {
          "output_type": "stream",
          "name": "stdout",
          "text": [
            "Epoch: 14 \tTraining Loss: 0.742977\n",
            "Epoch: 14 \tTraining Loss: 0.741084\n",
            "Epoch: 14 \tTraining Loss: 0.740172\n",
            "Epoch: 14 \tTraining Loss: 0.740213\n"
          ]
        },
        {
          "output_type": "stream",
          "name": "stderr",
          "text": [
            "100%|██████████| 8/8 [00:00<00:00, 16.17it/s]"
          ]
        },
        {
          "output_type": "stream",
          "name": "stdout",
          "text": [
            "Epoch: 14 \tTraining Loss: 0.746985\n",
            "Epoch: 14 \tTraining Loss: 0.737737\n",
            "Epoch: 14 \tTraining Loss: 0.735625\n",
            "Epoch: 14 \tTraining Loss: 0.758744\n"
          ]
        },
        {
          "output_type": "stream",
          "name": "stderr",
          "text": [
            "\n",
            " 50%|█████     | 4/8 [00:00<00:00, 16.28it/s]"
          ]
        },
        {
          "output_type": "stream",
          "name": "stdout",
          "text": [
            "Epoch: 15 \tTraining Loss: 0.742351\n",
            "Epoch: 15 \tTraining Loss: 0.740382\n",
            "Epoch: 15 \tTraining Loss: 0.739378\n",
            "Epoch: 15 \tTraining Loss: 0.739459\n"
          ]
        },
        {
          "output_type": "stream",
          "name": "stderr",
          "text": [
            "100%|██████████| 8/8 [00:00<00:00, 15.96it/s]\n"
          ]
        },
        {
          "output_type": "stream",
          "name": "stdout",
          "text": [
            "Epoch: 15 \tTraining Loss: 0.746418\n",
            "Epoch: 15 \tTraining Loss: 0.736704\n",
            "Epoch: 15 \tTraining Loss: 0.734761\n",
            "Epoch: 15 \tTraining Loss: 0.758541\n"
          ]
        },
        {
          "output_type": "stream",
          "name": "stderr",
          "text": [
            " 50%|█████     | 4/8 [00:00<00:00, 16.65it/s]"
          ]
        },
        {
          "output_type": "stream",
          "name": "stdout",
          "text": [
            "Epoch: 16 \tTraining Loss: 0.741767\n",
            "Epoch: 16 \tTraining Loss: 0.739708\n",
            "Epoch: 16 \tTraining Loss: 0.738660\n",
            "Epoch: 16 \tTraining Loss: 0.738770\n"
          ]
        },
        {
          "output_type": "stream",
          "name": "stderr",
          "text": [
            "100%|██████████| 8/8 [00:00<00:00, 16.25it/s]\n"
          ]
        },
        {
          "output_type": "stream",
          "name": "stdout",
          "text": [
            "Epoch: 16 \tTraining Loss: 0.745913\n",
            "Epoch: 16 \tTraining Loss: 0.735772\n",
            "Epoch: 16 \tTraining Loss: 0.733977\n",
            "Epoch: 16 \tTraining Loss: 0.758243\n"
          ]
        },
        {
          "output_type": "stream",
          "name": "stderr",
          "text": [
            " 50%|█████     | 4/8 [00:00<00:00, 17.18it/s]"
          ]
        },
        {
          "output_type": "stream",
          "name": "stdout",
          "text": [
            "Epoch: 17 \tTraining Loss: 0.741099\n",
            "Epoch: 17 \tTraining Loss: 0.739062\n",
            "Epoch: 17 \tTraining Loss: 0.737992\n",
            "Epoch: 17 \tTraining Loss: 0.738130\n"
          ]
        },
        {
          "output_type": "stream",
          "name": "stderr",
          "text": [
            "100%|██████████| 8/8 [00:00<00:00, 16.27it/s]\n"
          ]
        },
        {
          "output_type": "stream",
          "name": "stdout",
          "text": [
            "Epoch: 17 \tTraining Loss: 0.745417\n",
            "Epoch: 17 \tTraining Loss: 0.734959\n",
            "Epoch: 17 \tTraining Loss: 0.733281\n",
            "Epoch: 17 \tTraining Loss: 0.757944\n"
          ]
        },
        {
          "output_type": "stream",
          "name": "stderr",
          "text": [
            " 50%|█████     | 4/8 [00:00<00:00, 16.24it/s]"
          ]
        },
        {
          "output_type": "stream",
          "name": "stdout",
          "text": [
            "Epoch: 18 \tTraining Loss: 0.740409\n",
            "Epoch: 18 \tTraining Loss: 0.738382\n",
            "Epoch: 18 \tTraining Loss: 0.737261\n",
            "Epoch: 18 \tTraining Loss: 0.737437\n"
          ]
        },
        {
          "output_type": "stream",
          "name": "stderr",
          "text": [
            "100%|██████████| 8/8 [00:00<00:00, 15.91it/s]\n"
          ]
        },
        {
          "output_type": "stream",
          "name": "stdout",
          "text": [
            "Epoch: 18 \tTraining Loss: 0.744939\n",
            "Epoch: 18 \tTraining Loss: 0.734111\n",
            "Epoch: 18 \tTraining Loss: 0.732604\n",
            "Epoch: 18 \tTraining Loss: 0.757694\n"
          ]
        },
        {
          "output_type": "stream",
          "name": "stderr",
          "text": [
            " 50%|█████     | 4/8 [00:00<00:00, 15.71it/s]"
          ]
        },
        {
          "output_type": "stream",
          "name": "stdout",
          "text": [
            "Epoch: 19 \tTraining Loss: 0.739748\n",
            "Epoch: 19 \tTraining Loss: 0.737677\n",
            "Epoch: 19 \tTraining Loss: 0.736536\n",
            "Epoch: 19 \tTraining Loss: 0.736730\n"
          ]
        },
        {
          "output_type": "stream",
          "name": "stderr",
          "text": [
            "100%|██████████| 8/8 [00:00<00:00, 15.57it/s]\n"
          ]
        },
        {
          "output_type": "stream",
          "name": "stdout",
          "text": [
            "Epoch: 19 \tTraining Loss: 0.744427\n",
            "Epoch: 19 \tTraining Loss: 0.733268\n",
            "Epoch: 19 \tTraining Loss: 0.731917\n",
            "Epoch: 19 \tTraining Loss: 0.757418\n"
          ]
        },
        {
          "output_type": "stream",
          "name": "stderr",
          "text": [
            " 50%|█████     | 4/8 [00:00<00:00, 15.87it/s]"
          ]
        },
        {
          "output_type": "stream",
          "name": "stdout",
          "text": [
            "Epoch: 20 \tTraining Loss: 0.739069\n",
            "Epoch: 20 \tTraining Loss: 0.736933\n",
            "Epoch: 20 \tTraining Loss: 0.735822\n",
            "Epoch: 20 \tTraining Loss: 0.736021\n"
          ]
        },
        {
          "output_type": "stream",
          "name": "stderr",
          "text": [
            "\r 75%|███████▌  | 6/8 [00:00<00:00, 15.59it/s]"
          ]
        },
        {
          "output_type": "stream",
          "name": "stdout",
          "text": [
            "Epoch: 20 \tTraining Loss: 0.743879\n",
            "Epoch: 20 \tTraining Loss: 0.732394\n",
            "Epoch: 20 \tTraining Loss: 0.731199\n"
          ]
        },
        {
          "output_type": "stream",
          "name": "stderr",
          "text": [
            "100%|██████████| 8/8 [00:00<00:00, 14.90it/s]\n"
          ]
        },
        {
          "output_type": "stream",
          "name": "stdout",
          "text": [
            "Epoch: 20 \tTraining Loss: 0.757121\n"
          ]
        },
        {
          "output_type": "stream",
          "name": "stderr",
          "text": [
            " 25%|██▌       | 2/8 [00:00<00:00, 14.04it/s]"
          ]
        },
        {
          "output_type": "stream",
          "name": "stdout",
          "text": [
            "Epoch: 21 \tTraining Loss: 0.738367\n",
            "Epoch: 21 \tTraining Loss: 0.736169\n",
            "Epoch: 21 \tTraining Loss: 0.735067\n"
          ]
        },
        {
          "output_type": "stream",
          "name": "stderr",
          "text": [
            " 75%|███████▌  | 6/8 [00:00<00:00, 14.13it/s]"
          ]
        },
        {
          "output_type": "stream",
          "name": "stdout",
          "text": [
            "Epoch: 21 \tTraining Loss: 0.735259\n",
            "Epoch: 21 \tTraining Loss: 0.743274\n",
            "Epoch: 21 \tTraining Loss: 0.731480\n",
            "Epoch: 21 \tTraining Loss: 0.730428\n"
          ]
        },
        {
          "output_type": "stream",
          "name": "stderr",
          "text": [
            "100%|██████████| 8/8 [00:00<00:00, 14.09it/s]\n"
          ]
        },
        {
          "output_type": "stream",
          "name": "stdout",
          "text": [
            "Epoch: 21 \tTraining Loss: 0.756788\n"
          ]
        },
        {
          "output_type": "stream",
          "name": "stderr",
          "text": [
            "\r  0%|          | 0/8 [00:00<?, ?it/s]"
          ]
        },
        {
          "output_type": "stream",
          "name": "stdout",
          "text": [
            "Epoch: 22 \tTraining Loss: 0.737576\n"
          ]
        },
        {
          "output_type": "stream",
          "name": "stderr",
          "text": [
            "\r 25%|██▌       | 2/8 [00:00<00:00, 14.10it/s]"
          ]
        },
        {
          "output_type": "stream",
          "name": "stdout",
          "text": [
            "Epoch: 22 \tTraining Loss: 0.735315\n"
          ]
        },
        {
          "output_type": "stream",
          "name": "stderr",
          "text": [
            "\r 50%|█████     | 4/8 [00:00<00:00, 14.98it/s]"
          ]
        },
        {
          "output_type": "stream",
          "name": "stdout",
          "text": [
            "Epoch: 22 \tTraining Loss: 0.734235\n",
            "Epoch: 22 \tTraining Loss: 0.734448\n",
            "Epoch: 22 \tTraining Loss: 0.742596\n"
          ]
        },
        {
          "output_type": "stream",
          "name": "stderr",
          "text": [
            "100%|██████████| 8/8 [00:00<00:00, 14.56it/s]\n"
          ]
        },
        {
          "output_type": "stream",
          "name": "stdout",
          "text": [
            "Epoch: 22 \tTraining Loss: 0.730538\n",
            "Epoch: 22 \tTraining Loss: 0.729608\n",
            "Epoch: 22 \tTraining Loss: 0.756434\n"
          ]
        },
        {
          "output_type": "stream",
          "name": "stderr",
          "text": [
            " 50%|█████     | 4/8 [00:00<00:00, 15.26it/s]"
          ]
        },
        {
          "output_type": "stream",
          "name": "stdout",
          "text": [
            "Epoch: 23 \tTraining Loss: 0.736735\n",
            "Epoch: 23 \tTraining Loss: 0.734393\n",
            "Epoch: 23 \tTraining Loss: 0.733342\n",
            "Epoch: 23 \tTraining Loss: 0.733577\n"
          ]
        },
        {
          "output_type": "stream",
          "name": "stderr",
          "text": [
            "100%|██████████| 8/8 [00:00<00:00, 15.66it/s]\n"
          ]
        },
        {
          "output_type": "stream",
          "name": "stdout",
          "text": [
            "Epoch: 23 \tTraining Loss: 0.741834\n",
            "Epoch: 23 \tTraining Loss: 0.729548\n",
            "Epoch: 23 \tTraining Loss: 0.728742\n",
            "Epoch: 23 \tTraining Loss: 0.756065\n"
          ]
        },
        {
          "output_type": "stream",
          "name": "stderr",
          "text": [
            " 50%|█████     | 4/8 [00:00<00:00, 16.37it/s]"
          ]
        },
        {
          "output_type": "stream",
          "name": "stdout",
          "text": [
            "Epoch: 24 \tTraining Loss: 0.735819\n",
            "Epoch: 24 \tTraining Loss: 0.733426\n",
            "Epoch: 24 \tTraining Loss: 0.732412\n",
            "Epoch: 24 \tTraining Loss: 0.732675\n"
          ]
        },
        {
          "output_type": "stream",
          "name": "stderr",
          "text": [
            "100%|██████████| 8/8 [00:00<00:00, 15.40it/s]\n"
          ]
        },
        {
          "output_type": "stream",
          "name": "stdout",
          "text": [
            "Epoch: 24 \tTraining Loss: 0.741033\n",
            "Epoch: 24 \tTraining Loss: 0.728534\n",
            "Epoch: 24 \tTraining Loss: 0.727866\n",
            "Epoch: 24 \tTraining Loss: 0.755714\n"
          ]
        },
        {
          "output_type": "stream",
          "name": "stderr",
          "text": [
            " 50%|█████     | 4/8 [00:00<00:00, 15.66it/s]"
          ]
        },
        {
          "output_type": "stream",
          "name": "stdout",
          "text": [
            "Epoch: 25 \tTraining Loss: 0.734912\n",
            "Epoch: 25 \tTraining Loss: 0.732470\n",
            "Epoch: 25 \tTraining Loss: 0.731483\n",
            "Epoch: 25 \tTraining Loss: 0.731784\n"
          ]
        },
        {
          "output_type": "stream",
          "name": "stderr",
          "text": [
            "100%|██████████| 8/8 [00:00<00:00, 15.60it/s]\n"
          ]
        },
        {
          "output_type": "stream",
          "name": "stdout",
          "text": [
            "Epoch: 25 \tTraining Loss: 0.740232\n",
            "Epoch: 25 \tTraining Loss: 0.727591\n",
            "Epoch: 25 \tTraining Loss: 0.727001\n",
            "Epoch: 25 \tTraining Loss: 0.755378\n"
          ]
        },
        {
          "output_type": "stream",
          "name": "stderr",
          "text": [
            " 50%|█████     | 4/8 [00:00<00:00, 15.03it/s]"
          ]
        },
        {
          "output_type": "stream",
          "name": "stdout",
          "text": [
            "Epoch: 26 \tTraining Loss: 0.734056\n",
            "Epoch: 26 \tTraining Loss: 0.731555\n",
            "Epoch: 26 \tTraining Loss: 0.730580\n",
            "Epoch: 26 \tTraining Loss: 0.730906\n"
          ]
        },
        {
          "output_type": "stream",
          "name": "stderr",
          "text": [
            "100%|██████████| 8/8 [00:00<00:00, 14.96it/s]\n"
          ]
        },
        {
          "output_type": "stream",
          "name": "stdout",
          "text": [
            "Epoch: 26 \tTraining Loss: 0.739376\n",
            "Epoch: 26 \tTraining Loss: 0.726619\n",
            "Epoch: 26 \tTraining Loss: 0.726017\n",
            "Epoch: 26 \tTraining Loss: 0.754967\n"
          ]
        },
        {
          "output_type": "stream",
          "name": "stderr",
          "text": [
            " 25%|██▌       | 2/8 [00:00<00:00, 13.67it/s]"
          ]
        },
        {
          "output_type": "stream",
          "name": "stdout",
          "text": [
            "Epoch: 27 \tTraining Loss: 0.733125\n",
            "Epoch: 27 \tTraining Loss: 0.730532\n",
            "Epoch: 27 \tTraining Loss: 0.729548\n"
          ]
        },
        {
          "output_type": "stream",
          "name": "stderr",
          "text": [
            " 75%|███████▌  | 6/8 [00:00<00:00, 14.87it/s]"
          ]
        },
        {
          "output_type": "stream",
          "name": "stdout",
          "text": [
            "Epoch: 27 \tTraining Loss: 0.729906\n",
            "Epoch: 27 \tTraining Loss: 0.738484\n",
            "Epoch: 27 \tTraining Loss: 0.725637\n",
            "Epoch: 27 \tTraining Loss: 0.725070\n"
          ]
        },
        {
          "output_type": "stream",
          "name": "stderr",
          "text": [
            "100%|██████████| 8/8 [00:00<00:00, 14.61it/s]\n"
          ]
        },
        {
          "output_type": "stream",
          "name": "stdout",
          "text": [
            "Epoch: 27 \tTraining Loss: 0.754624\n"
          ]
        },
        {
          "output_type": "stream",
          "name": "stderr",
          "text": [
            " 25%|██▌       | 2/8 [00:00<00:00, 14.61it/s]"
          ]
        },
        {
          "output_type": "stream",
          "name": "stdout",
          "text": [
            "Epoch: 28 \tTraining Loss: 0.732335\n",
            "Epoch: 28 \tTraining Loss: 0.729677\n",
            "Epoch: 28 \tTraining Loss: 0.728714\n"
          ]
        },
        {
          "output_type": "stream",
          "name": "stderr",
          "text": [
            " 75%|███████▌  | 6/8 [00:00<00:00, 15.01it/s]"
          ]
        },
        {
          "output_type": "stream",
          "name": "stdout",
          "text": [
            "Epoch: 28 \tTraining Loss: 0.729108\n",
            "Epoch: 28 \tTraining Loss: 0.737781\n",
            "Epoch: 28 \tTraining Loss: 0.724858\n"
          ]
        },
        {
          "output_type": "stream",
          "name": "stderr",
          "text": [
            "100%|██████████| 8/8 [00:00<00:00, 14.43it/s]\n"
          ]
        },
        {
          "output_type": "stream",
          "name": "stdout",
          "text": [
            "Epoch: 28 \tTraining Loss: 0.724322\n",
            "Epoch: 28 \tTraining Loss: 0.754340\n"
          ]
        },
        {
          "output_type": "stream",
          "name": "stderr",
          "text": [
            "\r  0%|          | 0/8 [00:00<?, ?it/s]"
          ]
        },
        {
          "output_type": "stream",
          "name": "stdout",
          "text": [
            "Epoch: 29 \tTraining Loss: 0.731687\n"
          ]
        },
        {
          "output_type": "stream",
          "name": "stderr",
          "text": [
            " 50%|█████     | 4/8 [00:00<00:00, 15.19it/s]"
          ]
        },
        {
          "output_type": "stream",
          "name": "stdout",
          "text": [
            "Epoch: 29 \tTraining Loss: 0.729000\n",
            "Epoch: 29 \tTraining Loss: 0.728083\n",
            "Epoch: 29 \tTraining Loss: 0.728522\n",
            "Epoch: 29 \tTraining Loss: 0.737284\n"
          ]
        },
        {
          "output_type": "stream",
          "name": "stderr",
          "text": [
            "100%|██████████| 8/8 [00:00<00:00, 15.28it/s]\n"
          ]
        },
        {
          "output_type": "stream",
          "name": "stdout",
          "text": [
            "Epoch: 29 \tTraining Loss: 0.724315\n",
            "Epoch: 29 \tTraining Loss: 0.723804\n",
            "Epoch: 29 \tTraining Loss: 0.754149\n"
          ]
        },
        {
          "output_type": "stream",
          "name": "stderr",
          "text": [
            " 25%|██▌       | 2/8 [00:00<00:00, 14.43it/s]"
          ]
        },
        {
          "output_type": "stream",
          "name": "stdout",
          "text": [
            "Epoch: 30 \tTraining Loss: 0.731247\n",
            "Epoch: 30 \tTraining Loss: 0.728537\n",
            "Epoch: 30 \tTraining Loss: 0.727669\n"
          ]
        },
        {
          "output_type": "stream",
          "name": "stderr",
          "text": [
            " 75%|███████▌  | 6/8 [00:00<00:00, 14.54it/s]"
          ]
        },
        {
          "output_type": "stream",
          "name": "stdout",
          "text": [
            "Epoch: 30 \tTraining Loss: 0.728137\n",
            "Epoch: 30 \tTraining Loss: 0.736962\n",
            "Epoch: 30 \tTraining Loss: 0.723955\n"
          ]
        },
        {
          "output_type": "stream",
          "name": "stderr",
          "text": [
            "100%|██████████| 8/8 [00:00<00:00, 14.47it/s]\n"
          ]
        },
        {
          "output_type": "stream",
          "name": "stdout",
          "text": [
            "Epoch: 30 \tTraining Loss: 0.723440\n",
            "Epoch: 30 \tTraining Loss: 0.753996\n"
          ]
        },
        {
          "output_type": "stream",
          "name": "stderr",
          "text": [
            "\r  0%|          | 0/8 [00:00<?, ?it/s]"
          ]
        },
        {
          "output_type": "stream",
          "name": "stdout",
          "text": [
            "Epoch: 31 \tTraining Loss: 0.730947\n"
          ]
        },
        {
          "output_type": "stream",
          "name": "stderr",
          "text": [
            " 50%|█████     | 4/8 [00:00<00:00, 14.43it/s]"
          ]
        },
        {
          "output_type": "stream",
          "name": "stdout",
          "text": [
            "Epoch: 31 \tTraining Loss: 0.728230\n",
            "Epoch: 31 \tTraining Loss: 0.727397\n",
            "Epoch: 31 \tTraining Loss: 0.727889\n"
          ]
        },
        {
          "output_type": "stream",
          "name": "stderr",
          "text": [
            "100%|██████████| 8/8 [00:00<00:00, 14.61it/s]\n"
          ]
        },
        {
          "output_type": "stream",
          "name": "stdout",
          "text": [
            "Epoch: 31 \tTraining Loss: 0.736758\n",
            "Epoch: 31 \tTraining Loss: 0.723694\n",
            "Epoch: 31 \tTraining Loss: 0.723175\n",
            "Epoch: 31 \tTraining Loss: 0.753874\n"
          ]
        },
        {
          "output_type": "stream",
          "name": "stderr",
          "text": [
            " 50%|█████     | 4/8 [00:00<00:00, 14.31it/s]"
          ]
        },
        {
          "output_type": "stream",
          "name": "stdout",
          "text": [
            "Epoch: 32 \tTraining Loss: 0.730747\n",
            "Epoch: 32 \tTraining Loss: 0.728021\n",
            "Epoch: 32 \tTraining Loss: 0.727204\n",
            "Epoch: 32 \tTraining Loss: 0.727716\n"
          ]
        },
        {
          "output_type": "stream",
          "name": "stderr",
          "text": [
            "100%|██████████| 8/8 [00:00<00:00, 14.56it/s]\n"
          ]
        },
        {
          "output_type": "stream",
          "name": "stdout",
          "text": [
            "Epoch: 32 \tTraining Loss: 0.736622\n",
            "Epoch: 32 \tTraining Loss: 0.723511\n",
            "Epoch: 32 \tTraining Loss: 0.722967\n",
            "Epoch: 32 \tTraining Loss: 0.753774\n"
          ]
        },
        {
          "output_type": "stream",
          "name": "stderr",
          "text": [
            " 50%|█████     | 4/8 [00:00<00:00, 14.72it/s]"
          ]
        },
        {
          "output_type": "stream",
          "name": "stdout",
          "text": [
            "Epoch: 33 \tTraining Loss: 0.730595\n",
            "Epoch: 33 \tTraining Loss: 0.727872\n",
            "Epoch: 33 \tTraining Loss: 0.727072\n",
            "Epoch: 33 \tTraining Loss: 0.727590\n"
          ]
        },
        {
          "output_type": "stream",
          "name": "stderr",
          "text": [
            "100%|██████████| 8/8 [00:00<00:00, 14.64it/s]"
          ]
        },
        {
          "output_type": "stream",
          "name": "stdout",
          "text": [
            "Epoch: 33 \tTraining Loss: 0.736523\n",
            "Epoch: 33 \tTraining Loss: 0.723362\n",
            "Epoch: 33 \tTraining Loss: 0.722808\n",
            "Epoch: 33 \tTraining Loss: 0.753681\n"
          ]
        },
        {
          "output_type": "stream",
          "name": "stderr",
          "text": [
            "100%|██████████| 8/8 [00:00<00:00, 14.63it/s]\n",
            " 25%|██▌       | 2/8 [00:00<00:00, 13.24it/s]"
          ]
        },
        {
          "output_type": "stream",
          "name": "stdout",
          "text": [
            "Epoch: 34 \tTraining Loss: 0.730461\n",
            "Epoch: 34 \tTraining Loss: 0.727755\n",
            "Epoch: 34 \tTraining Loss: 0.726974\n"
          ]
        },
        {
          "output_type": "stream",
          "name": "stderr",
          "text": [
            " 75%|███████▌  | 6/8 [00:00<00:00, 14.28it/s]"
          ]
        },
        {
          "output_type": "stream",
          "name": "stdout",
          "text": [
            "Epoch: 34 \tTraining Loss: 0.727502\n",
            "Epoch: 34 \tTraining Loss: 0.736448\n",
            "Epoch: 34 \tTraining Loss: 0.723251\n"
          ]
        },
        {
          "output_type": "stream",
          "name": "stderr",
          "text": [
            "100%|██████████| 8/8 [00:00<00:00, 14.14it/s]\n"
          ]
        },
        {
          "output_type": "stream",
          "name": "stdout",
          "text": [
            "Epoch: 34 \tTraining Loss: 0.722685\n",
            "Epoch: 34 \tTraining Loss: 0.753620\n"
          ]
        },
        {
          "output_type": "stream",
          "name": "stderr",
          "text": [
            "\r  0%|          | 0/8 [00:00<?, ?it/s]"
          ]
        },
        {
          "output_type": "stream",
          "name": "stdout",
          "text": [
            "Epoch: 35 \tTraining Loss: 0.730375\n"
          ]
        },
        {
          "output_type": "stream",
          "name": "stderr",
          "text": [
            "\r 25%|██▌       | 2/8 [00:00<00:00, 13.63it/s]"
          ]
        },
        {
          "output_type": "stream",
          "name": "stdout",
          "text": [
            "Epoch: 35 \tTraining Loss: 0.727667\n",
            "Epoch: 35 \tTraining Loss: 0.726896\n"
          ]
        },
        {
          "output_type": "stream",
          "name": "stderr",
          "text": [
            "\r 50%|█████     | 4/8 [00:00<00:00, 13.68it/s]"
          ]
        },
        {
          "output_type": "stream",
          "name": "stdout",
          "text": [
            "Epoch: 35 \tTraining Loss: 0.727431\n"
          ]
        },
        {
          "output_type": "stream",
          "name": "stderr",
          "text": [
            "\r 75%|███████▌  | 6/8 [00:00<00:00, 13.07it/s]"
          ]
        },
        {
          "output_type": "stream",
          "name": "stdout",
          "text": [
            "Epoch: 35 \tTraining Loss: 0.736388\n",
            "Epoch: 35 \tTraining Loss: 0.723161\n",
            "Epoch: 35 \tTraining Loss: 0.722582\n"
          ]
        },
        {
          "output_type": "stream",
          "name": "stderr",
          "text": [
            "100%|██████████| 8/8 [00:00<00:00, 13.27it/s]\n"
          ]
        },
        {
          "output_type": "stream",
          "name": "stdout",
          "text": [
            "Epoch: 35 \tTraining Loss: 0.753560\n"
          ]
        },
        {
          "output_type": "stream",
          "name": "stderr",
          "text": [
            "\r  0%|          | 0/8 [00:00<?, ?it/s]"
          ]
        },
        {
          "output_type": "stream",
          "name": "stdout",
          "text": [
            "Epoch: 36 \tTraining Loss: 0.730299\n"
          ]
        },
        {
          "output_type": "stream",
          "name": "stderr",
          "text": [
            "\r 25%|██▌       | 2/8 [00:00<00:00, 13.65it/s]"
          ]
        },
        {
          "output_type": "stream",
          "name": "stdout",
          "text": [
            "Epoch: 36 \tTraining Loss: 0.727598\n",
            "Epoch: 36 \tTraining Loss: 0.726833\n"
          ]
        },
        {
          "output_type": "stream",
          "name": "stderr",
          "text": [
            "\r 50%|█████     | 4/8 [00:00<00:00, 13.37it/s]"
          ]
        },
        {
          "output_type": "stream",
          "name": "stdout",
          "text": [
            "Epoch: 36 \tTraining Loss: 0.727375\n",
            "Epoch: 36 \tTraining Loss: 0.736338\n"
          ]
        },
        {
          "output_type": "stream",
          "name": "stderr",
          "text": [
            "\r 75%|███████▌  | 6/8 [00:00<00:00, 13.88it/s]"
          ]
        },
        {
          "output_type": "stream",
          "name": "stdout",
          "text": [
            "Epoch: 36 \tTraining Loss: 0.723090\n",
            "Epoch: 36 \tTraining Loss: 0.722496\n"
          ]
        },
        {
          "output_type": "stream",
          "name": "stderr",
          "text": [
            "100%|██████████| 8/8 [00:00<00:00, 13.62it/s]\n"
          ]
        },
        {
          "output_type": "stream",
          "name": "stdout",
          "text": [
            "Epoch: 36 \tTraining Loss: 0.753513\n"
          ]
        },
        {
          "output_type": "stream",
          "name": "stderr",
          "text": [
            "\r  0%|          | 0/8 [00:00<?, ?it/s]"
          ]
        },
        {
          "output_type": "stream",
          "name": "stdout",
          "text": [
            "Epoch: 37 \tTraining Loss: 0.730231\n"
          ]
        },
        {
          "output_type": "stream",
          "name": "stderr",
          "text": [
            "\r 25%|██▌       | 2/8 [00:00<00:00, 13.70it/s]"
          ]
        },
        {
          "output_type": "stream",
          "name": "stdout",
          "text": [
            "Epoch: 37 \tTraining Loss: 0.727534\n",
            "Epoch: 37 \tTraining Loss: 0.726773\n"
          ]
        },
        {
          "output_type": "stream",
          "name": "stderr",
          "text": [
            "\r 50%|█████     | 4/8 [00:00<00:00, 13.19it/s]"
          ]
        },
        {
          "output_type": "stream",
          "name": "stdout",
          "text": [
            "Epoch: 37 \tTraining Loss: 0.727321\n",
            "Epoch: 37 \tTraining Loss: 0.736292\n"
          ]
        },
        {
          "output_type": "stream",
          "name": "stderr",
          "text": [
            "\r 75%|███████▌  | 6/8 [00:00<00:00, 13.16it/s]"
          ]
        },
        {
          "output_type": "stream",
          "name": "stdout",
          "text": [
            "Epoch: 37 \tTraining Loss: 0.723028\n",
            "Epoch: 37 \tTraining Loss: 0.722422\n"
          ]
        },
        {
          "output_type": "stream",
          "name": "stderr",
          "text": [
            "100%|██████████| 8/8 [00:00<00:00, 13.45it/s]\n"
          ]
        },
        {
          "output_type": "stream",
          "name": "stdout",
          "text": [
            "Epoch: 37 \tTraining Loss: 0.753472\n"
          ]
        },
        {
          "output_type": "stream",
          "name": "stderr",
          "text": [
            "\r  0%|          | 0/8 [00:00<?, ?it/s]"
          ]
        },
        {
          "output_type": "stream",
          "name": "stdout",
          "text": [
            "Epoch: 38 \tTraining Loss: 0.730169\n"
          ]
        },
        {
          "output_type": "stream",
          "name": "stderr",
          "text": [
            "\r 25%|██▌       | 2/8 [00:00<00:00, 12.94it/s]"
          ]
        },
        {
          "output_type": "stream",
          "name": "stdout",
          "text": [
            "Epoch: 38 \tTraining Loss: 0.727477\n",
            "Epoch: 38 \tTraining Loss: 0.726718\n"
          ]
        },
        {
          "output_type": "stream",
          "name": "stderr",
          "text": [
            "\r 50%|█████     | 4/8 [00:00<00:00, 13.41it/s]"
          ]
        },
        {
          "output_type": "stream",
          "name": "stdout",
          "text": [
            "Epoch: 38 \tTraining Loss: 0.727275\n",
            "Epoch: 38 \tTraining Loss: 0.736250\n"
          ]
        },
        {
          "output_type": "stream",
          "name": "stderr",
          "text": [
            "\r 75%|███████▌  | 6/8 [00:00<00:00, 13.57it/s]"
          ]
        },
        {
          "output_type": "stream",
          "name": "stdout",
          "text": [
            "Epoch: 38 \tTraining Loss: 0.722972\n",
            "Epoch: 38 \tTraining Loss: 0.722360\n"
          ]
        },
        {
          "output_type": "stream",
          "name": "stderr",
          "text": [
            "100%|██████████| 8/8 [00:00<00:00, 13.64it/s]\n"
          ]
        },
        {
          "output_type": "stream",
          "name": "stdout",
          "text": [
            "Epoch: 38 \tTraining Loss: 0.753436\n"
          ]
        },
        {
          "output_type": "stream",
          "name": "stderr",
          "text": [
            "\r  0%|          | 0/8 [00:00<?, ?it/s]"
          ]
        },
        {
          "output_type": "stream",
          "name": "stdout",
          "text": [
            "Epoch: 39 \tTraining Loss: 0.730117\n"
          ]
        },
        {
          "output_type": "stream",
          "name": "stderr",
          "text": [
            "\r 25%|██▌       | 2/8 [00:00<00:00, 11.88it/s]"
          ]
        },
        {
          "output_type": "stream",
          "name": "stdout",
          "text": [
            "Epoch: 39 \tTraining Loss: 0.727428\n",
            "Epoch: 39 \tTraining Loss: 0.726673\n"
          ]
        },
        {
          "output_type": "stream",
          "name": "stderr",
          "text": [
            "\r 50%|█████     | 4/8 [00:00<00:00, 12.72it/s]"
          ]
        },
        {
          "output_type": "stream",
          "name": "stdout",
          "text": [
            "Epoch: 39 \tTraining Loss: 0.727235\n",
            "Epoch: 39 \tTraining Loss: 0.736214\n"
          ]
        },
        {
          "output_type": "stream",
          "name": "stderr",
          "text": [
            "\r 75%|███████▌  | 6/8 [00:00<00:00, 12.75it/s]"
          ]
        },
        {
          "output_type": "stream",
          "name": "stdout",
          "text": [
            "Epoch: 39 \tTraining Loss: 0.722925\n",
            "Epoch: 39 \tTraining Loss: 0.722308\n"
          ]
        },
        {
          "output_type": "stream",
          "name": "stderr",
          "text": [
            "100%|██████████| 8/8 [00:00<00:00, 12.92it/s]\n"
          ]
        },
        {
          "output_type": "stream",
          "name": "stdout",
          "text": [
            "Epoch: 39 \tTraining Loss: 0.753406\n"
          ]
        },
        {
          "output_type": "stream",
          "name": "stderr",
          "text": [
            "\r  0%|          | 0/8 [00:00<?, ?it/s]"
          ]
        },
        {
          "output_type": "stream",
          "name": "stdout",
          "text": [
            "Epoch: 40 \tTraining Loss: 0.730072\n"
          ]
        },
        {
          "output_type": "stream",
          "name": "stderr",
          "text": [
            "\r 25%|██▌       | 2/8 [00:00<00:00, 13.61it/s]"
          ]
        },
        {
          "output_type": "stream",
          "name": "stdout",
          "text": [
            "Epoch: 40 \tTraining Loss: 0.727381\n",
            "Epoch: 40 \tTraining Loss: 0.726628\n"
          ]
        },
        {
          "output_type": "stream",
          "name": "stderr",
          "text": [
            "\r 50%|█████     | 4/8 [00:00<00:00, 13.97it/s]"
          ]
        },
        {
          "output_type": "stream",
          "name": "stdout",
          "text": [
            "Epoch: 40 \tTraining Loss: 0.727196\n",
            "Epoch: 40 \tTraining Loss: 0.736182\n"
          ]
        },
        {
          "output_type": "stream",
          "name": "stderr",
          "text": [
            "\r 75%|███████▌  | 6/8 [00:00<00:00, 13.24it/s]"
          ]
        },
        {
          "output_type": "stream",
          "name": "stdout",
          "text": [
            "Epoch: 40 \tTraining Loss: 0.722883\n",
            "Epoch: 40 \tTraining Loss: 0.722259\n"
          ]
        },
        {
          "output_type": "stream",
          "name": "stderr",
          "text": [
            "100%|██████████| 8/8 [00:00<00:00, 13.39it/s]\n"
          ]
        },
        {
          "output_type": "stream",
          "name": "stdout",
          "text": [
            "Epoch: 40 \tTraining Loss: 0.753375\n"
          ]
        },
        {
          "output_type": "stream",
          "name": "stderr",
          "text": [
            "\r  0%|          | 0/8 [00:00<?, ?it/s]"
          ]
        },
        {
          "output_type": "stream",
          "name": "stdout",
          "text": [
            "Epoch: 41 \tTraining Loss: 0.730029\n"
          ]
        },
        {
          "output_type": "stream",
          "name": "stderr",
          "text": [
            "\r 25%|██▌       | 2/8 [00:00<00:00, 13.81it/s]"
          ]
        },
        {
          "output_type": "stream",
          "name": "stdout",
          "text": [
            "Epoch: 41 \tTraining Loss: 0.727340\n",
            "Epoch: 41 \tTraining Loss: 0.726587\n"
          ]
        },
        {
          "output_type": "stream",
          "name": "stderr",
          "text": [
            "\r 50%|█████     | 4/8 [00:00<00:00, 13.70it/s]"
          ]
        },
        {
          "output_type": "stream",
          "name": "stdout",
          "text": [
            "Epoch: 41 \tTraining Loss: 0.727162\n",
            "Epoch: 41 \tTraining Loss: 0.736153\n"
          ]
        },
        {
          "output_type": "stream",
          "name": "stderr",
          "text": [
            "\r 75%|███████▌  | 6/8 [00:00<00:00, 13.69it/s]"
          ]
        },
        {
          "output_type": "stream",
          "name": "stdout",
          "text": [
            "Epoch: 41 \tTraining Loss: 0.722846\n",
            "Epoch: 41 \tTraining Loss: 0.722221\n"
          ]
        },
        {
          "output_type": "stream",
          "name": "stderr",
          "text": [
            "100%|██████████| 8/8 [00:00<00:00, 13.55it/s]\n"
          ]
        },
        {
          "output_type": "stream",
          "name": "stdout",
          "text": [
            "Epoch: 41 \tTraining Loss: 0.753352\n"
          ]
        },
        {
          "output_type": "stream",
          "name": "stderr",
          "text": [
            "\r  0%|          | 0/8 [00:00<?, ?it/s]"
          ]
        },
        {
          "output_type": "stream",
          "name": "stdout",
          "text": [
            "Epoch: 42 \tTraining Loss: 0.729992\n"
          ]
        },
        {
          "output_type": "stream",
          "name": "stderr",
          "text": [
            "\r 25%|██▌       | 2/8 [00:00<00:00, 12.81it/s]"
          ]
        },
        {
          "output_type": "stream",
          "name": "stdout",
          "text": [
            "Epoch: 42 \tTraining Loss: 0.727301\n",
            "Epoch: 42 \tTraining Loss: 0.726551\n"
          ]
        },
        {
          "output_type": "stream",
          "name": "stderr",
          "text": [
            "\r 50%|█████     | 4/8 [00:00<00:00, 12.68it/s]"
          ]
        },
        {
          "output_type": "stream",
          "name": "stdout",
          "text": [
            "Epoch: 42 \tTraining Loss: 0.727130\n",
            "Epoch: 42 \tTraining Loss: 0.736128\n"
          ]
        },
        {
          "output_type": "stream",
          "name": "stderr",
          "text": [
            "\r 75%|███████▌  | 6/8 [00:00<00:00, 12.53it/s]"
          ]
        },
        {
          "output_type": "stream",
          "name": "stdout",
          "text": [
            "Epoch: 42 \tTraining Loss: 0.722812\n",
            "Epoch: 42 \tTraining Loss: 0.722182\n"
          ]
        },
        {
          "output_type": "stream",
          "name": "stderr",
          "text": [
            "100%|██████████| 8/8 [00:00<00:00, 12.67it/s]\n"
          ]
        },
        {
          "output_type": "stream",
          "name": "stdout",
          "text": [
            "Epoch: 42 \tTraining Loss: 0.753325\n"
          ]
        },
        {
          "output_type": "stream",
          "name": "stderr",
          "text": [
            "\r  0%|          | 0/8 [00:00<?, ?it/s]"
          ]
        },
        {
          "output_type": "stream",
          "name": "stdout",
          "text": [
            "Epoch: 43 \tTraining Loss: 0.729953\n"
          ]
        },
        {
          "output_type": "stream",
          "name": "stderr",
          "text": [
            "\r 25%|██▌       | 2/8 [00:00<00:00, 12.91it/s]"
          ]
        },
        {
          "output_type": "stream",
          "name": "stdout",
          "text": [
            "Epoch: 43 \tTraining Loss: 0.727263\n",
            "Epoch: 43 \tTraining Loss: 0.726513\n"
          ]
        },
        {
          "output_type": "stream",
          "name": "stderr",
          "text": [
            "\r 50%|█████     | 4/8 [00:00<00:00, 12.85it/s]"
          ]
        },
        {
          "output_type": "stream",
          "name": "stdout",
          "text": [
            "Epoch: 43 \tTraining Loss: 0.727099\n",
            "Epoch: 43 \tTraining Loss: 0.736104\n"
          ]
        },
        {
          "output_type": "stream",
          "name": "stderr",
          "text": [
            "\r 75%|███████▌  | 6/8 [00:00<00:00, 13.16it/s]"
          ]
        },
        {
          "output_type": "stream",
          "name": "stdout",
          "text": [
            "Epoch: 43 \tTraining Loss: 0.722780\n",
            "Epoch: 43 \tTraining Loss: 0.722148\n"
          ]
        },
        {
          "output_type": "stream",
          "name": "stderr",
          "text": [
            "100%|██████████| 8/8 [00:00<00:00, 13.23it/s]\n"
          ]
        },
        {
          "output_type": "stream",
          "name": "stdout",
          "text": [
            "Epoch: 43 \tTraining Loss: 0.753301\n"
          ]
        },
        {
          "output_type": "stream",
          "name": "stderr",
          "text": [
            "\r  0%|          | 0/8 [00:00<?, ?it/s]"
          ]
        },
        {
          "output_type": "stream",
          "name": "stdout",
          "text": [
            "Epoch: 44 \tTraining Loss: 0.729917\n"
          ]
        },
        {
          "output_type": "stream",
          "name": "stderr",
          "text": [
            "\r 25%|██▌       | 2/8 [00:00<00:00, 12.22it/s]"
          ]
        },
        {
          "output_type": "stream",
          "name": "stdout",
          "text": [
            "Epoch: 44 \tTraining Loss: 0.727227\n",
            "Epoch: 44 \tTraining Loss: 0.726480\n"
          ]
        },
        {
          "output_type": "stream",
          "name": "stderr",
          "text": [
            "\r 50%|█████     | 4/8 [00:00<00:00, 13.51it/s]"
          ]
        },
        {
          "output_type": "stream",
          "name": "stdout",
          "text": [
            "Epoch: 44 \tTraining Loss: 0.727070\n",
            "Epoch: 44 \tTraining Loss: 0.736081\n"
          ]
        },
        {
          "output_type": "stream",
          "name": "stderr",
          "text": [
            "\r 75%|███████▌  | 6/8 [00:00<00:00, 13.56it/s]"
          ]
        },
        {
          "output_type": "stream",
          "name": "stdout",
          "text": [
            "Epoch: 44 \tTraining Loss: 0.722750\n"
          ]
        },
        {
          "output_type": "stream",
          "name": "stderr",
          "text": [
            "\r100%|██████████| 8/8 [00:00<00:00, 14.10it/s]"
          ]
        },
        {
          "output_type": "stream",
          "name": "stdout",
          "text": [
            "Epoch: 44 \tTraining Loss: 0.722116\n",
            "Epoch: 44 \tTraining Loss: 0.753279\n"
          ]
        },
        {
          "output_type": "stream",
          "name": "stderr",
          "text": [
            "100%|██████████| 8/8 [00:00<00:00, 13.73it/s]\n",
            "  0%|          | 0/8 [00:00<?, ?it/s]"
          ]
        },
        {
          "output_type": "stream",
          "name": "stdout",
          "text": [
            "Epoch: 45 \tTraining Loss: 0.729882\n"
          ]
        },
        {
          "output_type": "stream",
          "name": "stderr",
          "text": [
            "\r 25%|██▌       | 2/8 [00:00<00:00, 13.85it/s]"
          ]
        },
        {
          "output_type": "stream",
          "name": "stdout",
          "text": [
            "Epoch: 45 \tTraining Loss: 0.727189\n",
            "Epoch: 45 \tTraining Loss: 0.726444\n"
          ]
        },
        {
          "output_type": "stream",
          "name": "stderr",
          "text": [
            "\r 50%|█████     | 4/8 [00:00<00:00, 13.88it/s]"
          ]
        },
        {
          "output_type": "stream",
          "name": "stdout",
          "text": [
            "Epoch: 45 \tTraining Loss: 0.727041\n"
          ]
        },
        {
          "output_type": "stream",
          "name": "stderr",
          "text": [
            "\r 75%|███████▌  | 6/8 [00:00<00:00, 14.06it/s]"
          ]
        },
        {
          "output_type": "stream",
          "name": "stdout",
          "text": [
            "Epoch: 45 \tTraining Loss: 0.736057\n",
            "Epoch: 45 \tTraining Loss: 0.722721\n",
            "Epoch: 45 \tTraining Loss: 0.722089\n"
          ]
        },
        {
          "output_type": "stream",
          "name": "stderr",
          "text": [
            "100%|██████████| 8/8 [00:00<00:00, 13.73it/s]\n"
          ]
        },
        {
          "output_type": "stream",
          "name": "stdout",
          "text": [
            "Epoch: 45 \tTraining Loss: 0.753259\n"
          ]
        },
        {
          "output_type": "stream",
          "name": "stderr",
          "text": [
            "\r  0%|          | 0/8 [00:00<?, ?it/s]"
          ]
        },
        {
          "output_type": "stream",
          "name": "stdout",
          "text": [
            "Epoch: 46 \tTraining Loss: 0.729849\n"
          ]
        },
        {
          "output_type": "stream",
          "name": "stderr",
          "text": [
            "\r 25%|██▌       | 2/8 [00:00<00:00, 13.76it/s]"
          ]
        },
        {
          "output_type": "stream",
          "name": "stdout",
          "text": [
            "Epoch: 46 \tTraining Loss: 0.727151\n",
            "Epoch: 46 \tTraining Loss: 0.726409\n"
          ]
        },
        {
          "output_type": "stream",
          "name": "stderr",
          "text": [
            "\r 50%|█████     | 4/8 [00:00<00:00, 13.76it/s]"
          ]
        },
        {
          "output_type": "stream",
          "name": "stdout",
          "text": [
            "Epoch: 46 \tTraining Loss: 0.727012\n",
            "Epoch: 46 \tTraining Loss: 0.736034\n"
          ]
        },
        {
          "output_type": "stream",
          "name": "stderr",
          "text": [
            "\r 75%|███████▌  | 6/8 [00:00<00:00, 13.83it/s]"
          ]
        },
        {
          "output_type": "stream",
          "name": "stdout",
          "text": [
            "Epoch: 46 \tTraining Loss: 0.722695\n",
            "Epoch: 46 \tTraining Loss: 0.722062\n"
          ]
        },
        {
          "output_type": "stream",
          "name": "stderr",
          "text": [
            "100%|██████████| 8/8 [00:00<00:00, 13.66it/s]\n"
          ]
        },
        {
          "output_type": "stream",
          "name": "stdout",
          "text": [
            "Epoch: 46 \tTraining Loss: 0.753239\n"
          ]
        },
        {
          "output_type": "stream",
          "name": "stderr",
          "text": [
            "\r  0%|          | 0/8 [00:00<?, ?it/s]"
          ]
        },
        {
          "output_type": "stream",
          "name": "stdout",
          "text": [
            "Epoch: 47 \tTraining Loss: 0.729815\n"
          ]
        },
        {
          "output_type": "stream",
          "name": "stderr",
          "text": [
            "\r 25%|██▌       | 2/8 [00:00<00:00, 14.25it/s]"
          ]
        },
        {
          "output_type": "stream",
          "name": "stdout",
          "text": [
            "Epoch: 47 \tTraining Loss: 0.727117\n",
            "Epoch: 47 \tTraining Loss: 0.726375\n"
          ]
        },
        {
          "output_type": "stream",
          "name": "stderr",
          "text": [
            "\r 50%|█████     | 4/8 [00:00<00:00, 13.66it/s]"
          ]
        },
        {
          "output_type": "stream",
          "name": "stdout",
          "text": [
            "Epoch: 47 \tTraining Loss: 0.726983\n",
            "Epoch: 47 \tTraining Loss: 0.736012\n"
          ]
        },
        {
          "output_type": "stream",
          "name": "stderr",
          "text": [
            "\r 75%|███████▌  | 6/8 [00:00<00:00, 13.93it/s]"
          ]
        },
        {
          "output_type": "stream",
          "name": "stdout",
          "text": [
            "Epoch: 47 \tTraining Loss: 0.722670\n"
          ]
        },
        {
          "output_type": "stream",
          "name": "stderr",
          "text": [
            "100%|██████████| 8/8 [00:00<00:00, 14.10it/s]\n"
          ]
        },
        {
          "output_type": "stream",
          "name": "stdout",
          "text": [
            "Epoch: 47 \tTraining Loss: 0.722038\n",
            "Epoch: 47 \tTraining Loss: 0.753222\n"
          ]
        },
        {
          "output_type": "stream",
          "name": "stderr",
          "text": [
            "\r  0%|          | 0/8 [00:00<?, ?it/s]"
          ]
        },
        {
          "output_type": "stream",
          "name": "stdout",
          "text": [
            "Epoch: 48 \tTraining Loss: 0.729783\n"
          ]
        },
        {
          "output_type": "stream",
          "name": "stderr",
          "text": [
            " 50%|█████     | 4/8 [00:00<00:00, 14.75it/s]"
          ]
        },
        {
          "output_type": "stream",
          "name": "stdout",
          "text": [
            "Epoch: 48 \tTraining Loss: 0.727083\n",
            "Epoch: 48 \tTraining Loss: 0.726342\n",
            "Epoch: 48 \tTraining Loss: 0.726956\n"
          ]
        },
        {
          "output_type": "stream",
          "name": "stderr",
          "text": [
            "100%|██████████| 8/8 [00:00<00:00, 14.88it/s]\n"
          ]
        },
        {
          "output_type": "stream",
          "name": "stdout",
          "text": [
            "Epoch: 48 \tTraining Loss: 0.735991\n",
            "Epoch: 48 \tTraining Loss: 0.722646\n",
            "Epoch: 48 \tTraining Loss: 0.722017\n",
            "Epoch: 48 \tTraining Loss: 0.753209\n"
          ]
        },
        {
          "output_type": "stream",
          "name": "stderr",
          "text": [
            " 25%|██▌       | 2/8 [00:00<00:00, 13.04it/s]"
          ]
        },
        {
          "output_type": "stream",
          "name": "stdout",
          "text": [
            "Epoch: 49 \tTraining Loss: 0.729754\n",
            "Epoch: 49 \tTraining Loss: 0.727052\n",
            "Epoch: 49 \tTraining Loss: 0.726312\n"
          ]
        },
        {
          "output_type": "stream",
          "name": "stderr",
          "text": [
            " 75%|███████▌  | 6/8 [00:00<00:00, 14.06it/s]"
          ]
        },
        {
          "output_type": "stream",
          "name": "stdout",
          "text": [
            "Epoch: 49 \tTraining Loss: 0.726931\n",
            "Epoch: 49 \tTraining Loss: 0.735971\n",
            "Epoch: 49 \tTraining Loss: 0.722623\n"
          ]
        },
        {
          "output_type": "stream",
          "name": "stderr",
          "text": [
            "100%|██████████| 8/8 [00:00<00:00, 13.96it/s]"
          ]
        },
        {
          "output_type": "stream",
          "name": "stdout",
          "text": [
            "Epoch: 49 \tTraining Loss: 0.721997\n",
            "Epoch: 49 \tTraining Loss: 0.753195\n"
          ]
        },
        {
          "output_type": "stream",
          "name": "stderr",
          "text": [
            "\n"
          ]
        }
      ]
    },
    {
      "cell_type": "code",
      "source": [
        "\"\"\"\n",
        "Get encoded Training Data\n",
        "\"\"\"\n",
        "\n",
        "encoded_train ={}\n",
        "for keys in tqdm(list(total_data_list.keys())):\n",
        "    input = torch.tensor(close_train[keys])\n",
        "    input = torch.transpose(input, 1, 2)\n",
        "    output = model.encoder(input)\n",
        "    encoded_train_new_name = '{}'.format(keys)\n",
        "    encoded_train[encoded_train_new_name] = output\n"
      ],
      "metadata": {
        "colab": {
          "base_uri": "https://localhost:8080/"
        },
        "id": "jUzXlU4o2-30",
        "outputId": "a316d5a9-e26b-4d30-c4a2-3431ce169c08"
      },
      "execution_count": 391,
      "outputs": [
        {
          "output_type": "stream",
          "name": "stderr",
          "text": [
            "100%|██████████| 8/8 [00:00<00:00, 110.31it/s]\n"
          ]
        }
      ]
    },
    {
      "cell_type": "code",
      "source": [
        "\"\"\"\n",
        "Get the Encoded Testing data\n",
        "\"\"\"\n",
        "\n",
        "\n",
        "encoded_test ={}\n",
        "for keys in tqdm(list(total_data_list.keys())):\n",
        "    input = torch.tensor(close_test[keys])\n",
        "    input = torch.transpose(input, 1, 2)\n",
        "    output = model.encoder(input)\n",
        "    encoded_test_new_name = '{}'.format(keys)\n",
        "    encoded_test[encoded_test_new_name] = output"
      ],
      "metadata": {
        "colab": {
          "base_uri": "https://localhost:8080/"
        },
        "id": "IpPnhYClUmBv",
        "outputId": "d6c78701-4dd0-4a9f-c296-0329ff6c370b"
      },
      "execution_count": 395,
      "outputs": [
        {
          "output_type": "stream",
          "name": "stderr",
          "text": [
            "100%|██████████| 8/8 [00:00<00:00, 223.21it/s]\n"
          ]
        }
      ]
    }
  ]
}
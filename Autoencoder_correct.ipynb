{
  "nbformat": 4,
  "nbformat_minor": 0,
  "metadata": {
    "colab": {
      "name": "Autoencoder_correct.ipynb",
      "provenance": [],
      "collapsed_sections": [],
      "authorship_tag": "ABX9TyMtaBBD3WcZcyvntYhDxTTS",
      "include_colab_link": true
    },
    "kernelspec": {
      "name": "python3",
      "display_name": "Python 3"
    },
    "language_info": {
      "name": "python"
    }
  },
  "cells": [
    {
      "cell_type": "markdown",
      "metadata": {
        "id": "view-in-github",
        "colab_type": "text"
      },
      "source": [
        "<a href=\"https://colab.research.google.com/github/novis10813/Portfolio-Optimizer/blob/main/Autoencoder_correct.ipynb\" target=\"_parent\"><img src=\"https://colab.research.google.com/assets/colab-badge.svg\" alt=\"Open In Colab\"/></a>"
      ]
    },
    {
      "cell_type": "markdown",
      "source": [
        "跑完這邊直接拿\n",
        "1. encoded_train{}\n",
        "2. encoded_test{}\n",
        "\n",
        "兩個都是dict 型態，內部皆儲存3維Tensor\n",
        "可用encoded_train['Asset name'] 和 \n",
        "encoded_test['Asset name']直接訪問\n"
      ],
      "metadata": {
        "id": "fEAv3N-SZ7Sk"
      }
    },
    {
      "cell_type": "code",
      "execution_count": 186,
      "metadata": {
        "id": "MgDuqy1VnKVE"
      },
      "outputs": [],
      "source": [
        "import numpy as np\n",
        "import pandas as pd\n",
        "from matplotlib import pyplot as plt\n",
        "from tqdm import tqdm\n",
        "from sklearn.preprocessing import MinMaxScaler\n",
        "import torch\n",
        "import torch.nn as nn\n",
        "from torch.autograd import Variable\n",
        "from torch.utils.data import Dataset,DataLoader\n",
        "\n",
        "\n",
        "window_length = 60\n",
        "test_samples = int(814*0.2)\n",
        "asset_list = ['SPY', 'IVV', 'VTI', 'VOO', 'QQQ', 'BTC', 'ETH', 'USDC-USD']"
      ]
    },
    {
      "cell_type": "code",
      "source": [
        "\"\"\"\n",
        "Read data and make percentage change\n",
        "\"\"\"\n",
        "prices_data = pd.read_csv('/content/close_price.csv')\n",
        "\n",
        "df = prices_data.copy().drop(['Unnamed: 0'], axis = 1)\n",
        "df = df.set_index(['date'])\n",
        "\n",
        "df_pct_change = df.pct_change(1).astype(float)\n",
        "df_pct_change = df_pct_change.tail(len(df_pct_change) - 1)"
      ],
      "metadata": {
        "id": "DzzbG1GMnNjA"
      },
      "execution_count": 187,
      "outputs": []
    },
    {
      "cell_type": "code",
      "source": [
        "\"\"\"\n",
        "Transfer data into tensor\n",
        "\"\"\"\n",
        "df_test = df_pct_change.reset_index(drop = True)[-test_samples:]\n",
        "df_train = df_pct_change.reset_index(drop = True)[:-test_samples]\n",
        "\n",
        "\n",
        "L = len(df_train)\n",
        "l = len(df_test)\n",
        "\n",
        "\n",
        "df_train = df_train.T\n",
        "df_train = df_train.reset_index(drop = True)\n",
        "df_train = np.array(df_train.T).reshape(L,1,8)\n",
        "print(df_train)\n",
        "\n",
        "\n",
        "\n"
      ],
      "metadata": {
        "colab": {
          "base_uri": "https://localhost:8080/"
        },
        "id": "wls4mo0RnmbZ",
        "outputId": "7a0049b7-2634-4323-ad03-d7822e253fdc"
      },
      "execution_count": 188,
      "outputs": [
        {
          "output_type": "stream",
          "name": "stdout",
          "text": [
            "[[[-7.32224686e-03 -2.86865137e-03 -1.45929995e-03 ... -1.28535587e-03\n",
            "    4.63974283e-03 -1.76267532e-03]]\n",
            "\n",
            " [[-8.32064871e-03 -3.71427019e-03 -3.16635845e-02 ... -3.22948283e-02\n",
            "    2.74112928e-03 -3.18480297e-02]]\n",
            "\n",
            " [[-1.54364903e-01 -5.73007617e-02 -2.20260693e-02 ... -2.10484289e-02\n",
            "    1.58572615e-04 -2.13231468e-02]]\n",
            "\n",
            " ...\n",
            "\n",
            " [[ 1.34364761e-01 -2.62310340e-02 -9.90238397e-03 ... -9.79302189e-03\n",
            "   -5.99576554e-05 -1.17486735e-02]]\n",
            "\n",
            " [[ 5.68263440e-02  1.52165293e-02 -8.92464389e-03 ... -8.77081527e-03\n",
            "    1.49962730e-04 -8.04871112e-03]]\n",
            "\n",
            " [[-8.21909191e-02 -1.25303577e-01 -2.12452587e-02 ... -2.13464309e-02\n",
            "   -6.99641681e-05 -2.25238274e-02]]]\n"
          ]
        }
      ]
    },
    {
      "cell_type": "code",
      "source": [
        "df_test = df_test.T\n",
        "df_test = df_test.reset_index(drop = True)\n",
        "df_test = np.array(df_test.T).reshape(l,1,8)\n",
        "print(df_test)"
      ],
      "metadata": {
        "colab": {
          "base_uri": "https://localhost:8080/"
        },
        "id": "Ti79vUca5_oy",
        "outputId": "9a3da3f8-977f-47fc-e89f-9c8947fe84bc"
      },
      "execution_count": 189,
      "outputs": [
        {
          "output_type": "stream",
          "name": "stdout",
          "text": [
            "[[[-2.97846231e-02  2.43575779e-03  1.20124964e-02 ...  1.18852975e-02\n",
            "   -2.73022385e-04  1.10204216e-02]]\n",
            "\n",
            " [[ 9.70952806e-02  3.04342925e-03  1.53552118e-02 ...  1.53515982e-02\n",
            "    1.38009044e-04  1.70818976e-02]]\n",
            "\n",
            " [[-1.94817211e-01 -1.26403193e-01 -2.54438611e-03 ... -2.40240808e-03\n",
            "    1.38049607e-04 -2.13409372e-03]]\n",
            "\n",
            " ...\n",
            "\n",
            " [[-4.28757522e-02 -2.26471078e-02  1.27920187e-03 ...  1.20866901e-03\n",
            "   -1.37684183e-03  5.77382259e-04]]\n",
            "\n",
            " [[ 2.19370229e-02  1.41081048e-02 -2.76452628e-03 ... -2.82454193e-03\n",
            "    8.83397969e-04 -1.60754795e-03]]\n",
            "\n",
            " [[-8.57796764e-03 -1.95155506e-02 -2.52017279e-03 ... -2.74112284e-03\n",
            "   -3.06857765e-04 -3.17906973e-03]]]\n"
          ]
        }
      ]
    },
    {
      "cell_type": "code",
      "source": [
        "dataloader_train = DataLoader(df_train, batch_size=window_length, num_workers=0)\n",
        "dataloader_test = DataLoader(df_test, batch_size = window_length, num_workers = 0)\n",
        "\n",
        "for data in dataloader_train:\n",
        "  \n",
        "  print(data.size())"
      ],
      "metadata": {
        "colab": {
          "base_uri": "https://localhost:8080/"
        },
        "id": "vNNqyaH-oKpy",
        "outputId": "1c73c63f-9823-4948-ea44-3b18aa0619bd"
      },
      "execution_count": 192,
      "outputs": [
        {
          "output_type": "stream",
          "name": "stdout",
          "text": [
            "torch.Size([60, 1, 8])\n",
            "torch.Size([60, 1, 8])\n",
            "torch.Size([60, 1, 8])\n",
            "torch.Size([60, 1, 8])\n",
            "torch.Size([60, 1, 8])\n",
            "torch.Size([60, 1, 8])\n",
            "torch.Size([60, 1, 8])\n",
            "torch.Size([60, 1, 8])\n",
            "torch.Size([60, 1, 8])\n",
            "torch.Size([60, 1, 8])\n",
            "torch.Size([52, 1, 8])\n"
          ]
        }
      ]
    },
    {
      "cell_type": "code",
      "source": [
        "for data in dataloader_test:\n",
        "  print(data.size())"
      ],
      "metadata": {
        "colab": {
          "base_uri": "https://localhost:8080/"
        },
        "id": "2qm4LYlW6NvI",
        "outputId": "891066f1-c8f1-447e-baaf-f686f6c5aed2"
      },
      "execution_count": 193,
      "outputs": [
        {
          "output_type": "stream",
          "name": "stdout",
          "text": [
            "torch.Size([60, 1, 8])\n",
            "torch.Size([60, 1, 8])\n",
            "torch.Size([42, 1, 8])\n"
          ]
        }
      ]
    },
    {
      "cell_type": "code",
      "source": [
        "\"\"\"\n",
        "Convolutional Autoencoder\n",
        "\"\"\"\n",
        "from torch.nn.modules.activation import Sigmoid\n",
        "from torchsummary import summary\n",
        "\n",
        "\n",
        "class autoencoder(nn.Module):\n",
        "    def __init__(self):\n",
        "        super(autoencoder, self).__init__()\n",
        "        self.encoder = nn.Sequential(\n",
        "            nn.Conv1d(in_channels=8, out_channels=16,kernel_size=3,padding=1),  # b, 16, 10, 10\n",
        "            nn.ReLU(True),\n",
        "            nn.MaxPool1d(1, padding=0),  # b, 16, 5, 5\n",
        "            nn.Conv1d(in_channels = 16, out_channels = 8, kernel_size = 3, padding=1),  # b, 8, 3, 3\n",
        "            nn.ReLU(True),\n",
        "            nn.MaxPool1d(1, padding = 0)  # b, 8, 2, 2\n",
        "        )\n",
        "\n",
        "        self.decoder = nn.Sequential(\n",
        "            nn.ConvTranspose1d(in_channels=8, out_channels = 8, kernel_size = 3, padding=1),  # b, 16, 5, 5\n",
        "            nn.ReLU(True),\n",
        "            nn.Upsample(1),\n",
        "            nn.ConvTranspose1d(in_channels =8, out_channels = 16, kernel_size = 1),  # b, 1, 28, 28\n",
        "            nn.ReLU(True),\n",
        "            nn.Upsample(1),\n",
        "            nn.ConvTranspose1d(in_channels =16, out_channels = 8, kernel_size = 3,padding=1),\n",
        "            nn.Sigmoid()\n",
        "        )\n",
        "    def forward(self, x):\n",
        "        x = self.encoder(x)\n",
        "        x = self.decoder(x)\n",
        "        return x\n",
        "model = autoencoder()\n",
        "summary(model, (8,1))"
      ],
      "metadata": {
        "colab": {
          "base_uri": "https://localhost:8080/"
        },
        "id": "BMvrVD46ncqR",
        "outputId": "955ebdc1-ab5e-4898-f45e-00c453832d2a"
      },
      "execution_count": 246,
      "outputs": [
        {
          "output_type": "stream",
          "name": "stdout",
          "text": [
            "----------------------------------------------------------------\n",
            "        Layer (type)               Output Shape         Param #\n",
            "================================================================\n",
            "            Conv1d-1                [-1, 16, 1]             400\n",
            "              ReLU-2                [-1, 16, 1]               0\n",
            "         MaxPool1d-3                [-1, 16, 1]               0\n",
            "            Conv1d-4                 [-1, 8, 1]             392\n",
            "              ReLU-5                 [-1, 8, 1]               0\n",
            "         MaxPool1d-6                 [-1, 8, 1]               0\n",
            "   ConvTranspose1d-7                 [-1, 8, 1]             200\n",
            "              ReLU-8                 [-1, 8, 1]               0\n",
            "          Upsample-9                 [-1, 8, 1]               0\n",
            "  ConvTranspose1d-10                [-1, 16, 1]             144\n",
            "             ReLU-11                [-1, 16, 1]               0\n",
            "         Upsample-12                [-1, 16, 1]               0\n",
            "  ConvTranspose1d-13                 [-1, 8, 1]             392\n",
            "          Sigmoid-14                 [-1, 8, 1]               0\n",
            "================================================================\n",
            "Total params: 1,528\n",
            "Trainable params: 1,528\n",
            "Non-trainable params: 0\n",
            "----------------------------------------------------------------\n",
            "Input size (MB): 0.00\n",
            "Forward/backward pass size (MB): 0.00\n",
            "Params size (MB): 0.01\n",
            "Estimated Total Size (MB): 0.01\n",
            "----------------------------------------------------------------\n"
          ]
        }
      ]
    },
    {
      "cell_type": "code",
      "source": [
        "\"\"\"\n",
        "parameters\n",
        "\"\"\"\n",
        "num_epochs = 50\n",
        "learning_rate = 1e-3\n",
        "criterion = nn.BCELoss()\n",
        "\n",
        "# specify loss function\n",
        "optimizer = torch.optim.Adam(model.parameters(), lr=0.001,weight_decay=1e-5)"
      ],
      "metadata": {
        "id": "IxI7Tr1OngF9"
      },
      "execution_count": 247,
      "outputs": []
    },
    {
      "cell_type": "code",
      "source": [
        "\"\"\"\n",
        "Model training\n",
        "\"\"\"\n",
        "\n",
        "train_loss = 0\n",
        "for epoch in range(num_epochs):\n",
        "  \n",
        "    for data in dataloader_train:       \n",
        "       # ===================forward=====================\n",
        "      \n",
        "        data = torch.transpose(data,1,2)\n",
        "        data = data.to(torch.float32)\n",
        "        optimizer.zero_grad()\n",
        "        outputs = model(data)\n",
        "        # perform a single optimization step (parameter update)\n",
        "        loss = criterion(outputs, data)\n",
        "        # backward pass: compute gradient of the loss with respect to model parameters\n",
        "        loss.backward()\n",
        "        # perform a single optimization step (parameter update)\n",
        "        optimizer.step()\n",
        "        # update running training loss\n",
        "        train_loss += loss.item()\n",
        "       \n",
        "    # ===================log========================\n",
        "    train_loss = train_loss/len(dataloader_train)\n",
        "    print('Epoch: {} \\tTraining Loss: {:.6f}'.format(\n",
        "          epoch, \n",
        "          train_loss\n",
        "          ))\n",
        "    "
      ],
      "metadata": {
        "colab": {
          "base_uri": "https://localhost:8080/"
        },
        "id": "L-YLJpfVniuz",
        "outputId": "184c53ee-43c1-4b77-e141-45456a123873"
      },
      "execution_count": 248,
      "outputs": [
        {
          "output_type": "stream",
          "name": "stdout",
          "text": [
            "Epoch: 0 \tTraining Loss: 0.709194\n",
            "Epoch: 1 \tTraining Loss: 0.764870\n",
            "Epoch: 2 \tTraining Loss: 0.761084\n",
            "Epoch: 3 \tTraining Loss: 0.751308\n",
            "Epoch: 4 \tTraining Loss: 0.740183\n",
            "Epoch: 5 \tTraining Loss: 0.728010\n",
            "Epoch: 6 \tTraining Loss: 0.714994\n",
            "Epoch: 7 \tTraining Loss: 0.700755\n",
            "Epoch: 8 \tTraining Loss: 0.684407\n",
            "Epoch: 9 \tTraining Loss: 0.665419\n",
            "Epoch: 10 \tTraining Loss: 0.643052\n",
            "Epoch: 11 \tTraining Loss: 0.616933\n",
            "Epoch: 12 \tTraining Loss: 0.586504\n",
            "Epoch: 13 \tTraining Loss: 0.550609\n",
            "Epoch: 14 \tTraining Loss: 0.509047\n",
            "Epoch: 15 \tTraining Loss: 0.462294\n",
            "Epoch: 16 \tTraining Loss: 0.410645\n",
            "Epoch: 17 \tTraining Loss: 0.354193\n",
            "Epoch: 18 \tTraining Loss: 0.293434\n",
            "Epoch: 19 \tTraining Loss: 0.229725\n",
            "Epoch: 20 \tTraining Loss: 0.165903\n",
            "Epoch: 21 \tTraining Loss: 0.109028\n",
            "Epoch: 22 \tTraining Loss: 0.066864\n",
            "Epoch: 23 \tTraining Loss: 0.041096\n",
            "Epoch: 24 \tTraining Loss: 0.027431\n",
            "Epoch: 25 \tTraining Loss: 0.020520\n",
            "Epoch: 26 \tTraining Loss: 0.016833\n",
            "Epoch: 27 \tTraining Loss: 0.014655\n",
            "Epoch: 28 \tTraining Loss: 0.013218\n",
            "Epoch: 29 \tTraining Loss: 0.012147\n",
            "Epoch: 30 \tTraining Loss: 0.011257\n",
            "Epoch: 31 \tTraining Loss: 0.010484\n",
            "Epoch: 32 \tTraining Loss: 0.009792\n",
            "Epoch: 33 \tTraining Loss: 0.009152\n",
            "Epoch: 34 \tTraining Loss: 0.008543\n",
            "Epoch: 35 \tTraining Loss: 0.007949\n",
            "Epoch: 36 \tTraining Loss: 0.007358\n",
            "Epoch: 37 \tTraining Loss: 0.006763\n",
            "Epoch: 38 \tTraining Loss: 0.006156\n",
            "Epoch: 39 \tTraining Loss: 0.005532\n",
            "Epoch: 40 \tTraining Loss: 0.004885\n",
            "Epoch: 41 \tTraining Loss: 0.004212\n",
            "Epoch: 42 \tTraining Loss: 0.003507\n",
            "Epoch: 43 \tTraining Loss: 0.002764\n",
            "Epoch: 44 \tTraining Loss: 0.001980\n",
            "Epoch: 45 \tTraining Loss: 0.001145\n",
            "Epoch: 46 \tTraining Loss: 0.000256\n",
            "Epoch: 47 \tTraining Loss: -0.000711\n",
            "Epoch: 48 \tTraining Loss: -0.001795\n",
            "Epoch: 49 \tTraining Loss: -0.003027\n"
          ]
        }
      ]
    },
    {
      "cell_type": "code",
      "source": [
        "df_train = torch.tensor(df_train)\n",
        "df_train = torch.transpose(df_train,1,2)\n",
        "df_train = df_train.to(torch.float32)\n",
        "cccc = model(df_train)"
      ],
      "metadata": {
        "colab": {
          "base_uri": "https://localhost:8080/"
        },
        "id": "Scma3fZG0Vj4",
        "outputId": "ec9ff0dc-c3fe-4aeb-e4f1-556afde35fac"
      },
      "execution_count": 250,
      "outputs": [
        {
          "output_type": "stream",
          "name": "stderr",
          "text": [
            "/usr/local/lib/python3.7/dist-packages/ipykernel_launcher.py:1: UserWarning: To copy construct from a tensor, it is recommended to use sourceTensor.clone().detach() or sourceTensor.clone().detach().requires_grad_(True), rather than torch.tensor(sourceTensor).\n",
            "  \"\"\"Entry point for launching an IPython kernel.\n"
          ]
        }
      ]
    },
    {
      "cell_type": "code",
      "source": [
        "cccc = torch.transpose(cccc,1,2)"
      ],
      "metadata": {
        "id": "SGkANs5Cy-uV"
      },
      "execution_count": 251,
      "outputs": []
    },
    {
      "cell_type": "code",
      "source": [
        "cccc = cccc.detach().numpy() "
      ],
      "metadata": {
        "id": "75fOoqw01YW2"
      },
      "execution_count": 252,
      "outputs": []
    },
    {
      "cell_type": "code",
      "source": [
        "plt.plot(cccc[:,0])"
      ],
      "metadata": {
        "colab": {
          "base_uri": "https://localhost:8080/",
          "height": 408
        },
        "id": "T_C62WOr1dAt",
        "outputId": "390035b3-396b-4d97-c069-6da4790db00e"
      },
      "execution_count": 253,
      "outputs": [
        {
          "output_type": "execute_result",
          "data": {
            "text/plain": [
              "[<matplotlib.lines.Line2D at 0x7f836f0895d0>,\n",
              " <matplotlib.lines.Line2D at 0x7f836ee3ac90>,\n",
              " <matplotlib.lines.Line2D at 0x7f836ed73450>,\n",
              " <matplotlib.lines.Line2D at 0x7f836ed739d0>,\n",
              " <matplotlib.lines.Line2D at 0x7f836ed7cc90>,\n",
              " <matplotlib.lines.Line2D at 0x7f836ed7c790>,\n",
              " <matplotlib.lines.Line2D at 0x7f836ed7ce10>,\n",
              " <matplotlib.lines.Line2D at 0x7f836ed7cc10>]"
            ]
          },
          "metadata": {},
          "execution_count": 253
        },
        {
          "output_type": "display_data",
          "data": {
            "text/plain": [
              "<Figure size 432x288 with 1 Axes>"
            ],
            "image/png": "[encoded data removed]"
          },
          "metadata": {
            "needs_background": "light"
          }
        }
      ]
    },
    {
      "cell_type": "code",
      "source": [
        "\"\"\"\n",
        "Get encoded Training Data\n",
        "\"\"\"\n",
        "\n",
        "df_train = torch.tensor(df_train)\n",
        "df_train = torch.transpose(df_train,1,2)\n",
        "df_train = df_train.to(torch.float32)\n",
        "encoded_train = model.encoder(df_train)\n",
        "encoded_train = torch.transpose(encoded_train,1,2)\n",
        "encoded_train = encoded_train.detach().numpy() \n"
      ],
      "metadata": {
        "colab": {
          "base_uri": "https://localhost:8080/"
        },
        "id": "jUzXlU4o2-30",
        "outputId": "85fdb50c-4c43-4a08-c563-32916c9c9710"
      },
      "execution_count": 255,
      "outputs": [
        {
          "output_type": "stream",
          "name": "stderr",
          "text": [
            "/usr/local/lib/python3.7/dist-packages/ipykernel_launcher.py:5: UserWarning: To copy construct from a tensor, it is recommended to use sourceTensor.clone().detach() or sourceTensor.clone().detach().requires_grad_(True), rather than torch.tensor(sourceTensor).\n",
            "  \"\"\"\n"
          ]
        }
      ]
    },
    {
      "cell_type": "code",
      "source": [
        "plt.plot(encoded_train[:,0])"
      ],
      "metadata": {
        "colab": {
          "base_uri": "https://localhost:8080/",
          "height": 172
        },
        "id": "Ea6sGK784AvR",
        "outputId": "9d3d1091-9503-43ff-9549-beb25e3d7681"
      },
      "execution_count": 258,
      "outputs": [
        {
          "output_type": "error",
          "ename": "IndexError",
          "evalue": "ignored",
          "traceback": [
            "\u001b[0;31m---------------------------------------------------------------------------\u001b[0m",
            "\u001b[0;31mIndexError\u001b[0m                                Traceback (most recent call last)",
            "\u001b[0;32m<ipython-input-258-e2d120ce9d4b>\u001b[0m in \u001b[0;36m<module>\u001b[0;34m()\u001b[0m\n\u001b[0;32m----> 1\u001b[0;31m \u001b[0mplt\u001b[0m\u001b[0;34m.\u001b[0m\u001b[0mplot\u001b[0m\u001b[0;34m(\u001b[0m\u001b[0mencoded_train\u001b[0m\u001b[0;34m[\u001b[0m\u001b[0;34m:\u001b[0m\u001b[0;34m,\u001b[0m\u001b[0;36m1\u001b[0m\u001b[0;34m]\u001b[0m\u001b[0;34m)\u001b[0m\u001b[0;34m\u001b[0m\u001b[0;34m\u001b[0m\u001b[0m\n\u001b[0m",
            "\u001b[0;31mIndexError\u001b[0m: index 1 is out of bounds for axis 1 with size 1"
          ]
        }
      ]
    },
    {
      "cell_type": "code",
      "source": [
        "print(encoded_train.shape)"
      ],
      "metadata": {
        "colab": {
          "base_uri": "https://localhost:8080/"
        },
        "id": "5noswn318Wjh",
        "outputId": "0f700fbb-e23d-4656-9059-ece86ccedbc3"
      },
      "execution_count": 262,
      "outputs": [
        {
          "output_type": "stream",
          "name": "stdout",
          "text": [
            "(652, 1, 8)\n"
          ]
        }
      ]
    },
    {
      "cell_type": "code",
      "source": [
        "\"\"\"\n",
        "Get the Encoded Testing data\n",
        "\"\"\"\n",
        "\n",
        "df_test = torch.tensor(df_test)\n",
        "df_test = torch.transpose(df_test,1,2)\n",
        "df_test = df_test.to(torch.float32)\n",
        "encoded_test = model.encoder(df_test)\n",
        "encoded_test = torch.transpose(encoded_test,1,2)\n",
        "encoded_test = encoded_test.detach().numpy() "
      ],
      "metadata": {
        "colab": {
          "base_uri": "https://localhost:8080/"
        },
        "id": "IpPnhYClUmBv",
        "outputId": "f00a6860-1b11-4ac9-bb4a-e0dd03aca08a"
      },
      "execution_count": 223,
      "outputs": [
        {
          "output_type": "stream",
          "name": "stderr",
          "text": [
            "/usr/local/lib/python3.7/dist-packages/ipykernel_launcher.py:5: UserWarning: To copy construct from a tensor, it is recommended to use sourceTensor.clone().detach() or sourceTensor.clone().detach().requires_grad_(True), rather than torch.tensor(sourceTensor).\n",
            "  \"\"\"\n"
          ]
        }
      ]
    },
    {
      "cell_type": "code",
      "source": [
        "print(encoded_test)"
      ],
      "metadata": {
        "id": "5ha4m3Wjkktt",
        "colab": {
          "base_uri": "https://localhost:8080/"
        },
        "outputId": "dbd3504f-355f-490f-8dcd-555995d14cdc"
      },
      "execution_count": 228,
      "outputs": [
        {
          "output_type": "stream",
          "name": "stdout",
          "text": [
            "[[[1.2932172  1.0241222  1.2041883  ... 1.4581509  1.1750436  1.126571  ]]\n",
            "\n",
            " [[1.0387856  0.8007292  0.97546905 ... 1.198252   0.93834466 0.89230096]]\n",
            "\n",
            " [[1.8626931  1.5269413  1.7198294  ... 2.0409575  1.7067097  1.6522592 ]]\n",
            "\n",
            " ...\n",
            "\n",
            " [[1.4226285  1.1382222  1.3203785  ... 1.5901219  1.2952293  1.2450377 ]]\n",
            "\n",
            " [[1.2841082  1.0156713  1.1939727  ... 1.4479107  1.1652392  1.1160944 ]]\n",
            "\n",
            " [[1.3909625  1.1103368  1.2912985  ... 1.5575342  1.2653909  1.2151474 ]]]\n"
          ]
        }
      ]
    },
    {
      "cell_type": "code",
      "source": [
        ""
      ],
      "metadata": {
        "id": "q09clMmo7ttA"
      },
      "execution_count": null,
      "outputs": []
    }
  ]
}
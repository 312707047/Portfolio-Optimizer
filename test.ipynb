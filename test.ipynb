{
 "cells": [
  {
   "cell_type": "code",
   "execution_count": 7,
   "metadata": {},
   "outputs": [],
   "source": [
    "import pandas as pd\n",
    "import os\n",
    "import numpy as np"
   ]
  },
  {
   "cell_type": "code",
   "execution_count": 10,
   "metadata": {},
   "outputs": [],
   "source": [
    "def data_preprocessing(df):\n",
    "    '''preprocess the price data into log return'''\n",
    "    return (np.log(df) - np.log(df.shift(1))).dropna()"
   ]
  },
  {
   "cell_type": "code",
   "execution_count": 11,
   "metadata": {},
   "outputs": [
    {
     "name": "stderr",
     "output_type": "stream",
     "text": [
      "g:\\Code\\Python\\GitHub\\Portfolio-Optimizer\\.venv\\lib\\site-packages\\ipykernel_launcher.py:2: RuntimeWarning: divide by zero encountered in true_divide\n",
      "  \n"
     ]
    }
   ],
   "source": [
    "close_prices = data_preprocessing(pd.read_csv(os.path.join('data', 'Close.csv'), index_col=0, parse_dates=True))\n",
    "gain = close_prices.values[1:] / close_prices.values[:-1]"
   ]
  },
  {
   "cell_type": "code",
   "execution_count": 16,
   "metadata": {},
   "outputs": [
    {
     "data": {
      "text/plain": [
       "(1042, 8)"
      ]
     },
     "execution_count": 16,
     "metadata": {},
     "output_type": "execute_result"
    }
   ],
   "source": [
    "close_prices.shape"
   ]
  },
  {
   "cell_type": "code",
   "execution_count": 18,
   "metadata": {},
   "outputs": [
    {
     "name": "stderr",
     "output_type": "stream",
     "text": [
      "g:\\Code\\Python\\GitHub\\Portfolio-Optimizer\\.venv\\lib\\site-packages\\ipykernel_launcher.py:1: RuntimeWarning: divide by zero encountered in true_divide\n",
      "  \"\"\"Entry point for launching an IPython kernel.\n"
     ]
    },
    {
     "data": {
      "text/plain": [
       "array([[  1.        ,   0.14726598,  -0.97044196, ...,   3.50025369,\n",
       "         -1.99893816, -19.03932488],\n",
       "       [  1.        ,  -1.17268178,   1.14595733, ...,  -3.43077212,\n",
       "         -2.07279077,  -2.95131025],\n",
       "       [  1.        ,   8.58206227,  -0.13973901, ...,   2.842935  ,\n",
       "          2.09430525,   1.29091786],\n",
       "       ...,\n",
       "       [  1.        ,   0.35994901,   0.70225201, ...,  -0.28019302,\n",
       "         -1.60579586,   0.03215113],\n",
       "       [  1.        ,  -0.61156898,  -0.49518133, ...,  -2.78724507,\n",
       "         -2.3416233 ,  20.03807267],\n",
       "       [  1.        ,  -1.40679374,  -0.39700564, ...,   1.979147  ,\n",
       "          0.97042576,   2.0929765 ]])"
      ]
     },
     "execution_count": 18,
     "metadata": {},
     "output_type": "execute_result"
    }
   ],
   "source": [
    "np.hstack((np.ones((close_prices.shape[0]-1, 1)), close_prices.values[1:] / close_prices.values[:-1]))"
   ]
  },
  {
   "cell_type": "code",
   "execution_count": 17,
   "metadata": {},
   "outputs": [
    {
     "data": {
      "text/plain": [
       "(1041, 8)"
      ]
     },
     "execution_count": 17,
     "metadata": {},
     "output_type": "execute_result"
    }
   ],
   "source": [
    "close_prices.values[1:].shape"
   ]
  },
  {
   "cell_type": "code",
   "execution_count": 14,
   "metadata": {},
   "outputs": [
    {
     "data": {
      "text/plain": [
       "array([[-7.03362310e-02, -5.49067987e-02, -2.15468000e-03, ...,\n",
       "         1.50860882e-04, -5.90516084e-04, -6.48922625e-05],\n",
       "       [-1.03581339e-02,  5.32838616e-02,  3.31443487e-03, ...,\n",
       "         5.28051357e-04,  1.18040514e-03,  1.23550487e-03],\n",
       "       [ 1.21467949e-02,  6.10610317e-02, -2.49974366e-03, ...,\n",
       "        -1.81162387e-03, -2.44673287e-03, -3.64635818e-03],\n",
       "       ...,\n",
       "       [-6.36409367e-02, -6.24021930e-02,  1.22336096e-03, ...,\n",
       "        -2.06006433e-03, -7.52237061e-04, -4.64556580e-03],\n",
       "       [-2.29074924e-02, -4.38220654e-02, -8.73404116e-04, ...,\n",
       "         5.77215638e-04,  1.20793916e-03, -1.49360203e-04],\n",
       "       [ 1.40095117e-02,  2.16998684e-02,  7.41584701e-04, ...,\n",
       "        -1.60884144e-03, -2.82853848e-03, -2.99289061e-03]])"
      ]
     },
     "execution_count": 14,
     "metadata": {},
     "output_type": "execute_result"
    }
   ],
   "source": [
    "close_prices.values[:-1]"
   ]
  },
  {
   "cell_type": "code",
   "execution_count": null,
   "metadata": {},
   "outputs": [],
   "source": []
  }
 ],
 "metadata": {
  "interpreter": {
   "hash": "76bb67cbed576fbb2355b7c8b1314e94871a10f18f8450a21ef1b73ecaaef128"
  },
  "kernelspec": {
   "display_name": "Python 3.7.6 ('.venv': venv)",
   "language": "python",
   "name": "python3"
  },
  "language_info": {
   "codemirror_mode": {
    "name": "ipython",
    "version": 3
   },
   "file_extension": ".py",
   "mimetype": "text/x-python",
   "name": "python",
   "nbconvert_exporter": "python",
   "pygments_lexer": "ipython3",
   "version": "3.7.6"
  },
  "orig_nbformat": 4
 },
 "nbformat": 4,
 "nbformat_minor": 2
}

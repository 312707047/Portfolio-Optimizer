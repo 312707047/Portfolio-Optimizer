{
 "cells": [
  {
   "cell_type": "code",
   "execution_count": 2,
   "metadata": {},
   "outputs": [],
   "source": [
    "import torch\n",
    "import torch.nn as nn\n",
    "import torch.nn.functional as F"
   ]
  },
  {
   "cell_type": "code",
   "execution_count": 5,
   "metadata": {},
   "outputs": [],
   "source": [
    "test = torch.randn([3, 8, 60])"
   ]
  },
  {
   "cell_type": "code",
   "execution_count": 69,
   "metadata": {},
   "outputs": [],
   "source": [
    "conv_1 = nn.Conv2d(3, 64, (1, 3), padding=0)\n",
    "conv_2 = nn.Conv2d(64, 32, (1, 7), padding=0)\n",
    "conv_3 = nn.Conv2d(32, 16, (1, 10), padding=0)\n",
    "conv_4 = nn.Conv2d(16, 3, (1, 14), padding=0)"
   ]
  },
  {
   "cell_type": "code",
   "execution_count": 72,
   "metadata": {},
   "outputs": [],
   "source": [
    "test = conv_4(conv_3(conv_2(conv_1(test))))"
   ]
  },
  {
   "cell_type": "code",
   "execution_count": 71,
   "metadata": {},
   "outputs": [],
   "source": [
    "convt_1 = nn.ConvTranspose2d(3, 16, (1, 14), padding=0)\n",
    "convt_2 = nn.ConvTranspose2d(16, 32, (1, 10), padding=0)\n",
    "convt_3 = nn.ConvTranspose2d(32, 64, (1, 7), padding=0)\n",
    "convt_4 = nn.ConvTranspose2d(64, 3, (1, 3), padding=0)"
   ]
  },
  {
   "cell_type": "code",
   "execution_count": 75,
   "metadata": {},
   "outputs": [
    {
     "data": {
      "text/plain": [
       "torch.Size([3, 8, 60])"
      ]
     },
     "execution_count": 75,
     "metadata": {},
     "output_type": "execute_result"
    }
   ],
   "source": [
    "convt_4(convt_3(convt_2(convt_1(test)))).shape"
   ]
  },
  {
   "cell_type": "code",
   "execution_count": 43,
   "metadata": {},
   "outputs": [
    {
     "data": {
      "text/plain": [
       "torch.Size([16, 10, 30])"
      ]
     },
     "execution_count": 43,
     "metadata": {},
     "output_type": "execute_result"
    }
   ],
   "source": [
    "pool_1 = nn.MaxPool2d((1, 2), (1, 2))\n",
    "pool_1(conv_1(test)).shape"
   ]
  },
  {
   "cell_type": "code",
   "execution_count": 1,
   "metadata": {},
   "outputs": [],
   "source": [
    "import pandas as pd\n",
    "import numpy as np"
   ]
  },
  {
   "cell_type": "code",
   "execution_count": 2,
   "metadata": {},
   "outputs": [],
   "source": [
    "df = pd.read_csv('data/Close.csv', index_col=0, parse_dates=True)"
   ]
  },
  {
   "cell_type": "code",
   "execution_count": 3,
   "metadata": {},
   "outputs": [
    {
     "data": {
      "text/plain": [
       "(814, 8)"
      ]
     },
     "execution_count": 3,
     "metadata": {},
     "output_type": "execute_result"
    }
   ],
   "source": [
    "np.array((np.log(df) - np.log(df.shift(1))).dropna()).shape"
   ]
  },
  {
   "cell_type": "code",
   "execution_count": 4,
   "metadata": {},
   "outputs": [],
   "source": [
    "# split a univariate sequence into samples\n",
    "def split_sequence(sequence, n_steps):\n",
    "\tX = list()\n",
    "\tfor i in range(len(sequence)):\n",
    "\t\t# find the end of this pattern\n",
    "\t\tend_ix = i + n_steps\n",
    "\t\t# check if we are beyond the sequence\n",
    "\t\tif end_ix > len(sequence)-1:\n",
    "\t\t\tbreak\n",
    "\t\t# gather input and output parts of the pattern\n",
    "\t\tseq_x = sequence[i:end_ix]\n",
    "\t\tX.append(seq_x)\n",
    "\treturn np.array(X)"
   ]
  },
  {
   "cell_type": "code",
   "execution_count": 22,
   "metadata": {},
   "outputs": [],
   "source": [
    "test = split_sequence(np.array((np.log(df) - np.log(df.shift(1))).dropna()), 60)"
   ]
  },
  {
   "cell_type": "code",
   "execution_count": 15,
   "metadata": {},
   "outputs": [
    {
     "data": {
      "text/plain": [
       "(754, 60, 8)"
      ]
     },
     "execution_count": 15,
     "metadata": {},
     "output_type": "execute_result"
    }
   ],
   "source": [
    "test.shape"
   ]
  },
  {
   "cell_type": "code",
   "execution_count": 6,
   "metadata": {},
   "outputs": [],
   "source": [
    "a = np.expand_dims(np.transpose(test, (0, 2, 1)), axis=1)\n",
    "b = np.expand_dims(np.transpose(test, (0, 2, 1)), axis=1)"
   ]
  },
  {
   "cell_type": "code",
   "execution_count": 12,
   "metadata": {},
   "outputs": [],
   "source": [
    "c = np.concatenate([a, b], axis=1)"
   ]
  },
  {
   "cell_type": "code",
   "execution_count": 17,
   "metadata": {},
   "outputs": [],
   "source": [
    "from sklearn.preprocessing import MinMaxScaler, StandardScaler"
   ]
  },
  {
   "cell_type": "code",
   "execution_count": 10,
   "metadata": {},
   "outputs": [],
   "source": [
    "scaler = MinMaxScaler(feature_range=(-1, 1))"
   ]
  },
  {
   "cell_type": "code",
   "execution_count": 20,
   "metadata": {},
   "outputs": [],
   "source": [
    "for i in range(test.shape[0]):\n",
    "    scaler = StandardScaler()\n",
    "    test[i, :, :] = scaler.fit_transform(test[i, :, :]) "
   ]
  },
  {
   "cell_type": "code",
   "execution_count": 23,
   "metadata": {},
   "outputs": [
    {
     "data": {
      "text/plain": [
       "array([[[-7.34918596e-03, -2.87277383e-03, -1.46036550e-03, ...,\n",
       "         -1.28618272e-03,  4.62901264e-03, -1.76423049e-03],\n",
       "        [-8.35545832e-03, -3.72118520e-03, -3.21757156e-02, ...,\n",
       "         -3.28278129e-02,  2.73737876e-03, -3.23662102e-02],\n",
       "        [-1.67667340e-01, -5.90079885e-02, -2.22722651e-02, ...,\n",
       "         -2.12731054e-02,  1.58559969e-04, -2.15537694e-02],\n",
       "        ...,\n",
       "        [ 1.45717371e-01,  4.30708228e-02,  1.03979094e-03, ...,\n",
       "          7.82917896e-04,  1.58056160e-03,  7.83323601e-04],\n",
       "        [-3.85483340e-02, -2.54692506e-02, -2.41520683e-02, ...,\n",
       "         -2.41600024e-02, -4.52418154e-03, -2.34466639e-02],\n",
       "        [ 3.86950338e-02,  8.74587229e-03,  3.29470389e-02, ...,\n",
       "          3.24735996e-02, -5.35876033e-03,  3.25647533e-02]],\n",
       "\n",
       "       [[-8.35545832e-03, -3.72118520e-03, -3.21757156e-02, ...,\n",
       "         -3.28278129e-02,  2.73737876e-03, -3.23662102e-02],\n",
       "        [-1.67667340e-01, -5.90079885e-02, -2.22722651e-02, ...,\n",
       "         -2.12731054e-02,  1.58559969e-04, -2.15537694e-02],\n",
       "        [ 2.82725557e-02,  8.57494156e-03,  1.37927437e-02, ...,\n",
       "          1.34176092e-02,  2.90723561e-03,  1.31008283e-02],\n",
       "        ...,\n",
       "        [-3.85483340e-02, -2.54692506e-02, -2.41520683e-02, ...,\n",
       "         -2.41600024e-02, -4.52418154e-03, -2.34466639e-02],\n",
       "        [ 3.86950338e-02,  8.74587229e-03,  3.29470389e-02, ...,\n",
       "          3.24735996e-02, -5.35876033e-03,  3.25647533e-02],\n",
       "        [-1.72092031e-02,  4.63388882e-02,  7.85365409e-03, ...,\n",
       "          7.47492598e-03, -2.78320417e-03,  1.00349414e-02]],\n",
       "\n",
       "       [[-1.67667340e-01, -5.90079885e-02, -2.22722651e-02, ...,\n",
       "         -2.12731054e-02,  1.58559969e-04, -2.15537694e-02],\n",
       "        [ 2.82725557e-02,  8.57494156e-03,  1.37927437e-02, ...,\n",
       "          1.34176092e-02,  2.90723561e-03,  1.31008283e-02],\n",
       "        [ 8.33098673e-02,  6.83405822e-02, -5.63279465e-03, ...,\n",
       "         -5.49616923e-03,  1.38074356e-02, -4.46617510e-03],\n",
       "        ...,\n",
       "        [ 3.86950338e-02,  8.74587229e-03,  3.29470389e-02, ...,\n",
       "          3.24735996e-02, -5.35876033e-03,  3.25647533e-02],\n",
       "        [-1.72092031e-02,  4.63388882e-02,  7.85365409e-03, ...,\n",
       "          7.47492598e-03, -2.78320417e-03,  1.00349414e-02],\n",
       "        [-1.29295053e-02, -5.18353038e-03,  9.35147290e-03, ...,\n",
       "          9.66854865e-03,  2.54313905e-03,  1.02392876e-02]],\n",
       "\n",
       "       ...,\n",
       "\n",
       "       [[ 2.27027902e-02,  2.19157511e-02, -1.29798952e-02, ...,\n",
       "         -1.23784188e-02, -1.29051044e-04, -1.51731100e-02],\n",
       "        [ 3.77003248e-02,  4.48062400e-02,  1.03511988e-02, ...,\n",
       "          9.66878621e-03,  4.33186199e-04,  9.29236550e-03],\n",
       "        [ 1.68650090e-02,  7.22064310e-02,  4.14740949e-03, ...,\n",
       "          4.43688643e-03,  1.40976348e-04,  4.14687644e-03],\n",
       "        ...,\n",
       "        [ 3.21259831e-02,  4.43693742e-02,  6.20275612e-03, ...,\n",
       "          6.14411170e-03,  2.05766741e-03,  6.87944023e-03],\n",
       "        [-1.79298704e-02, -2.58402193e-03,  1.40529392e-02, ...,\n",
       "          1.41604801e-02, -6.37057415e-04,  1.30457539e-02],\n",
       "        [-6.24021929e-02, -6.36409367e-02, -8.17502566e-04, ...,\n",
       "         -7.52237011e-04,  1.25876293e-03, -2.06006431e-03]],\n",
       "\n",
       "       [[ 3.77003248e-02,  4.48062400e-02,  1.03511988e-02, ...,\n",
       "          9.66878621e-03,  4.33186199e-04,  9.29236550e-03],\n",
       "        [ 1.68650090e-02,  7.22064310e-02,  4.14740949e-03, ...,\n",
       "          4.43688643e-03,  1.40976348e-04,  4.14687644e-03],\n",
       "        [ 3.42990008e-03, -2.83177462e-02,  8.60856947e-03, ...,\n",
       "          8.56733654e-03,  3.30207855e-05,  9.56563721e-03],\n",
       "        ...,\n",
       "        [-1.79298704e-02, -2.58402193e-03,  1.40529392e-02, ...,\n",
       "          1.41604801e-02, -6.37057415e-04,  1.30457539e-02],\n",
       "        [-6.24021929e-02, -6.36409367e-02, -8.17502566e-04, ...,\n",
       "         -7.52237011e-04,  1.25876293e-03, -2.06006431e-03],\n",
       "        [-4.38220656e-02, -2.29074923e-02,  1.27838444e-03, ...,\n",
       "          1.20793929e-03, -1.37779076e-03,  5.77215701e-04]],\n",
       "\n",
       "       [[ 1.68650090e-02,  7.22064310e-02,  4.14740949e-03, ...,\n",
       "          4.43688643e-03,  1.40976348e-04,  4.14687644e-03],\n",
       "        [ 3.42990008e-03, -2.83177462e-02,  8.60856947e-03, ...,\n",
       "          8.56733654e-03,  3.30207855e-05,  9.56563721e-03],\n",
       "        [-7.81194502e-03,  3.42380612e-03, -1.82542043e-03, ...,\n",
       "         -1.88650715e-03, -2.32002573e-04, -2.20610638e-03],\n",
       "        ...,\n",
       "        [-6.24021929e-02, -6.36409367e-02, -8.17502566e-04, ...,\n",
       "         -7.52237011e-04,  1.25876293e-03, -2.06006431e-03],\n",
       "        [-4.38220656e-02, -2.29074923e-02,  1.27838444e-03, ...,\n",
       "          1.20793929e-03, -1.37779076e-03,  5.77215701e-04],\n",
       "        [ 2.16998684e-02,  1.40095116e-02, -2.76835450e-03, ...,\n",
       "         -2.82853861e-03,  8.83007399e-04, -1.60884150e-03]]])"
      ]
     },
     "execution_count": 23,
     "metadata": {},
     "output_type": "execute_result"
    }
   ],
   "source": [
    "test"
   ]
  },
  {
   "cell_type": "code",
   "execution_count": 24,
   "metadata": {},
   "outputs": [
    {
     "data": {
      "text/plain": [
       "(754, 60, 8)"
      ]
     },
     "execution_count": 24,
     "metadata": {},
     "output_type": "execute_result"
    }
   ],
   "source": [
    "test.shape"
   ]
  },
  {
   "cell_type": "code",
   "execution_count": 27,
   "metadata": {},
   "outputs": [],
   "source": [
    "from environment.env import TradingEnv"
   ]
  },
  {
   "cell_type": "code",
   "execution_count": 28,
   "metadata": {},
   "outputs": [
    {
     "name": "stderr",
     "output_type": "stream",
     "text": [
      "g:\\Code\\Python\\GitHub\\Portfolio-Optimizer\\environment\\env.py:42: RuntimeWarning: divide by zero encountered in true_divide\n",
      "  self.gain = np.hstack((np.ones((self.close_prices.shape[0]-1, 1)), self.close_prices.values[1:] / self.close_prices.values[:-1]))\n",
      "g:\\Code\\Python\\GitHub\\Portfolio-Optimizer\\environment\\env.py:220: DeprecationWarning: This function is deprecated. Please call randint(59, 612 + 1) instead\n",
      "  self.dates_num-self.steps-1)\n"
     ]
    }
   ],
   "source": [
    "env = TradingEnv('data')"
   ]
  },
  {
   "cell_type": "code",
   "execution_count": 30,
   "metadata": {},
   "outputs": [
    {
     "data": {
      "text/plain": [
       "Box(-inf, inf, (1, 8, 60), float32)"
      ]
     },
     "execution_count": 30,
     "metadata": {},
     "output_type": "execute_result"
    }
   ],
   "source": [
    "env.observation_space"
   ]
  },
  {
   "cell_type": "code",
   "execution_count": null,
   "metadata": {},
   "outputs": [],
   "source": []
  }
 ],
 "metadata": {
  "interpreter": {
   "hash": "76bb67cbed576fbb2355b7c8b1314e94871a10f18f8450a21ef1b73ecaaef128"
  },
  "kernelspec": {
   "display_name": "Python 3.7.6 ('.venv': venv)",
   "language": "python",
   "name": "python3"
  },
  "language_info": {
   "codemirror_mode": {
    "name": "ipython",
    "version": 3
   },
   "file_extension": ".py",
   "mimetype": "text/x-python",
   "name": "python",
   "nbconvert_exporter": "python",
   "pygments_lexer": "ipython3",
   "version": "3.7.6"
  },
  "orig_nbformat": 4
 },
 "nbformat": 4,
 "nbformat_minor": 2
}

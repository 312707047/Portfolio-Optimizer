{
 "cells": [
  {
   "cell_type": "code",
   "execution_count": 2,
   "metadata": {},
   "outputs": [],
   "source": [
    "import torch\n",
    "import torch.nn as nn\n",
    "import torch.nn.functional as F"
   ]
  },
  {
   "cell_type": "code",
   "execution_count": 5,
   "metadata": {},
   "outputs": [],
   "source": [
    "test = torch.randn([3, 8, 60])"
   ]
  },
  {
   "cell_type": "code",
   "execution_count": 69,
   "metadata": {},
   "outputs": [],
   "source": [
    "conv_1 = nn.Conv2d(3, 64, (1, 3), padding=0)\n",
    "conv_2 = nn.Conv2d(64, 32, (1, 7), padding=0)\n",
    "conv_3 = nn.Conv2d(32, 16, (1, 10), padding=0)\n",
    "conv_4 = nn.Conv2d(16, 3, (1, 14), padding=0)"
   ]
  },
  {
   "cell_type": "code",
   "execution_count": 72,
   "metadata": {},
   "outputs": [],
   "source": [
    "test = conv_4(conv_3(conv_2(conv_1(test))))"
   ]
  },
  {
   "cell_type": "code",
   "execution_count": 71,
   "metadata": {},
   "outputs": [],
   "source": [
    "convt_1 = nn.ConvTranspose2d(3, 16, (1, 14), padding=0)\n",
    "convt_2 = nn.ConvTranspose2d(16, 32, (1, 10), padding=0)\n",
    "convt_3 = nn.ConvTranspose2d(32, 64, (1, 7), padding=0)\n",
    "convt_4 = nn.ConvTranspose2d(64, 3, (1, 3), padding=0)"
   ]
  },
  {
   "cell_type": "code",
   "execution_count": 75,
   "metadata": {},
   "outputs": [
    {
     "data": {
      "text/plain": [
       "torch.Size([3, 8, 60])"
      ]
     },
     "execution_count": 75,
     "metadata": {},
     "output_type": "execute_result"
    }
   ],
   "source": [
    "convt_4(convt_3(convt_2(convt_1(test)))).shape"
   ]
  },
  {
   "cell_type": "code",
   "execution_count": 43,
   "metadata": {},
   "outputs": [
    {
     "data": {
      "text/plain": [
       "torch.Size([16, 10, 30])"
      ]
     },
     "execution_count": 43,
     "metadata": {},
     "output_type": "execute_result"
    }
   ],
   "source": [
    "pool_1 = nn.MaxPool2d((1, 2), (1, 2))\n",
    "pool_1(conv_1(test)).shape"
   ]
  }
 ],
 "metadata": {
  "interpreter": {
   "hash": "76bb67cbed576fbb2355b7c8b1314e94871a10f18f8450a21ef1b73ecaaef128"
  },
  "kernelspec": {
   "display_name": "Python 3.7.6 ('.venv': venv)",
   "language": "python",
   "name": "python3"
  },
  "language_info": {
   "codemirror_mode": {
    "name": "ipython",
    "version": 3
   },
   "file_extension": ".py",
   "mimetype": "text/x-python",
   "name": "python",
   "nbconvert_exporter": "python",
   "pygments_lexer": "ipython3",
   "version": "3.7.6"
  },
  "orig_nbformat": 4
 },
 "nbformat": 4,
 "nbformat_minor": 2
}

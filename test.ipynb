{
 "cells": [
  {
   "cell_type": "code",
   "execution_count": 46,
   "metadata": {},
   "outputs": [],
   "source": [
    "import os\n",
    "import gym\n",
    "import pandas as pd\n",
    "import numpy as np"
   ]
  },
  {
   "cell_type": "code",
   "execution_count": 7,
   "metadata": {},
   "outputs": [],
   "source": [
    "df = pd.read_csv('data\\RVNBTC-5m-data.csv').iloc[:10]"
   ]
  },
  {
   "cell_type": "code",
   "execution_count": 10,
   "metadata": {},
   "outputs": [],
   "source": [
    "df.set_index('Timestamp', inplace=True)"
   ]
  },
  {
   "cell_type": "code",
   "execution_count": 16,
   "metadata": {},
   "outputs": [],
   "source": [
    "df = df.iloc[:, 1:4]"
   ]
  },
  {
   "cell_type": "code",
   "execution_count": 17,
   "metadata": {},
   "outputs": [
    {
     "name": "stderr",
     "output_type": "stream",
     "text": [
      "<>:1: DeprecationWarning: invalid escape sequence \\R\n"
     ]
    }
   ],
   "source": [
    "df_2 = pd.read_csv('data\\RVNUSDT-5m-data.csv').iloc[:10]\n",
    "df_2.set_index('Timestamp', inplace=True)\n",
    "df_2 = df_2.iloc[:, 1:4]"
   ]
  },
  {
   "cell_type": "code",
   "execution_count": 41,
   "metadata": {},
   "outputs": [],
   "source": [
    "data_list = os.listdir('data')\n",
    "high_df = pd.DataFrame()\n",
    "low_df = pd.DataFrame()\n",
    "close_df = pd.DataFrame()\n",
    "\n",
    "for i in data_list:\n",
    "    temp_df = pd.read_csv(f'data/{i}') # assume all the data have the same length\n",
    "    high_df = pd.concat([high_df, temp_df['High']], axis=1, ignore_index=True)\n",
    "    low_df = pd.concat([low_df, temp_df['Low']], axis=1, ignore_index=True)\n",
    "    close_df = pd.concat([close_df, temp_df['Close']], axis=1, ignore_index=True)"
   ]
  },
  {
   "cell_type": "code",
   "execution_count": 45,
   "metadata": {},
   "outputs": [],
   "source": [
    "close = close_df.to_numpy()\n",
    "high = high_df.to_numpy()\n",
    "low = low_df.to_numpy()"
   ]
  },
  {
   "cell_type": "code",
   "execution_count": 54,
   "metadata": {},
   "outputs": [],
   "source": [
    "final_df = np.stack((high, low, close))"
   ]
  },
  {
   "cell_type": "code",
   "execution_count": 62,
   "metadata": {},
   "outputs": [
    {
     "data": {
      "text/plain": [
       "array([2.e-06,    nan])"
      ]
     },
     "execution_count": 62,
     "metadata": {},
     "output_type": "execute_result"
    }
   ],
   "source": [
    "high[-1]"
   ]
  },
  {
   "cell_type": "code",
   "execution_count": 64,
   "metadata": {},
   "outputs": [
    {
     "data": {
      "text/plain": [
       "(3, 337244, 2)"
      ]
     },
     "execution_count": 64,
     "metadata": {},
     "output_type": "execute_result"
    }
   ],
   "source": [
    "final_df.shape"
   ]
  },
  {
   "cell_type": "code",
   "execution_count": 23,
   "metadata": {},
   "outputs": [],
   "source": [
    "high_df = pd.DataFrame()"
   ]
  },
  {
   "cell_type": "code",
   "execution_count": 27,
   "metadata": {},
   "outputs": [
    {
     "data": {
      "text/html": [
       "<div>\n",
       "<style scoped>\n",
       "    .dataframe tbody tr th:only-of-type {\n",
       "        vertical-align: middle;\n",
       "    }\n",
       "\n",
       "    .dataframe tbody tr th {\n",
       "        vertical-align: top;\n",
       "    }\n",
       "\n",
       "    .dataframe thead th {\n",
       "        text-align: right;\n",
       "    }\n",
       "</style>\n",
       "<table border=\"1\" class=\"dataframe\">\n",
       "  <thead>\n",
       "    <tr style=\"text-align: right;\">\n",
       "      <th></th>\n",
       "      <th>High</th>\n",
       "    </tr>\n",
       "  </thead>\n",
       "  <tbody>\n",
       "    <tr>\n",
       "      <th>2018-10-12 04:00:00</th>\n",
       "      <td>0.000003</td>\n",
       "    </tr>\n",
       "    <tr>\n",
       "      <th>2018-10-12 04:05:00</th>\n",
       "      <td>0.000003</td>\n",
       "    </tr>\n",
       "    <tr>\n",
       "      <th>2018-10-12 04:10:00</th>\n",
       "      <td>0.000003</td>\n",
       "    </tr>\n",
       "    <tr>\n",
       "      <th>2018-10-12 04:15:00</th>\n",
       "      <td>0.000003</td>\n",
       "    </tr>\n",
       "    <tr>\n",
       "      <th>2018-10-12 04:20:00</th>\n",
       "      <td>0.000003</td>\n",
       "    </tr>\n",
       "    <tr>\n",
       "      <th>2018-10-12 04:25:00</th>\n",
       "      <td>0.000003</td>\n",
       "    </tr>\n",
       "    <tr>\n",
       "      <th>2018-10-12 04:30:00</th>\n",
       "      <td>0.000003</td>\n",
       "    </tr>\n",
       "    <tr>\n",
       "      <th>2018-10-12 04:35:00</th>\n",
       "      <td>0.000003</td>\n",
       "    </tr>\n",
       "    <tr>\n",
       "      <th>2018-10-12 04:40:00</th>\n",
       "      <td>0.000003</td>\n",
       "    </tr>\n",
       "    <tr>\n",
       "      <th>2018-10-12 04:45:00</th>\n",
       "      <td>0.000003</td>\n",
       "    </tr>\n",
       "  </tbody>\n",
       "</table>\n",
       "</div>"
      ],
      "text/plain": [
       "                         High\n",
       "2018-10-12 04:00:00  0.000003\n",
       "2018-10-12 04:05:00  0.000003\n",
       "2018-10-12 04:10:00  0.000003\n",
       "2018-10-12 04:15:00  0.000003\n",
       "2018-10-12 04:20:00  0.000003\n",
       "2018-10-12 04:25:00  0.000003\n",
       "2018-10-12 04:30:00  0.000003\n",
       "2018-10-12 04:35:00  0.000003\n",
       "2018-10-12 04:40:00  0.000003\n",
       "2018-10-12 04:45:00  0.000003"
      ]
     },
     "execution_count": 27,
     "metadata": {},
     "output_type": "execute_result"
    }
   ],
   "source": [
    "pd.concat([high_df, df['High']], axis=1)"
   ]
  },
  {
   "cell_type": "code",
   "execution_count": 25,
   "metadata": {},
   "outputs": [
    {
     "data": {
      "text/html": [
       "<div>\n",
       "<style scoped>\n",
       "    .dataframe tbody tr th:only-of-type {\n",
       "        vertical-align: middle;\n",
       "    }\n",
       "\n",
       "    .dataframe tbody tr th {\n",
       "        vertical-align: top;\n",
       "    }\n",
       "\n",
       "    .dataframe thead th {\n",
       "        text-align: right;\n",
       "    }\n",
       "</style>\n",
       "<table border=\"1\" class=\"dataframe\">\n",
       "  <thead>\n",
       "    <tr style=\"text-align: right;\">\n",
       "      <th></th>\n",
       "      <th>High</th>\n",
       "      <th>High</th>\n",
       "    </tr>\n",
       "    <tr>\n",
       "      <th>Timestamp</th>\n",
       "      <th></th>\n",
       "      <th></th>\n",
       "    </tr>\n",
       "  </thead>\n",
       "  <tbody>\n",
       "    <tr>\n",
       "      <th>2018-10-12 04:00:00</th>\n",
       "      <td>0.000003</td>\n",
       "      <td>NaN</td>\n",
       "    </tr>\n",
       "    <tr>\n",
       "      <th>2018-10-12 04:05:00</th>\n",
       "      <td>0.000003</td>\n",
       "      <td>NaN</td>\n",
       "    </tr>\n",
       "    <tr>\n",
       "      <th>2018-10-12 04:10:00</th>\n",
       "      <td>0.000003</td>\n",
       "      <td>NaN</td>\n",
       "    </tr>\n",
       "    <tr>\n",
       "      <th>2018-10-12 04:15:00</th>\n",
       "      <td>0.000003</td>\n",
       "      <td>NaN</td>\n",
       "    </tr>\n",
       "    <tr>\n",
       "      <th>2018-10-12 04:20:00</th>\n",
       "      <td>0.000003</td>\n",
       "      <td>NaN</td>\n",
       "    </tr>\n",
       "    <tr>\n",
       "      <th>2018-10-12 04:25:00</th>\n",
       "      <td>0.000003</td>\n",
       "      <td>NaN</td>\n",
       "    </tr>\n",
       "    <tr>\n",
       "      <th>2018-10-12 04:30:00</th>\n",
       "      <td>0.000003</td>\n",
       "      <td>NaN</td>\n",
       "    </tr>\n",
       "    <tr>\n",
       "      <th>2018-10-12 04:35:00</th>\n",
       "      <td>0.000003</td>\n",
       "      <td>NaN</td>\n",
       "    </tr>\n",
       "    <tr>\n",
       "      <th>2018-10-12 04:40:00</th>\n",
       "      <td>0.000003</td>\n",
       "      <td>NaN</td>\n",
       "    </tr>\n",
       "    <tr>\n",
       "      <th>2018-10-12 04:45:00</th>\n",
       "      <td>0.000003</td>\n",
       "      <td>NaN</td>\n",
       "    </tr>\n",
       "    <tr>\n",
       "      <th>2019-09-25 12:00:00</th>\n",
       "      <td>NaN</td>\n",
       "      <td>0.02529</td>\n",
       "    </tr>\n",
       "    <tr>\n",
       "      <th>2019-09-25 12:05:00</th>\n",
       "      <td>NaN</td>\n",
       "      <td>0.02666</td>\n",
       "    </tr>\n",
       "    <tr>\n",
       "      <th>2019-09-25 12:10:00</th>\n",
       "      <td>NaN</td>\n",
       "      <td>0.02507</td>\n",
       "    </tr>\n",
       "    <tr>\n",
       "      <th>2019-09-25 12:15:00</th>\n",
       "      <td>NaN</td>\n",
       "      <td>0.02649</td>\n",
       "    </tr>\n",
       "    <tr>\n",
       "      <th>2019-09-25 12:20:00</th>\n",
       "      <td>NaN</td>\n",
       "      <td>0.02520</td>\n",
       "    </tr>\n",
       "    <tr>\n",
       "      <th>2019-09-25 12:25:00</th>\n",
       "      <td>NaN</td>\n",
       "      <td>0.02505</td>\n",
       "    </tr>\n",
       "    <tr>\n",
       "      <th>2019-09-25 12:30:00</th>\n",
       "      <td>NaN</td>\n",
       "      <td>0.02568</td>\n",
       "    </tr>\n",
       "    <tr>\n",
       "      <th>2019-09-25 12:35:00</th>\n",
       "      <td>NaN</td>\n",
       "      <td>0.02517</td>\n",
       "    </tr>\n",
       "    <tr>\n",
       "      <th>2019-09-25 12:40:00</th>\n",
       "      <td>NaN</td>\n",
       "      <td>0.02517</td>\n",
       "    </tr>\n",
       "    <tr>\n",
       "      <th>2019-09-25 12:45:00</th>\n",
       "      <td>NaN</td>\n",
       "      <td>0.02517</td>\n",
       "    </tr>\n",
       "  </tbody>\n",
       "</table>\n",
       "</div>"
      ],
      "text/plain": [
       "                         High     High\n",
       "Timestamp                             \n",
       "2018-10-12 04:00:00  0.000003      NaN\n",
       "2018-10-12 04:05:00  0.000003      NaN\n",
       "2018-10-12 04:10:00  0.000003      NaN\n",
       "2018-10-12 04:15:00  0.000003      NaN\n",
       "2018-10-12 04:20:00  0.000003      NaN\n",
       "2018-10-12 04:25:00  0.000003      NaN\n",
       "2018-10-12 04:30:00  0.000003      NaN\n",
       "2018-10-12 04:35:00  0.000003      NaN\n",
       "2018-10-12 04:40:00  0.000003      NaN\n",
       "2018-10-12 04:45:00  0.000003      NaN\n",
       "2019-09-25 12:00:00       NaN  0.02529\n",
       "2019-09-25 12:05:00       NaN  0.02666\n",
       "2019-09-25 12:10:00       NaN  0.02507\n",
       "2019-09-25 12:15:00       NaN  0.02649\n",
       "2019-09-25 12:20:00       NaN  0.02520\n",
       "2019-09-25 12:25:00       NaN  0.02505\n",
       "2019-09-25 12:30:00       NaN  0.02568\n",
       "2019-09-25 12:35:00       NaN  0.02517\n",
       "2019-09-25 12:40:00       NaN  0.02517\n",
       "2019-09-25 12:45:00       NaN  0.02517"
      ]
     },
     "execution_count": 25,
     "metadata": {},
     "output_type": "execute_result"
    }
   ],
   "source": [
    "pd.concat([df['High'], df_2['High']], axis=1)"
   ]
  },
  {
   "cell_type": "code",
   "execution_count": null,
   "metadata": {},
   "outputs": [],
   "source": []
  }
 ],
 "metadata": {
  "interpreter": {
   "hash": "76bb67cbed576fbb2355b7c8b1314e94871a10f18f8450a21ef1b73ecaaef128"
  },
  "kernelspec": {
   "display_name": "Python 3.7.6 ('.venv': venv)",
   "language": "python",
   "name": "python3"
  },
  "language_info": {
   "codemirror_mode": {
    "name": "ipython",
    "version": 3
   },
   "file_extension": ".py",
   "mimetype": "text/x-python",
   "name": "python",
   "nbconvert_exporter": "python",
   "pygments_lexer": "ipython3",
   "version": "3.7.6"
  },
  "orig_nbformat": 4
 },
 "nbformat": 4,
 "nbformat_minor": 2
}

{
 "cells": [
  {
   "cell_type": "code",
   "execution_count": 6,
   "metadata": {},
   "outputs": [],
   "source": [
    "from datetime import date\n",
    "import time"
   ]
  },
  {
   "cell_type": "code",
   "execution_count": null,
   "metadata": {},
   "outputs": [],
   "source": [
    "time.strptime(date.today())"
   ]
  },
  {
   "cell_type": "code",
   "execution_count": 7,
   "metadata": {},
   "outputs": [
    {
     "data": {
      "text/plain": [
       "'2022-04-22'"
      ]
     },
     "execution_count": 7,
     "metadata": {},
     "output_type": "execute_result"
    }
   ],
   "source": [
    "str(date.today())"
   ]
  },
  {
   "cell_type": "code",
   "execution_count": 1,
   "metadata": {},
   "outputs": [],
   "source": [
    "from environment.env import TradingEnv\n",
    "import numpy as np"
   ]
  },
  {
   "cell_type": "code",
   "execution_count": 2,
   "metadata": {},
   "outputs": [],
   "source": [
    "env = TradingEnv(data_path='data', start_date_index=0, observation_features='All')"
   ]
  },
  {
   "cell_type": "code",
   "execution_count": 3,
   "metadata": {},
   "outputs": [
    {
     "data": {
      "text/plain": [
       "(3, 8, 60)"
      ]
     },
     "execution_count": 3,
     "metadata": {},
     "output_type": "execute_result"
    }
   ],
   "source": [
    "env.observation_space.sample()['portfolio'].shape"
   ]
  },
  {
   "cell_type": "code",
   "execution_count": 12,
   "metadata": {},
   "outputs": [
    {
     "data": {
      "text/plain": [
       "array([[ 230.3443687 ,  228.6577304 ,  226.7551498 ,  191.752113  ,\n",
       "         197.2508    ,  214.3876624 ,  215.5       ,  213.442785  ,\n",
       "         206.4715037 ,  204.7341061 ,  206.44782   ,  205.89707   ,\n",
       "         205.45326   ,  204.66953   ,  204.7100001 ,  196.92494   ,\n",
       "         197.361     ,  198.47      ,  199.67      ,  202.22      ,\n",
       "         210.7418    ,  220.95989   ,  218.9       ,  213.0326215 ,\n",
       "         210.93669   ,  213.02877   ,  210.0549177 ,  187.7664066 ,\n",
       "         184.71596   ,  176.9783113 ,  150.8593482 ,  134.341227  ,\n",
       "         138.1502    ,  125.2995999 ,  110.589     ,  111.5554    ,\n",
       "         122.94      ,  118.4472998 ,  113.9689    ,  109.1398046 ,\n",
       "         109.6       ,   91.04      ,   93.10035013,   89.9681538 ,\n",
       "          87.81021999,   89.20900001,   86.27      ,   83.87458   ,\n",
       "          94.18679691,  100.3737544 ,   98.83065596,  113.88062   ,\n",
       "         107.58122   ,  138.4723607 ,  129.2679656 ,  113.40359   ,\n",
       "         134.9668081 ,  131.3891    ,  152.        ,  146.25215   ],\n",
       "       [6674.063726  , 6654.918164  , 6630.2       , 6250.28449   ,\n",
       "        6304.110763  , 6750.        , 6758.754926  , 6739.750263  ,\n",
       "        6610.        , 6528.137063  , 6581.55485   , 6556.154438  ,\n",
       "        6561.473982  , 6539.        , 6540.        , 6350.        ,\n",
       "        6332.235996  , 6376.3019    , 6405.26713   , 6435.407572  ,\n",
       "        6471.388644  , 6518.77236   , 6575.4       , 6480.228422  ,\n",
       "        6419.7       , 6453.58      , 6467.657063  , 5909.427076  ,\n",
       "        5744.79776   , 5648.688226  , 4925.546688  , 4570.350259  ,\n",
       "        4667.        , 4421.        , 3850.220945  , 3880.05071   ,\n",
       "        4268.442369  , 4291.083895  , 4040.8635    , 3890.35151   ,\n",
       "        3955.57429   , 3508.71529   , 3401.586952  , 3441.27      ,\n",
       "        3380.        , 3445.92009   , 3301.05664   , 3221.657197  ,\n",
       "        3505.39827   , 3650.806981  , 3667.664189  , 4050.65495   ,\n",
       "        3836.540057  , 4010.268128  , 3779.9112    , 3565.271144  ,\n",
       "        3840.411604  , 3696.2223    , 3858.899815  , 3761.857571  ]])"
      ]
     },
     "execution_count": 12,
     "metadata": {},
     "output_type": "execute_result"
    }
   ],
   "source": [
    "env.reset()['portfolio'][0][0:2]"
   ]
  },
  {
   "cell_type": "code",
   "execution_count": 9,
   "metadata": {},
   "outputs": [
    {
     "data": {
      "text/plain": [
       "array([[ 0.70356988, -0.11661486,  0.0326151 , -0.03189706,  0.04055613,\n",
       "        -0.13525665,  0.1169467 , -0.02686619],\n",
       "       [-0.11661486,  1.01500759,  0.1800105 ,  0.20248146, -0.01535679,\n",
       "        -0.15926908, -0.00598025,  0.16678847],\n",
       "       [ 0.0326151 ,  0.1800105 ,  1.00540441,  0.00874877, -0.03317448,\n",
       "         0.28895642,  0.05981489, -0.03556299],\n",
       "       [-0.03189706,  0.20248146,  0.00874877,  1.21450007, -0.21628241,\n",
       "         0.0120324 , -0.07460205, -0.13045529],\n",
       "       [ 0.04055613, -0.01535679, -0.03317448, -0.21628241,  0.90821197,\n",
       "        -0.04637438,  0.04514357,  0.08409751],\n",
       "       [-0.13525665, -0.15926908,  0.28895642,  0.0120324 , -0.04637438,\n",
       "         1.06360351, -0.11318457, -0.16743758],\n",
       "       [ 0.1169467 , -0.00598025,  0.05981489, -0.07460205,  0.04514357,\n",
       "        -0.11318457,  1.105245  , -0.21035159],\n",
       "       [-0.02686619,  0.16678847, -0.03556299, -0.13045529,  0.08409751,\n",
       "        -0.16743758, -0.21035159,  1.12779945]])"
      ]
     },
     "execution_count": 9,
     "metadata": {},
     "output_type": "execute_result"
    }
   ],
   "source": [
    "np.cov(test['portfolio'][0])"
   ]
  },
  {
   "cell_type": "code",
   "execution_count": 6,
   "metadata": {},
   "outputs": [],
   "source": [
    "obs = env.reset()"
   ]
  },
  {
   "cell_type": "code",
   "execution_count": 9,
   "metadata": {},
   "outputs": [
    {
     "data": {
      "text/plain": [
       "(3, 8, 8)"
      ]
     },
     "execution_count": 9,
     "metadata": {},
     "output_type": "execute_result"
    }
   ],
   "source": [
    "obs['covariance'].shape"
   ]
  },
  {
   "cell_type": "code",
   "execution_count": 12,
   "metadata": {},
   "outputs": [],
   "source": [
    "import pandas as pd\n",
    "import os"
   ]
  },
  {
   "cell_type": "code",
   "execution_count": 14,
   "metadata": {},
   "outputs": [],
   "source": [
    "close_prices = pd.read_csv(os.path.join('data', 'Close.csv'), index_col=0, parse_dates=True)"
   ]
  },
  {
   "cell_type": "code",
   "execution_count": 21,
   "metadata": {},
   "outputs": [],
   "source": [
    "dates = close_prices.index.values[1:]"
   ]
  },
  {
   "cell_type": "code",
   "execution_count": 22,
   "metadata": {},
   "outputs": [],
   "source": [
    "dates_num = dates.shape[0]"
   ]
  },
  {
   "cell_type": "code",
   "execution_count": 23,
   "metadata": {},
   "outputs": [
    {
     "data": {
      "text/plain": [
       "814"
      ]
     },
     "execution_count": 23,
     "metadata": {},
     "output_type": "execute_result"
    }
   ],
   "source": [
    "dates_num"
   ]
  },
  {
   "cell_type": "code",
   "execution_count": 9,
   "metadata": {},
   "outputs": [],
   "source": [
    "import pandas as pd\n",
    "import numpy as np"
   ]
  },
  {
   "cell_type": "code",
   "execution_count": 10,
   "metadata": {},
   "outputs": [],
   "source": [
    "high_prices = pd.read_csv(os.path.join('data', 'High.csv'), index_col=0, parse_dates=True)"
   ]
  },
  {
   "cell_type": "code",
   "execution_count": 11,
   "metadata": {},
   "outputs": [],
   "source": [
    "high_obs = np.expand_dims(high_prices.T, 0)"
   ]
  },
  {
   "cell_type": "code",
   "execution_count": 13,
   "metadata": {},
   "outputs": [
    {
     "data": {
      "text/plain": [
       "(1, 8, 815)"
      ]
     },
     "execution_count": 13,
     "metadata": {},
     "output_type": "execute_result"
    }
   ],
   "source": [
    "high_obs.shape"
   ]
  },
  {
   "cell_type": "code",
   "execution_count": null,
   "metadata": {},
   "outputs": [],
   "source": []
  }
 ],
 "metadata": {
  "interpreter": {
   "hash": "76bb67cbed576fbb2355b7c8b1314e94871a10f18f8450a21ef1b73ecaaef128"
  },
  "kernelspec": {
   "display_name": "Python 3.7.6 ('.venv': venv)",
   "language": "python",
   "name": "python3"
  },
  "language_info": {
   "codemirror_mode": {
    "name": "ipython",
    "version": 3
   },
   "file_extension": ".py",
   "mimetype": "text/x-python",
   "name": "python",
   "nbconvert_exporter": "python",
   "pygments_lexer": "ipython3",
   "version": "3.7.6"
  },
  "orig_nbformat": 4
 },
 "nbformat": 4,
 "nbformat_minor": 2
}

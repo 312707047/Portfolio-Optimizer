{
 "cells": [
  {
   "cell_type": "code",
   "execution_count": 1,
   "metadata": {},
   "outputs": [],
   "source": [
    "from environment.env import TradingEnv\n",
    "import numpy as np"
   ]
  },
  {
   "cell_type": "code",
   "execution_count": 2,
   "metadata": {},
   "outputs": [],
   "source": [
    "env = TradingEnv(data_path='data', start_date_index=0, observation_features='All')"
   ]
  },
  {
   "cell_type": "code",
   "execution_count": 6,
   "metadata": {},
   "outputs": [],
   "source": [
    "test = env.observation_space.sample()"
   ]
  },
  {
   "cell_type": "code",
   "execution_count": 8,
   "metadata": {},
   "outputs": [
    {
     "data": {
      "text/plain": [
       "array([[-0.36279535, -0.9611736 , -0.3510715 ,  0.27829328, -0.8309914 ,\n",
       "         0.9312949 ,  0.7629359 , -0.30662236],\n",
       "       [-0.7769365 , -0.13101007,  0.92608774, -0.52720845, -0.97312677,\n",
       "         0.42277068,  0.44664022,  0.9844379 ],\n",
       "       [-0.69993377,  0.46851695, -0.5725703 ,  0.7488906 , -0.15838708,\n",
       "        -0.36855268, -0.19182272,  0.66509604],\n",
       "       [-0.4678979 ,  0.12873177,  0.520398  , -0.03200837, -0.46189407,\n",
       "        -0.09149715, -0.9810538 , -0.6847808 ],\n",
       "       [ 0.18642257, -0.1468745 , -0.24345945, -0.00148004,  0.40762022,\n",
       "         0.9614745 ,  0.4672231 , -0.58387846],\n",
       "       [-0.7495707 , -0.7324292 , -0.50133306,  0.02705534, -0.9695322 ,\n",
       "        -0.47035578,  0.72869366,  0.18769953],\n",
       "       [-0.15281168,  0.14180358,  0.97628576, -0.85804254, -0.20757161,\n",
       "         0.32070065,  0.5274242 ,  0.7306715 ],\n",
       "       [ 0.941012  ,  0.8715327 ,  0.90211874, -0.45208317,  0.8369045 ,\n",
       "         0.5580964 ,  0.0630856 , -0.73136115]], dtype=float32)"
      ]
     },
     "execution_count": 8,
     "metadata": {},
     "output_type": "execute_result"
    }
   ],
   "source": [
    "test['covariance'][0]"
   ]
  },
  {
   "cell_type": "code",
   "execution_count": 9,
   "metadata": {},
   "outputs": [
    {
     "data": {
      "text/plain": [
       "array([[ 0.70356988, -0.11661486,  0.0326151 , -0.03189706,  0.04055613,\n",
       "        -0.13525665,  0.1169467 , -0.02686619],\n",
       "       [-0.11661486,  1.01500759,  0.1800105 ,  0.20248146, -0.01535679,\n",
       "        -0.15926908, -0.00598025,  0.16678847],\n",
       "       [ 0.0326151 ,  0.1800105 ,  1.00540441,  0.00874877, -0.03317448,\n",
       "         0.28895642,  0.05981489, -0.03556299],\n",
       "       [-0.03189706,  0.20248146,  0.00874877,  1.21450007, -0.21628241,\n",
       "         0.0120324 , -0.07460205, -0.13045529],\n",
       "       [ 0.04055613, -0.01535679, -0.03317448, -0.21628241,  0.90821197,\n",
       "        -0.04637438,  0.04514357,  0.08409751],\n",
       "       [-0.13525665, -0.15926908,  0.28895642,  0.0120324 , -0.04637438,\n",
       "         1.06360351, -0.11318457, -0.16743758],\n",
       "       [ 0.1169467 , -0.00598025,  0.05981489, -0.07460205,  0.04514357,\n",
       "        -0.11318457,  1.105245  , -0.21035159],\n",
       "       [-0.02686619,  0.16678847, -0.03556299, -0.13045529,  0.08409751,\n",
       "        -0.16743758, -0.21035159,  1.12779945]])"
      ]
     },
     "execution_count": 9,
     "metadata": {},
     "output_type": "execute_result"
    }
   ],
   "source": [
    "np.cov(test['portfolio'][0])"
   ]
  },
  {
   "cell_type": "code",
   "execution_count": 6,
   "metadata": {},
   "outputs": [],
   "source": [
    "obs = env.reset()"
   ]
  },
  {
   "cell_type": "code",
   "execution_count": 9,
   "metadata": {},
   "outputs": [
    {
     "data": {
      "text/plain": [
       "(3, 8, 8)"
      ]
     },
     "execution_count": 9,
     "metadata": {},
     "output_type": "execute_result"
    }
   ],
   "source": [
    "obs['covariance'].shape"
   ]
  },
  {
   "cell_type": "code",
   "execution_count": 12,
   "metadata": {},
   "outputs": [],
   "source": [
    "import pandas as pd\n",
    "import os"
   ]
  },
  {
   "cell_type": "code",
   "execution_count": 14,
   "metadata": {},
   "outputs": [],
   "source": [
    "close_prices = pd.read_csv(os.path.join('data', 'Close.csv'), index_col=0, parse_dates=True)"
   ]
  },
  {
   "cell_type": "code",
   "execution_count": 21,
   "metadata": {},
   "outputs": [],
   "source": [
    "dates = close_prices.index.values[1:]"
   ]
  },
  {
   "cell_type": "code",
   "execution_count": 22,
   "metadata": {},
   "outputs": [],
   "source": [
    "dates_num = dates.shape[0]"
   ]
  },
  {
   "cell_type": "code",
   "execution_count": 23,
   "metadata": {},
   "outputs": [
    {
     "data": {
      "text/plain": [
       "814"
      ]
     },
     "execution_count": 23,
     "metadata": {},
     "output_type": "execute_result"
    }
   ],
   "source": [
    "dates_num"
   ]
  },
  {
   "cell_type": "code",
   "execution_count": 9,
   "metadata": {},
   "outputs": [],
   "source": [
    "import pandas as pd\n",
    "import numpy as np"
   ]
  },
  {
   "cell_type": "code",
   "execution_count": 10,
   "metadata": {},
   "outputs": [],
   "source": [
    "high_prices = pd.read_csv(os.path.join('data', 'High.csv'), index_col=0, parse_dates=True)"
   ]
  },
  {
   "cell_type": "code",
   "execution_count": 11,
   "metadata": {},
   "outputs": [],
   "source": [
    "high_obs = np.expand_dims(high_prices.T, 0)"
   ]
  },
  {
   "cell_type": "code",
   "execution_count": 13,
   "metadata": {},
   "outputs": [
    {
     "data": {
      "text/plain": [
       "(1, 8, 815)"
      ]
     },
     "execution_count": 13,
     "metadata": {},
     "output_type": "execute_result"
    }
   ],
   "source": [
    "high_obs.shape"
   ]
  },
  {
   "cell_type": "code",
   "execution_count": null,
   "metadata": {},
   "outputs": [],
   "source": []
  }
 ],
 "metadata": {
  "interpreter": {
   "hash": "76bb67cbed576fbb2355b7c8b1314e94871a10f18f8450a21ef1b73ecaaef128"
  },
  "kernelspec": {
   "display_name": "Python 3.7.6 ('.venv': venv)",
   "language": "python",
   "name": "python3"
  },
  "language_info": {
   "codemirror_mode": {
    "name": "ipython",
    "version": 3
   },
   "file_extension": ".py",
   "mimetype": "text/x-python",
   "name": "python",
   "nbconvert_exporter": "python",
   "pygments_lexer": "ipython3",
   "version": "3.7.6"
  },
  "orig_nbformat": 4
 },
 "nbformat": 4,
 "nbformat_minor": 2
}

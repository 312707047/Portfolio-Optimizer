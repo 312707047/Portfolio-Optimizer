{
 "cells": [
  {
   "cell_type": "code",
   "execution_count": 1,
   "metadata": {},
   "outputs": [
    {
     "name": "stderr",
     "output_type": "stream",
     "text": [
      "g:\\Code\\Python\\GitHub\\Portfolio-Optimizer\\.venv\\lib\\site-packages\\tqdm\\auto.py:22: TqdmWarning: IProgress not found. Please update jupyter and ipywidgets. See https://ipywidgets.readthedocs.io/en/stable/user_install.html\n",
      "  from .autonotebook import tqdm as notebook_tqdm\n"
     ]
    }
   ],
   "source": [
    "from agent.latent_space.LFSS import PretrainedAEModel"
   ]
  },
  {
   "cell_type": "code",
   "execution_count": 2,
   "metadata": {},
   "outputs": [
    {
     "name": "stdout",
     "output_type": "stream",
     "text": [
      "-------------Initialize Autoencoder-------------\n",
      "Epoch: 0 | Loss: 0.8844011906654604\n",
      "Epoch: 1 | Loss: 0.7598270293205015\n",
      "Epoch: 2 | Loss: 0.7057172329195084\n",
      "Epoch: 3 | Loss: 0.6559159101978425\n",
      "Epoch: 4 | Loss: 0.6089709747222162\n",
      "Epoch: 5 | Loss: 0.5652046857341644\n",
      "Epoch: 6 | Loss: 0.5240589678287506\n",
      "Epoch: 7 | Loss: 0.48560385934768185\n",
      "Epoch: 8 | Loss: 0.4487912510671923\n",
      "Epoch: 9 | Loss: 0.4144026627463679\n",
      "Epoch: 10 | Loss: 0.38153803252404733\n",
      "Epoch: 11 | Loss: 0.35103865400437384\n",
      "Epoch: 12 | Loss: 0.32243598468842044\n",
      "Epoch: 13 | Loss: 0.29570909950041\n",
      "Epoch: 14 | Loss: 0.2707248757923803\n",
      "Epoch: 15 | Loss: 0.24742395022223074\n",
      "Epoch: 16 | Loss: 0.22572117274807346\n",
      "Epoch: 17 | Loss: 0.2055448942607449\n",
      "-------------Finish pretraining the model!-------------\n",
      "Total Training Epochs: 17\n"
     ]
    }
   ],
   "source": [
    "ae = PretrainedAEModel()\n",
    "ae.train()"
   ]
  },
  {
   "cell_type": "code",
   "execution_count": null,
   "metadata": {},
   "outputs": [],
   "source": []
  }
 ],
 "metadata": {
  "interpreter": {
   "hash": "76bb67cbed576fbb2355b7c8b1314e94871a10f18f8450a21ef1b73ecaaef128"
  },
  "kernelspec": {
   "display_name": "Python 3.7.6 ('.venv': venv)",
   "language": "python",
   "name": "python3"
  },
  "language_info": {
   "codemirror_mode": {
    "name": "ipython",
    "version": 3
   },
   "file_extension": ".py",
   "mimetype": "text/x-python",
   "name": "python",
   "nbconvert_exporter": "python",
   "pygments_lexer": "ipython3",
   "version": "3.7.6"
  },
  "orig_nbformat": 4
 },
 "nbformat": 4,
 "nbformat_minor": 2
}

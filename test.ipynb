{
 "cells": [
  {
   "cell_type": "code",
   "execution_count": 1,
   "metadata": {},
   "outputs": [
    {
     "name": "stderr",
     "output_type": "stream",
     "text": [
      "g:\\Code\\Python\\GitHub\\Portfolio-Optimizer\\.venv\\lib\\site-packages\\tqdm\\auto.py:22: TqdmWarning: IProgress not found. Please update jupyter and ipywidgets. See https://ipywidgets.readthedocs.io/en/stable/user_install.html\n",
      "  from .autonotebook import tqdm as notebook_tqdm\n"
     ]
    }
   ],
   "source": [
    "import os\n",
    "import torch\n",
    "import torch.nn as nn\n",
    "import pandas as pd\n",
    "import numpy as np\n",
    "from networks.model import TD3_Actor\n",
    "from environment.env import TradingEnv\n",
    "from pykalman import KalmanFilter\n",
    "from sklearn.preprocessing import MinMaxScaler\n",
    "from environment.wrappers import env_wrapper\n",
    "import matplotlib.pyplot as plt\n",
    "from scipy.special import softmax"
   ]
  },
  {
   "cell_type": "code",
   "execution_count": 22,
   "metadata": {},
   "outputs": [
    {
     "data": {
      "text/plain": [
       "array([3, 1, 4, 1])"
      ]
     },
     "execution_count": 22,
     "metadata": {},
     "output_type": "execute_result"
    }
   ],
   "source": [
    "test = np.array([3, 1])\n",
    "test_1 = np.array([4, 1])\n",
    "np.concatenate([test, test_1])"
   ]
  },
  {
   "cell_type": "code",
   "execution_count": 20,
   "metadata": {},
   "outputs": [
    {
     "data": {
      "text/plain": [
       "array([[[0.79401137, 1.1442475 , 1.88476997, 2.9387764 ],\n",
       "        [0.55904318, 1.29927868, 1.69766974, 0.26191503],\n",
       "        [1.30524131, 0.15427702, 0.16971658, 1.93649807],\n",
       "        [1.04078574, 1.39597516, 1.08558159, 1.43830296],\n",
       "        [0.1835339 , 0.95206068, 1.349897  , 0.04074164],\n",
       "        [0.45299555, 0.93542293, 3.32338026, 2.97546933],\n",
       "        [1.34851473, 0.20500576, 3.59920244, 0.05944025],\n",
       "        [1.        , 1.        , 1.        , 1.        ]],\n",
       "\n",
       "       [[0.27728008, 0.34926733, 1.44382683, 2.12008267],\n",
       "        [0.84206811, 0.3909853 , 3.08937013, 0.66746445],\n",
       "        [0.97945481, 0.49459849, 3.18511958, 0.47003919],\n",
       "        [1.40719988, 0.3335148 , 3.54189653, 2.68201261],\n",
       "        [0.36243357, 0.37792133, 3.6381877 , 2.69962016],\n",
       "        [0.35661596, 0.44442165, 2.00202057, 0.55289329],\n",
       "        [0.06653715, 0.0432124 , 3.48046896, 0.39913318],\n",
       "        [0.86817136, 0.98861233, 0.11586043, 0.89937261]],\n",
       "\n",
       "       [[0.80005926, 0.8551943 , 0.04574103, 0.54809041],\n",
       "        [1.04876239, 1.47623698, 0.56227377, 0.68804312],\n",
       "        [0.42661569, 1.43161401, 0.79168468, 0.56837604],\n",
       "        [0.1497897 , 1.50149349, 2.1121899 , 0.73616913],\n",
       "        [0.40311531, 0.52914885, 0.06831099, 2.38462787],\n",
       "        [0.11409732, 0.3282395 , 3.25492369, 0.59580815],\n",
       "        [0.58577876, 1.26403173, 0.83911821, 1.32053595],\n",
       "        [0.23575451, 0.66210615, 3.50402806, 0.59366622]]])"
      ]
     },
     "execution_count": 20,
     "metadata": {},
     "output_type": "execute_result"
    }
   ],
   "source": [
    "test / test[0, -1]"
   ]
  },
  {
   "cell_type": "code",
   "execution_count": 2,
   "metadata": {},
   "outputs": [],
   "source": [
    "env = TradingEnv('data', commission=0.01, steps=750, start_date_index=0)\n",
    "env = env_wrapper(env)"
   ]
  },
  {
   "cell_type": "code",
   "execution_count": 9,
   "metadata": {},
   "outputs": [
    {
     "data": {
      "text/plain": [
       "array([4.27230414e-05, 9.41037611e-01, 3.15682950e-04, 3.84507373e-04,\n",
       "       5.70659539e-02, 3.84507373e-04, 3.84507373e-04, 3.84507373e-04])"
      ]
     },
     "execution_count": 9,
     "metadata": {},
     "output_type": "execute_result"
    }
   ],
   "source": [
    "env.step(np.array([0, 10, 2, 0, 55, 0, 0, 0]))[0]['action']"
   ]
  },
  {
   "cell_type": "code",
   "execution_count": 33,
   "metadata": {},
   "outputs": [
    {
     "data": {
      "text/plain": [
       "array([0.02083333, 0.02083333, 0.02083333, 0.1875    , 0.1875    ,\n",
       "       0.1875    , 0.1875    , 0.1875    ])"
      ]
     },
     "execution_count": 33,
     "metadata": {},
     "output_type": "execute_result"
    }
   ],
   "source": [
    "a = softmax(np.array([0, 0, 0, 0, 0, 0, 0, 0]))\n",
    "a = np.concatenate([a[:3]*0.1, a[3:]*0.9])\n",
    "(a / a.sum())"
   ]
  },
  {
   "cell_type": "code",
   "execution_count": 22,
   "metadata": {},
   "outputs": [
    {
     "data": {
      "text/plain": [
       "array([0.01840864, 0.01132587, 0.01046812, 0.12739284, 0.06305695,\n",
       "       0.14455485, 0.14063896, 0.06253275])"
      ]
     },
     "execution_count": 22,
     "metadata": {},
     "output_type": "execute_result"
    }
   ],
   "source": []
  },
  {
   "cell_type": "code",
   "execution_count": null,
   "metadata": {},
   "outputs": [],
   "source": []
  }
 ],
 "metadata": {
  "interpreter": {
   "hash": "ae9760cdd588bae5d79478c2ca557d494cf2439e86051e1349e9fe3243ac2594"
  },
  "kernelspec": {
   "display_name": "Python 3.7.6 ('.venv': venv)",
   "language": "python",
   "name": "python3"
  },
  "language_info": {
   "codemirror_mode": {
    "name": "ipython",
    "version": 3
   },
   "file_extension": ".py",
   "mimetype": "text/x-python",
   "name": "python",
   "nbconvert_exporter": "python",
   "pygments_lexer": "ipython3",
   "version": "3.7.6"
  },
  "orig_nbformat": 4
 },
 "nbformat": 4,
 "nbformat_minor": 2
}

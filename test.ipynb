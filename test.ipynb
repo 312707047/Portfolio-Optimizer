{
 "cells": [
  {
   "cell_type": "code",
   "execution_count": 28,
   "metadata": {},
   "outputs": [],
   "source": [
    "import os\n",
    "import torch\n",
    "import torch.nn as nn\n",
    "import pandas as pd\n",
    "import numpy as np\n",
    "from agent.model import TD3_Actor\n",
    "from environment.env import TradingEnv\n",
    "from pykalman import KalmanFilter\n",
    "import matplotlib.pyplot as plt"
   ]
  },
  {
   "cell_type": "code",
   "execution_count": 62,
   "metadata": {},
   "outputs": [],
   "source": [
    "from agent.latent_space.LFSS import PretrainedAEModel"
   ]
  },
  {
   "cell_type": "code",
   "execution_count": 63,
   "metadata": {},
   "outputs": [],
   "source": [
    "ae = PretrainedAEModel()"
   ]
  },
  {
   "cell_type": "code",
   "execution_count": 64,
   "metadata": {},
   "outputs": [
    {
     "name": "stdout",
     "output_type": "stream",
     "text": [
      "-------------Initialize Autoencoder-------------\n",
      "Epoch: 0 | Loss: 0.964616758208121\n",
      "Epoch: 1 | Loss: 0.8992378250245125\n",
      "Epoch: 2 | Loss: 0.8423859611634286\n",
      "Epoch: 3 | Loss: 0.7877804867682918\n",
      "Epoch: 4 | Loss: 0.7367671881952593\n",
      "Epoch: 5 | Loss: 0.6873376715567804\n",
      "Epoch: 6 | Loss: 0.6407783858237728\n",
      "Epoch: 7 | Loss: 0.5967896946014897\n",
      "Epoch: 8 | Loss: 0.5550714356283988\n",
      "Epoch: 9 | Loss: 0.5157995868113733\n",
      "Epoch: 10 | Loss: 0.4784329918123061\n",
      "Epoch: 11 | Loss: 0.4433646923111331\n",
      "Epoch: 12 | Loss: 0.4104060655640018\n",
      "Epoch: 13 | Loss: 0.3793143572345857\n",
      "Epoch: 14 | Loss: 0.35011956864787686\n",
      "Epoch: 15 | Loss: 0.32264162551972175\n",
      "Epoch: 16 | Loss: 0.2968511490091201\n",
      "Epoch: 17 | Loss: 0.27268480725826755\n",
      "Epoch: 18 | Loss: 0.25015486728760505\n",
      "Epoch: 19 | Loss: 0.22908889814730612\n",
      "Epoch: 20 | Loss: 0.20947144300706924\n",
      "-------------Finish pretraining the model!-------------\n",
      "Total Training Epochs: 20\n"
     ]
    }
   ],
   "source": [
    "ae.train()"
   ]
  },
  {
   "cell_type": "code",
   "execution_count": null,
   "metadata": {},
   "outputs": [],
   "source": []
  }
 ],
 "metadata": {
  "interpreter": {
   "hash": "ae9760cdd588bae5d79478c2ca557d494cf2439e86051e1349e9fe3243ac2594"
  },
  "kernelspec": {
   "display_name": "Python 3.7.6 ('.venv': venv)",
   "language": "python",
   "name": "python3"
  },
  "language_info": {
   "codemirror_mode": {
    "name": "ipython",
    "version": 3
   },
   "file_extension": ".py",
   "mimetype": "text/x-python",
   "name": "python",
   "nbconvert_exporter": "python",
   "pygments_lexer": "ipython3",
   "version": "3.7.6"
  },
  "orig_nbformat": 4
 },
 "nbformat": 4,
 "nbformat_minor": 2
}
